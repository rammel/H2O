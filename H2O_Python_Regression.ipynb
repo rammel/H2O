{
 "cells": [
  {
   "cell_type": "markdown",
   "metadata": {
    "toc": true
   },
   "source": [
    "<h1>Table of Contents<span class=\"tocSkip\"></span></h1>\n",
    "<div class=\"toc\"><ul class=\"toc-item\"><li><span><a href=\"#Problem-Statement\" data-toc-modified-id=\"Problem-Statement-1\"><span class=\"toc-item-num\">1&nbsp;&nbsp;</span>Problem Statement</a></span></li><li><span><a href=\"#Import-H2o-module\" data-toc-modified-id=\"Import-H2o-module-2\"><span class=\"toc-item-num\">2&nbsp;&nbsp;</span>Import H2o module</a></span></li><li><span><a href=\"#Load-data-into-h2o\" data-toc-modified-id=\"Load-data-into-h2o-3\"><span class=\"toc-item-num\">3&nbsp;&nbsp;</span>Load data into h2o</a></span></li><li><span><a href=\"#Data-Understanding\" data-toc-modified-id=\"Data-Understanding-4\"><span class=\"toc-item-num\">4&nbsp;&nbsp;</span>Data Understanding</a></span><ul class=\"toc-item\"><li><span><a href=\"#Removing-outliers\" data-toc-modified-id=\"Removing-outliers-4.1\"><span class=\"toc-item-num\">4.1&nbsp;&nbsp;</span>Removing outliers</a></span></li><li><span><a href=\"#Handling-null-values\" data-toc-modified-id=\"Handling-null-values-4.2\"><span class=\"toc-item-num\">4.2&nbsp;&nbsp;</span>Handling null values</a></span></li><li><span><a href=\"#Imputing-the-data-with-central-tendencies\" data-toc-modified-id=\"Imputing-the-data-with-central-tendencies-4.3\"><span class=\"toc-item-num\">4.3&nbsp;&nbsp;</span>Imputing the data with central tendencies</a></span></li><li><span><a href=\"#Train-Test-Validation-split\" data-toc-modified-id=\"Train-Test-Validation-split-4.4\"><span class=\"toc-item-num\">4.4&nbsp;&nbsp;</span>Train-Test-Validation split</a></span></li></ul></li><li><span><a href=\"#Gradient-Boosting-Algorithm\" data-toc-modified-id=\"Gradient-Boosting-Algorithm-5\"><span class=\"toc-item-num\">5&nbsp;&nbsp;</span>Gradient Boosting Algorithm</a></span><ul class=\"toc-item\"><li><span><a href=\"#Variable-Importances\" data-toc-modified-id=\"Variable-Importances-5.1\"><span class=\"toc-item-num\">5.1&nbsp;&nbsp;</span>Variable Importances</a></span></li><li><span><a href=\"#Evaluation-of-GBM-model-on-the-train-and-validation-data\" data-toc-modified-id=\"Evaluation-of-GBM-model-on-the-train-and-validation-data-5.2\"><span class=\"toc-item-num\">5.2&nbsp;&nbsp;</span>Evaluation of GBM model on the train and validation data</a></span></li><li><span><a href=\"#Evaluation-of-GBM-model-on-the-test-data\" data-toc-modified-id=\"Evaluation-of-GBM-model-on-the-test-data-5.3\"><span class=\"toc-item-num\">5.3&nbsp;&nbsp;</span>Evaluation of GBM model on the test data</a></span></li><li><span><a href=\"#GBM-Model-Grid-Search\" data-toc-modified-id=\"GBM-Model-Grid-Search-5.4\"><span class=\"toc-item-num\">5.4&nbsp;&nbsp;</span>GBM Model Grid Search</a></span></li><li><span><a href=\"#Getting-the-best-model-hyper-parameters-from-GBM-grid-search\" data-toc-modified-id=\"Getting-the-best-model-hyper-parameters-from-GBM-grid-search-5.5\"><span class=\"toc-item-num\">5.5&nbsp;&nbsp;</span>Getting the best model hyper parameters from GBM grid search</a></span></li><li><span><a href=\"#Evaluation-of-GBM-model-on-the-train-and-validation-data\" data-toc-modified-id=\"Evaluation-of-GBM-model-on-the-train-and-validation-data-5.6\"><span class=\"toc-item-num\">5.6&nbsp;&nbsp;</span>Evaluation of GBM model on the train and validation data</a></span></li><li><span><a href=\"#Evaluation-of-GBM-model-on-the-test-data\" data-toc-modified-id=\"Evaluation-of-GBM-model-on-the-test-data-5.7\"><span class=\"toc-item-num\">5.7&nbsp;&nbsp;</span>Evaluation of GBM model on the test data</a></span></li><li><span><a href=\"#Random-Grid-Search\" data-toc-modified-id=\"Random-Grid-Search-5.8\"><span class=\"toc-item-num\">5.8&nbsp;&nbsp;</span>Random Grid Search</a></span></li></ul></li><li><span><a href=\"#Generalized-Linear-Models\" data-toc-modified-id=\"Generalized-Linear-Models-6\"><span class=\"toc-item-num\">6&nbsp;&nbsp;</span>Generalized Linear Models</a></span><ul class=\"toc-item\"><li><span><a href=\"#Evaluating-the-GLM-model-on-train-and-validation-data\" data-toc-modified-id=\"Evaluating-the-GLM-model-on-train-and-validation-data-6.1\"><span class=\"toc-item-num\">6.1&nbsp;&nbsp;</span>Evaluating the GLM model on train and validation data</a></span></li><li><span><a href=\"#Evaluating-the-GLM-model-on-test-data\" data-toc-modified-id=\"Evaluating-the-GLM-model-on-test-data-6.2\"><span class=\"toc-item-num\">6.2&nbsp;&nbsp;</span>Evaluating the GLM model on test data</a></span></li><li><span><a href=\"#GLM-random-grid-search\" data-toc-modified-id=\"GLM-random-grid-search-6.3\"><span class=\"toc-item-num\">6.3&nbsp;&nbsp;</span>GLM random grid search</a></span></li><li><span><a href=\"#Evaluating-the-GLM-model-on-train-and-validation-data\" data-toc-modified-id=\"Evaluating-the-GLM-model-on-train-and-validation-data-6.4\"><span class=\"toc-item-num\">6.4&nbsp;&nbsp;</span>Evaluating the GLM model on train and validation data</a></span></li><li><span><a href=\"#Evaluating-the-GLM-model-on-test-data\" data-toc-modified-id=\"Evaluating-the-GLM-model-on-test-data-6.5\"><span class=\"toc-item-num\">6.5&nbsp;&nbsp;</span>Evaluating the GLM model on test data</a></span></li></ul></li><li><span><a href=\"#Random-Forest\" data-toc-modified-id=\"Random-Forest-7\"><span class=\"toc-item-num\">7&nbsp;&nbsp;</span>Random Forest</a></span><ul class=\"toc-item\"><li><span><a href=\"#Evaluating-the-RF-model-on-train-and-validation-data\" data-toc-modified-id=\"Evaluating-the-RF-model-on-train-and-validation-data-7.1\"><span class=\"toc-item-num\">7.1&nbsp;&nbsp;</span>Evaluating the RF model on train and validation data</a></span></li><li><span><a href=\"#Evaluating-the-RF-model-on-test-data\" data-toc-modified-id=\"Evaluating-the-RF-model-on-test-data-7.2\"><span class=\"toc-item-num\">7.2&nbsp;&nbsp;</span>Evaluating the RF model on test data</a></span></li><li><span><a href=\"#Random-Forest-random-Grid-search\" data-toc-modified-id=\"Random-Forest-random-Grid-search-7.3\"><span class=\"toc-item-num\">7.3&nbsp;&nbsp;</span>Random Forest random Grid search</a></span></li><li><span><a href=\"#Evaluating-the-Random-Forest-model-on-train-and-validation-data\" data-toc-modified-id=\"Evaluating-the-Random-Forest-model-on-train-and-validation-data-7.4\"><span class=\"toc-item-num\">7.4&nbsp;&nbsp;</span>Evaluating the Random Forest model on train and validation data</a></span></li><li><span><a href=\"#Evaluating-the-Random-Forest-model-on-test-data\" data-toc-modified-id=\"Evaluating-the-Random-Forest-model-on-test-data-7.5\"><span class=\"toc-item-num\">7.5&nbsp;&nbsp;</span>Evaluating the Random Forest model on test data</a></span></li></ul></li><li><span><a href=\"#Shutdown-H2o-Cluster\" data-toc-modified-id=\"Shutdown-H2o-Cluster-8\"><span class=\"toc-item-num\">8&nbsp;&nbsp;</span>Shutdown H2o Cluster</a></span></li></ul></div>"
   ]
  },
  {
   "cell_type": "markdown",
   "metadata": {},
   "source": [
    "# Problem Statement\n",
    "\n",
    "A large child education toy company which sells edutainment tablets and gaming systems\n",
    "both online and in retail stores wanted to analyze the customer data. They are operating\n",
    "from last few years and maintaining all transactional information data. The given data\n",
    "‘CustomerData.csv’ is a sample of customer level data extracted and processed for the\n",
    "analysis from various set of transactional files.\n",
    "\n",
    "The objectives of today’s activity are :\n",
    "* Building a regression model to predict the customer revenue based on other factors and understand the influence of other attributes on revenue"
   ]
  },
  {
   "cell_type": "markdown",
   "metadata": {},
   "source": [
    "# Import H2o module"
   ]
  },
  {
   "cell_type": "code",
   "execution_count": 1,
   "metadata": {},
   "outputs": [],
   "source": [
    "import h2o"
   ]
  },
  {
   "cell_type": "code",
   "execution_count": 2,
   "metadata": {},
   "outputs": [
    {
     "name": "stdout",
     "output_type": "stream",
     "text": [
      "Checking whether there is an H2O instance running at http://localhost:54321 ..... not found.\n",
      "Attempting to start a local H2O server...\n",
      "  Java Version: openjdk version \"14.0.1\" 2020-04-14; OpenJDK Runtime Environment (build 14.0.1+7-Ubuntu-1ubuntu1); OpenJDK 64-Bit Server VM (build 14.0.1+7-Ubuntu-1ubuntu1, mixed mode, sharing)\n",
      "  Starting server from /home/jeevan/anaconda3/envs/h2o/lib/python3.8/site-packages/h2o/backend/bin/h2o.jar\n",
      "  Ice root: /tmp/tmp52j69wq5\n",
      "  JVM stdout: /tmp/tmp52j69wq5/h2o_jeevan_started_from_python.out\n",
      "  JVM stderr: /tmp/tmp52j69wq5/h2o_jeevan_started_from_python.err\n",
      "  Server is running at http://127.0.0.1:54321\n",
      "Connecting to H2O server at http://127.0.0.1:54321 ... successful.\n"
     ]
    },
    {
     "data": {
      "text/html": [
       "<div style=\"overflow:auto\"><table style=\"width:50%\"><tr><td>H2O_cluster_uptime:</td>\n",
       "<td>01 secs</td></tr>\n",
       "<tr><td>H2O_cluster_timezone:</td>\n",
       "<td>Asia/Kolkata</td></tr>\n",
       "<tr><td>H2O_data_parsing_timezone:</td>\n",
       "<td>UTC</td></tr>\n",
       "<tr><td>H2O_cluster_version:</td>\n",
       "<td>3.30.1.2</td></tr>\n",
       "<tr><td>H2O_cluster_version_age:</td>\n",
       "<td>26 days </td></tr>\n",
       "<tr><td>H2O_cluster_name:</td>\n",
       "<td>H2O_from_python_jeevan_bo26o1</td></tr>\n",
       "<tr><td>H2O_cluster_total_nodes:</td>\n",
       "<td>1</td></tr>\n",
       "<tr><td>H2O_cluster_free_memory:</td>\n",
       "<td>3.887 Gb</td></tr>\n",
       "<tr><td>H2O_cluster_total_cores:</td>\n",
       "<td>4</td></tr>\n",
       "<tr><td>H2O_cluster_allowed_cores:</td>\n",
       "<td>4</td></tr>\n",
       "<tr><td>H2O_cluster_status:</td>\n",
       "<td>accepting new members, healthy</td></tr>\n",
       "<tr><td>H2O_connection_url:</td>\n",
       "<td>http://127.0.0.1:54321</td></tr>\n",
       "<tr><td>H2O_connection_proxy:</td>\n",
       "<td>{\"http\": null, \"https\": null}</td></tr>\n",
       "<tr><td>H2O_internal_security:</td>\n",
       "<td>False</td></tr>\n",
       "<tr><td>H2O_API_Extensions:</td>\n",
       "<td>Amazon S3, XGBoost, Algos, AutoML, Core V3, TargetEncoder, Core V4</td></tr>\n",
       "<tr><td>Python_version:</td>\n",
       "<td>3.8.5 final</td></tr></table></div>"
      ],
      "text/plain": [
       "--------------------------  ------------------------------------------------------------------\n",
       "H2O_cluster_uptime:         01 secs\n",
       "H2O_cluster_timezone:       Asia/Kolkata\n",
       "H2O_data_parsing_timezone:  UTC\n",
       "H2O_cluster_version:        3.30.1.2\n",
       "H2O_cluster_version_age:    26 days\n",
       "H2O_cluster_name:           H2O_from_python_jeevan_bo26o1\n",
       "H2O_cluster_total_nodes:    1\n",
       "H2O_cluster_free_memory:    3.887 Gb\n",
       "H2O_cluster_total_cores:    4\n",
       "H2O_cluster_allowed_cores:  4\n",
       "H2O_cluster_status:         accepting new members, healthy\n",
       "H2O_connection_url:         http://127.0.0.1:54321\n",
       "H2O_connection_proxy:       {\"http\": null, \"https\": null}\n",
       "H2O_internal_security:      False\n",
       "H2O_API_Extensions:         Amazon S3, XGBoost, Algos, AutoML, Core V3, TargetEncoder, Core V4\n",
       "Python_version:             3.8.5 final\n",
       "--------------------------  ------------------------------------------------------------------"
      ]
     },
     "metadata": {},
     "output_type": "display_data"
    }
   ],
   "source": [
    "h2o.init()"
   ]
  },
  {
   "cell_type": "markdown",
   "metadata": {},
   "source": [
    "Connected h2o Cluster Status Summary"
   ]
  },
  {
   "cell_type": "code",
   "execution_count": 3,
   "metadata": {
    "scrolled": true
   },
   "outputs": [
    {
     "data": {
      "text/html": [
       "<div style=\"overflow:auto\"><table style=\"width:50%\"><tr><td>H2O_cluster_uptime:</td>\n",
       "<td>01 secs</td></tr>\n",
       "<tr><td>H2O_cluster_timezone:</td>\n",
       "<td>Asia/Kolkata</td></tr>\n",
       "<tr><td>H2O_data_parsing_timezone:</td>\n",
       "<td>UTC</td></tr>\n",
       "<tr><td>H2O_cluster_version:</td>\n",
       "<td>3.30.1.2</td></tr>\n",
       "<tr><td>H2O_cluster_version_age:</td>\n",
       "<td>26 days </td></tr>\n",
       "<tr><td>H2O_cluster_name:</td>\n",
       "<td>H2O_from_python_jeevan_bo26o1</td></tr>\n",
       "<tr><td>H2O_cluster_total_nodes:</td>\n",
       "<td>1</td></tr>\n",
       "<tr><td>H2O_cluster_free_memory:</td>\n",
       "<td>3.887 Gb</td></tr>\n",
       "<tr><td>H2O_cluster_total_cores:</td>\n",
       "<td>4</td></tr>\n",
       "<tr><td>H2O_cluster_allowed_cores:</td>\n",
       "<td>4</td></tr>\n",
       "<tr><td>H2O_cluster_status:</td>\n",
       "<td>accepting new members, healthy</td></tr>\n",
       "<tr><td>H2O_connection_url:</td>\n",
       "<td>http://127.0.0.1:54321</td></tr>\n",
       "<tr><td>H2O_connection_proxy:</td>\n",
       "<td>{\"http\": null, \"https\": null}</td></tr>\n",
       "<tr><td>H2O_internal_security:</td>\n",
       "<td>False</td></tr>\n",
       "<tr><td>H2O_API_Extensions:</td>\n",
       "<td>Amazon S3, XGBoost, Algos, AutoML, Core V3, TargetEncoder, Core V4</td></tr>\n",
       "<tr><td>Python_version:</td>\n",
       "<td>3.8.5 final</td></tr></table></div>"
      ],
      "text/plain": [
       "--------------------------  ------------------------------------------------------------------\n",
       "H2O_cluster_uptime:         01 secs\n",
       "H2O_cluster_timezone:       Asia/Kolkata\n",
       "H2O_data_parsing_timezone:  UTC\n",
       "H2O_cluster_version:        3.30.1.2\n",
       "H2O_cluster_version_age:    26 days\n",
       "H2O_cluster_name:           H2O_from_python_jeevan_bo26o1\n",
       "H2O_cluster_total_nodes:    1\n",
       "H2O_cluster_free_memory:    3.887 Gb\n",
       "H2O_cluster_total_cores:    4\n",
       "H2O_cluster_allowed_cores:  4\n",
       "H2O_cluster_status:         accepting new members, healthy\n",
       "H2O_connection_url:         http://127.0.0.1:54321\n",
       "H2O_connection_proxy:       {\"http\": null, \"https\": null}\n",
       "H2O_internal_security:      False\n",
       "H2O_API_Extensions:         Amazon S3, XGBoost, Algos, AutoML, Core V3, TargetEncoder, Core V4\n",
       "Python_version:             3.8.5 final\n",
       "--------------------------  ------------------------------------------------------------------"
      ]
     },
     "metadata": {},
     "output_type": "display_data"
    }
   ],
   "source": [
    "h2o.cluster().show_status()"
   ]
  },
  {
   "cell_type": "markdown",
   "metadata": {},
   "source": [
    "# Load data into h2o"
   ]
  },
  {
   "cell_type": "code",
   "execution_count": 4,
   "metadata": {},
   "outputs": [
    {
     "name": "stdout",
     "output_type": "stream",
     "text": [
      "Parse progress: |█████████████████████████████████████████████████████████| 100%\n"
     ]
    }
   ],
   "source": [
    "data = h2o.import_file(path=\"data/CustomerData.csv\",destination_frame = \"data.hex\")"
   ]
  },
  {
   "cell_type": "markdown",
   "metadata": {},
   "source": [
    "# Data Understanding"
   ]
  },
  {
   "cell_type": "markdown",
   "metadata": {},
   "source": [
    "Checking the type of variable"
   ]
  },
  {
   "cell_type": "code",
   "execution_count": 5,
   "metadata": {},
   "outputs": [
    {
     "data": {
      "text/plain": [
       "h2o.frame.H2OFrame"
      ]
     },
     "execution_count": 5,
     "metadata": {},
     "output_type": "execute_result"
    }
   ],
   "source": [
    "type(data)"
   ]
  },
  {
   "cell_type": "code",
   "execution_count": 6,
   "metadata": {},
   "outputs": [
    {
     "data": {
      "text/html": [
       "<div>\n",
       "<style scoped>\n",
       "    .dataframe tbody tr th:only-of-type {\n",
       "        vertical-align: middle;\n",
       "    }\n",
       "\n",
       "    .dataframe tbody tr th {\n",
       "        vertical-align: top;\n",
       "    }\n",
       "\n",
       "    .dataframe thead th {\n",
       "        text-align: right;\n",
       "    }\n",
       "</style>\n",
       "<table border=\"1\" class=\"dataframe\">\n",
       "  <thead>\n",
       "    <tr style=\"text-align: right;\">\n",
       "      <th></th>\n",
       "      <th>key</th>\n",
       "    </tr>\n",
       "  </thead>\n",
       "  <tbody>\n",
       "    <tr>\n",
       "      <th>0</th>\n",
       "      <td>data.hex</td>\n",
       "    </tr>\n",
       "  </tbody>\n",
       "</table>\n",
       "</div>"
      ],
      "text/plain": [
       "        key\n",
       "0  data.hex"
      ]
     },
     "execution_count": 6,
     "metadata": {},
     "output_type": "execute_result"
    }
   ],
   "source": [
    "h2o.ls()"
   ]
  },
  {
   "cell_type": "markdown",
   "metadata": {},
   "source": [
    "Check the dimensions of data"
   ]
  },
  {
   "cell_type": "code",
   "execution_count": 7,
   "metadata": {},
   "outputs": [
    {
     "data": {
      "text/plain": [
       "(3211, 14)"
      ]
     },
     "execution_count": 7,
     "metadata": {},
     "output_type": "execute_result"
    }
   ],
   "source": [
    "data.shape"
   ]
  },
  {
   "cell_type": "markdown",
   "metadata": {},
   "source": [
    "Summary tatistic"
   ]
  },
  {
   "cell_type": "code",
   "execution_count": 8,
   "metadata": {},
   "outputs": [
    {
     "name": "stdout",
     "output_type": "stream",
     "text": [
      "Rows:3211\n",
      "Cols:14\n",
      "\n",
      "\n"
     ]
    },
    {
     "data": {
      "text/html": [
       "<table>\n",
       "<thead>\n",
       "<tr><th>       </th><th>CustomerID       </th><th>City               </th><th>NoOfChildren      </th><th>MinAgeOfChild     </th><th>MaxAgeOfChild    </th><th>Tenure            </th><th>FrquncyOfPurchase  </th><th>NoOfUnitsPurchased  </th><th>FrequencyOFPlay   </th><th>NoOfGamesPlayed  </th><th>NoOfGamesBought  </th><th>FavoriteChannelOfTransaction  </th><th>FavoriteGame  </th><th>TotalRevenueGenerated  </th></tr>\n",
       "</thead>\n",
       "<tbody>\n",
       "<tr><td>type   </td><td>int              </td><td>int                </td><td>int               </td><td>int               </td><td>int              </td><td>int               </td><td>int                </td><td>int                 </td><td>int               </td><td>int              </td><td>int              </td><td>enum                          </td><td>enum          </td><td>real                   </td></tr>\n",
       "<tr><td>mins   </td><td>1001.0           </td><td>1.0                </td><td>1.0               </td><td>0.0               </td><td>2.0              </td><td>100.0             </td><td>1.0                </td><td>1.0                 </td><td>0.0               </td><td>0.0              </td><td>0.0              </td><td>                              </td><td>              </td><td>100.0                  </td></tr>\n",
       "<tr><td>mean   </td><td>2606.0           </td><td>1.113983182809094  </td><td>2.128308938025537 </td><td>4.959514170040485 </td><td>7.987231392089689</td><td>347.52507007162876</td><td>16.27499221426347  </td><td>14.685456244160697  </td><td>1567.526938648396 </td><td>93.61164746184987</td><td>14.76798505138586</td><td>                              </td><td>              </td><td>168.45508564310185     </td></tr>\n",
       "<tr><td>maxs   </td><td>4211.0           </td><td>2.0                </td><td>11.0              </td><td>113.0             </td><td>113.0            </td><td>472.0             </td><td>119.0              </td><td>112.0               </td><td>27829.0           </td><td>1166.0           </td><td>115.0            </td><td>                              </td><td>              </td><td>990.56                 </td></tr>\n",
       "<tr><td>sigma  </td><td>927.0801835152483</td><td>0.31784033447906956</td><td>1.0350759175030848</td><td>3.7134401362504366</td><td>8.782425038668798</td><td>90.49608644032811 </td><td>8.44185134710426   </td><td>7.180024011071591   </td><td>1810.2718634076548</td><td>88.92184381051696</td><td>8.774896026103976</td><td>                              </td><td>              </td><td>81.77807743133202      </td></tr>\n",
       "<tr><td>zeros  </td><td>0                </td><td>0                  </td><td>0                 </td><td>4                 </td><td>0                </td><td>0                 </td><td>0                  </td><td>0                   </td><td>34                </td><td>30               </td><td>78               </td><td>                              </td><td>              </td><td>0                      </td></tr>\n",
       "<tr><td>missing</td><td>0                </td><td>0                  </td><td>0                 </td><td>0                 </td><td>0                </td><td>0                 </td><td>0                  </td><td>0                   </td><td>0                 </td><td>0                </td><td>0                </td><td>0                             </td><td>0             </td><td>0                      </td></tr>\n",
       "<tr><td>0      </td><td>1001.0           </td><td>1.0                </td><td>2.0               </td><td>3.0               </td><td>8.0              </td><td>210.0             </td><td>11.0               </td><td>11.0                </td><td>2344.0            </td><td>108.0            </td><td>10.0             </td><td>Uniform                       </td><td>Uniform       </td><td>107.51                 </td></tr>\n",
       "<tr><td>1      </td><td>1002.0           </td><td>1.0                </td><td>2.0               </td><td>3.0               </td><td>6.0              </td><td>442.0             </td><td>20.0               </td><td>20.0                </td><td>245.0             </td><td>22.0             </td><td>7.0              </td><td>Favorite                      </td><td>Uniform       </td><td>382.4                  </td></tr>\n",
       "<tr><td>2      </td><td>1003.0           </td><td>1.0                </td><td>4.0               </td><td>3.0               </td><td>5.0              </td><td>424.0             </td><td>18.0               </td><td>18.0                </td><td>1059.0            </td><td>130.0            </td><td>18.0             </td><td>Favorite                      </td><td>Uniform       </td><td>135.01                 </td></tr>\n",
       "<tr><td>3      </td><td>1004.0           </td><td>1.0                </td><td>1.0               </td><td>6.0               </td><td>6.0              </td><td>261.0             </td><td>11.0               </td><td>9.0                 </td><td>365.0             </td><td>34.0             </td><td>11.0             </td><td>Favorite                      </td><td>Uniform       </td><td>125.0                  </td></tr>\n",
       "<tr><td>4      </td><td>1005.0           </td><td>1.0                </td><td>3.0               </td><td>6.0               </td><td>9.0              </td><td>422.0             </td><td>44.0               </td><td>31.0                </td><td>1066.0            </td><td>102.0            </td><td>44.0             </td><td>Uniform                       </td><td>Uniform       </td><td>335.05                 </td></tr>\n",
       "<tr><td>5      </td><td>1006.0           </td><td>1.0                </td><td>2.0               </td><td>3.0               </td><td>4.0              </td><td>378.0             </td><td>16.0               </td><td>16.0                </td><td>228.0             </td><td>12.0             </td><td>16.0             </td><td>Favorite                      </td><td>Favorite      </td><td>150.0                  </td></tr>\n",
       "<tr><td>6      </td><td>1007.0           </td><td>1.0                </td><td>3.0               </td><td>8.0               </td><td>12.0             </td><td>369.0             </td><td>25.0               </td><td>15.0                </td><td>75.0              </td><td>2.0              </td><td>25.0             </td><td>Favorite                      </td><td>Favorite      </td><td>127.5                  </td></tr>\n",
       "<tr><td>7      </td><td>1008.0           </td><td>1.0                </td><td>2.0               </td><td>6.0               </td><td>8.0              </td><td>404.0             </td><td>13.0               </td><td>12.0                </td><td>1488.0            </td><td>118.0            </td><td>13.0             </td><td>Favorite                      </td><td>Uniform       </td><td>122.5                  </td></tr>\n",
       "<tr><td>8      </td><td>1009.0           </td><td>1.0                </td><td>4.0               </td><td>6.0               </td><td>9.0              </td><td>420.0             </td><td>20.0               </td><td>16.0                </td><td>2743.0            </td><td>163.0            </td><td>16.0             </td><td>Uniform                       </td><td>Uniform       </td><td>164.96                 </td></tr>\n",
       "<tr><td>9      </td><td>1010.0           </td><td>2.0                </td><td>3.0               </td><td>5.0               </td><td>6.0              </td><td>333.0             </td><td>15.0               </td><td>15.0                </td><td>1967.0            </td><td>56.0             </td><td>15.0             </td><td>Favorite                      </td><td>Uniform       </td><td>112.62                 </td></tr>\n",
       "</tbody>\n",
       "</table>"
      ]
     },
     "metadata": {},
     "output_type": "display_data"
    }
   ],
   "source": [
    "data.describe()"
   ]
  },
  {
   "cell_type": "markdown",
   "metadata": {},
   "source": [
    "Display the data type of each of the variable"
   ]
  },
  {
   "cell_type": "code",
   "execution_count": 9,
   "metadata": {},
   "outputs": [
    {
     "data": {
      "text/plain": [
       "{'CustomerID': 'int',\n",
       " 'City': 'int',\n",
       " 'NoOfChildren': 'int',\n",
       " 'MinAgeOfChild': 'int',\n",
       " 'MaxAgeOfChild': 'int',\n",
       " 'Tenure': 'int',\n",
       " 'FrquncyOfPurchase': 'int',\n",
       " 'NoOfUnitsPurchased': 'int',\n",
       " 'FrequencyOFPlay': 'int',\n",
       " 'NoOfGamesPlayed': 'int',\n",
       " 'NoOfGamesBought': 'int',\n",
       " 'FavoriteChannelOfTransaction': 'enum',\n",
       " 'FavoriteGame': 'enum',\n",
       " 'TotalRevenueGenerated': 'real'}"
      ]
     },
     "execution_count": 9,
     "metadata": {},
     "output_type": "execute_result"
    }
   ],
   "source": [
    "data.types"
   ]
  },
  {
   "cell_type": "markdown",
   "metadata": {},
   "source": [
    "Creating a list with numerical and categorical features names"
   ]
  },
  {
   "cell_type": "code",
   "execution_count": 10,
   "metadata": {},
   "outputs": [],
   "source": [
    "categorical_Features = [\"City\", \"FavoriteChannelOfTransaction\", \"FavoriteGame\"]\n",
    "\n",
    "numerical_Features = ['CustomerID', \"NoOfChildren\", 'MinAgeOfChild', 'MaxAgeOfChild',\n",
    "                      'Tenure', 'FrquncyOfPurchase', 'NoOfUnitsPurchased', 'FrequencyOFPlay',\n",
    "                      'NoOfGamesPlayed', 'NoOfGamesBought', 'TotalRevenueGenerated']"
   ]
  },
  {
   "cell_type": "markdown",
   "metadata": {},
   "source": [
    "Convertring the categorical columns to appropriate data type"
   ]
  },
  {
   "cell_type": "code",
   "execution_count": 11,
   "metadata": {},
   "outputs": [],
   "source": [
    "data[categorical_Features] = data[categorical_Features].asfactor()"
   ]
  },
  {
   "cell_type": "code",
   "execution_count": 12,
   "metadata": {},
   "outputs": [
    {
     "data": {
      "text/plain": [
       "{'CustomerID': 'int',\n",
       " 'City': 'enum',\n",
       " 'NoOfChildren': 'int',\n",
       " 'MinAgeOfChild': 'int',\n",
       " 'MaxAgeOfChild': 'int',\n",
       " 'Tenure': 'int',\n",
       " 'FrquncyOfPurchase': 'int',\n",
       " 'NoOfUnitsPurchased': 'int',\n",
       " 'FrequencyOFPlay': 'int',\n",
       " 'NoOfGamesPlayed': 'int',\n",
       " 'NoOfGamesBought': 'int',\n",
       " 'FavoriteChannelOfTransaction': 'enum',\n",
       " 'FavoriteGame': 'enum',\n",
       " 'TotalRevenueGenerated': 'real'}"
      ]
     },
     "execution_count": 12,
     "metadata": {},
     "output_type": "execute_result"
    }
   ],
   "source": [
    "data.types"
   ]
  },
  {
   "cell_type": "markdown",
   "metadata": {},
   "source": [
    "Checking the unique values in Cutomer ID column"
   ]
  },
  {
   "cell_type": "code",
   "execution_count": 13,
   "metadata": {},
   "outputs": [
    {
     "data": {
      "text/plain": [
       "3211"
      ]
     },
     "execution_count": 13,
     "metadata": {},
     "output_type": "execute_result"
    }
   ],
   "source": [
    "len(data[\"CustomerID\"].unique())"
   ]
  },
  {
   "cell_type": "markdown",
   "metadata": {},
   "source": [
    "Delete CustomerID attribue"
   ]
  },
  {
   "cell_type": "code",
   "execution_count": 14,
   "metadata": {},
   "outputs": [],
   "source": [
    "data = data.drop(\"CustomerID\")"
   ]
  },
  {
   "cell_type": "code",
   "execution_count": 15,
   "metadata": {},
   "outputs": [
    {
     "name": "stdout",
     "output_type": "stream",
     "text": [
      "(3211, 13)\n",
      "['City', 'NoOfChildren', 'MinAgeOfChild', 'MaxAgeOfChild', 'Tenure', 'FrquncyOfPurchase', 'NoOfUnitsPurchased', 'FrequencyOFPlay', 'NoOfGamesPlayed', 'NoOfGamesBought', 'FavoriteChannelOfTransaction', 'FavoriteGame', 'TotalRevenueGenerated']\n"
     ]
    }
   ],
   "source": [
    "print(data.shape)\n",
    "print(data.columns)"
   ]
  },
  {
   "cell_type": "code",
   "execution_count": 16,
   "metadata": {},
   "outputs": [
    {
     "name": "stdout",
     "output_type": "stream",
     "text": [
      "Rows:3211\n",
      "Cols:13\n",
      "\n",
      "\n"
     ]
    },
    {
     "data": {
      "text/html": [
       "<table>\n",
       "<thead>\n",
       "<tr><th>       </th><th>City  </th><th>NoOfChildren      </th><th>MinAgeOfChild     </th><th>MaxAgeOfChild    </th><th>Tenure            </th><th>FrquncyOfPurchase  </th><th>NoOfUnitsPurchased  </th><th>FrequencyOFPlay   </th><th>NoOfGamesPlayed  </th><th>NoOfGamesBought  </th><th>FavoriteChannelOfTransaction  </th><th>FavoriteGame  </th><th>TotalRevenueGenerated  </th></tr>\n",
       "</thead>\n",
       "<tbody>\n",
       "<tr><td>type   </td><td>enum  </td><td>int               </td><td>int               </td><td>int              </td><td>int               </td><td>int                </td><td>int                 </td><td>int               </td><td>int              </td><td>int              </td><td>enum                          </td><td>enum          </td><td>real                   </td></tr>\n",
       "<tr><td>mins   </td><td>      </td><td>1.0               </td><td>0.0               </td><td>2.0              </td><td>100.0             </td><td>1.0                </td><td>1.0                 </td><td>0.0               </td><td>0.0              </td><td>0.0              </td><td>                              </td><td>              </td><td>100.0                  </td></tr>\n",
       "<tr><td>mean   </td><td>      </td><td>2.128308938025537 </td><td>4.959514170040485 </td><td>7.987231392089689</td><td>347.52507007162876</td><td>16.27499221426347  </td><td>14.685456244160697  </td><td>1567.526938648396 </td><td>93.61164746184987</td><td>14.76798505138586</td><td>                              </td><td>              </td><td>168.45508564310185     </td></tr>\n",
       "<tr><td>maxs   </td><td>      </td><td>11.0              </td><td>113.0             </td><td>113.0            </td><td>472.0             </td><td>119.0              </td><td>112.0               </td><td>27829.0           </td><td>1166.0           </td><td>115.0            </td><td>                              </td><td>              </td><td>990.56                 </td></tr>\n",
       "<tr><td>sigma  </td><td>      </td><td>1.0350759175030848</td><td>3.7134401362504366</td><td>8.782425038668798</td><td>90.49608644032811 </td><td>8.44185134710426   </td><td>7.180024011071591   </td><td>1810.2718634076548</td><td>88.92184381051696</td><td>8.774896026103976</td><td>                              </td><td>              </td><td>81.77807743133202      </td></tr>\n",
       "<tr><td>zeros  </td><td>      </td><td>0                 </td><td>4                 </td><td>0                </td><td>0                 </td><td>0                  </td><td>0                   </td><td>34                </td><td>30               </td><td>78               </td><td>                              </td><td>              </td><td>0                      </td></tr>\n",
       "<tr><td>missing</td><td>0     </td><td>0                 </td><td>0                 </td><td>0                </td><td>0                 </td><td>0                  </td><td>0                   </td><td>0                 </td><td>0                </td><td>0                </td><td>0                             </td><td>0             </td><td>0                      </td></tr>\n",
       "<tr><td>0      </td><td>1     </td><td>2.0               </td><td>3.0               </td><td>8.0              </td><td>210.0             </td><td>11.0               </td><td>11.0                </td><td>2344.0            </td><td>108.0            </td><td>10.0             </td><td>Uniform                       </td><td>Uniform       </td><td>107.51                 </td></tr>\n",
       "<tr><td>1      </td><td>1     </td><td>2.0               </td><td>3.0               </td><td>6.0              </td><td>442.0             </td><td>20.0               </td><td>20.0                </td><td>245.0             </td><td>22.0             </td><td>7.0              </td><td>Favorite                      </td><td>Uniform       </td><td>382.4                  </td></tr>\n",
       "<tr><td>2      </td><td>1     </td><td>4.0               </td><td>3.0               </td><td>5.0              </td><td>424.0             </td><td>18.0               </td><td>18.0                </td><td>1059.0            </td><td>130.0            </td><td>18.0             </td><td>Favorite                      </td><td>Uniform       </td><td>135.01                 </td></tr>\n",
       "<tr><td>3      </td><td>1     </td><td>1.0               </td><td>6.0               </td><td>6.0              </td><td>261.0             </td><td>11.0               </td><td>9.0                 </td><td>365.0             </td><td>34.0             </td><td>11.0             </td><td>Favorite                      </td><td>Uniform       </td><td>125.0                  </td></tr>\n",
       "<tr><td>4      </td><td>1     </td><td>3.0               </td><td>6.0               </td><td>9.0              </td><td>422.0             </td><td>44.0               </td><td>31.0                </td><td>1066.0            </td><td>102.0            </td><td>44.0             </td><td>Uniform                       </td><td>Uniform       </td><td>335.05                 </td></tr>\n",
       "<tr><td>5      </td><td>1     </td><td>2.0               </td><td>3.0               </td><td>4.0              </td><td>378.0             </td><td>16.0               </td><td>16.0                </td><td>228.0             </td><td>12.0             </td><td>16.0             </td><td>Favorite                      </td><td>Favorite      </td><td>150.0                  </td></tr>\n",
       "<tr><td>6      </td><td>1     </td><td>3.0               </td><td>8.0               </td><td>12.0             </td><td>369.0             </td><td>25.0               </td><td>15.0                </td><td>75.0              </td><td>2.0              </td><td>25.0             </td><td>Favorite                      </td><td>Favorite      </td><td>127.5                  </td></tr>\n",
       "<tr><td>7      </td><td>1     </td><td>2.0               </td><td>6.0               </td><td>8.0              </td><td>404.0             </td><td>13.0               </td><td>12.0                </td><td>1488.0            </td><td>118.0            </td><td>13.0             </td><td>Favorite                      </td><td>Uniform       </td><td>122.5                  </td></tr>\n",
       "<tr><td>8      </td><td>1     </td><td>4.0               </td><td>6.0               </td><td>9.0              </td><td>420.0             </td><td>20.0               </td><td>16.0                </td><td>2743.0            </td><td>163.0            </td><td>16.0             </td><td>Uniform                       </td><td>Uniform       </td><td>164.96                 </td></tr>\n",
       "<tr><td>9      </td><td>2     </td><td>3.0               </td><td>5.0               </td><td>6.0              </td><td>333.0             </td><td>15.0               </td><td>15.0                </td><td>1967.0            </td><td>56.0             </td><td>15.0             </td><td>Favorite                      </td><td>Uniform       </td><td>112.62                 </td></tr>\n",
       "</tbody>\n",
       "</table>"
      ]
     },
     "metadata": {},
     "output_type": "display_data"
    }
   ],
   "source": [
    "data.describe()"
   ]
  },
  {
   "cell_type": "markdown",
   "metadata": {},
   "source": [
    "Observe that there are transactions with 'MinAgeOfChild' and 'MaxAgeOfChild' greater than 100"
   ]
  },
  {
   "cell_type": "code",
   "execution_count": 17,
   "metadata": {},
   "outputs": [
    {
     "data": {
      "text/html": [
       "<table>\n",
       "<thead>\n",
       "<tr><th style=\"text-align: right;\">  City</th><th style=\"text-align: right;\">  NoOfChildren</th><th style=\"text-align: right;\">  MinAgeOfChild</th><th style=\"text-align: right;\">  MaxAgeOfChild</th><th style=\"text-align: right;\">  Tenure</th><th style=\"text-align: right;\">  FrquncyOfPurchase</th><th style=\"text-align: right;\">  NoOfUnitsPurchased</th><th style=\"text-align: right;\">  FrequencyOFPlay</th><th style=\"text-align: right;\">  NoOfGamesPlayed</th><th style=\"text-align: right;\">  NoOfGamesBought</th><th>FavoriteChannelOfTransaction  </th><th>FavoriteGame  </th><th style=\"text-align: right;\">  TotalRevenueGenerated</th></tr>\n",
       "</thead>\n",
       "<tbody>\n",
       "<tr><td style=\"text-align: right;\">     1</td><td style=\"text-align: right;\">             2</td><td style=\"text-align: right;\">              4</td><td style=\"text-align: right;\">            113</td><td style=\"text-align: right;\">     205</td><td style=\"text-align: right;\">                 17</td><td style=\"text-align: right;\">                  17</td><td style=\"text-align: right;\">              158</td><td style=\"text-align: right;\">               51</td><td style=\"text-align: right;\">                8</td><td>Favorite                      </td><td>Uniform       </td><td style=\"text-align: right;\">                 218.85</td></tr>\n",
       "<tr><td style=\"text-align: right;\">     1</td><td style=\"text-align: right;\">             2</td><td style=\"text-align: right;\">              3</td><td style=\"text-align: right;\">            113</td><td style=\"text-align: right;\">     379</td><td style=\"text-align: right;\">                  6</td><td style=\"text-align: right;\">                   6</td><td style=\"text-align: right;\">              242</td><td style=\"text-align: right;\">               32</td><td style=\"text-align: right;\">                0</td><td>Favorite                      </td><td>Uniform       </td><td style=\"text-align: right;\">                 100.44</td></tr>\n",
       "<tr><td style=\"text-align: right;\">     1</td><td style=\"text-align: right;\">             2</td><td style=\"text-align: right;\">            113</td><td style=\"text-align: right;\">            113</td><td style=\"text-align: right;\">     436</td><td style=\"text-align: right;\">                 26</td><td style=\"text-align: right;\">                  26</td><td style=\"text-align: right;\">            10502</td><td style=\"text-align: right;\">              562</td><td style=\"text-align: right;\">               26</td><td>Favorite                      </td><td>Uniform       </td><td style=\"text-align: right;\">                 300   </td></tr>\n",
       "<tr><td style=\"text-align: right;\">     1</td><td style=\"text-align: right;\">             3</td><td style=\"text-align: right;\">              6</td><td style=\"text-align: right;\">            113</td><td style=\"text-align: right;\">     286</td><td style=\"text-align: right;\">                  6</td><td style=\"text-align: right;\">                   6</td><td style=\"text-align: right;\">             2137</td><td style=\"text-align: right;\">               72</td><td style=\"text-align: right;\">                6</td><td>Favorite                      </td><td>Uniform       </td><td style=\"text-align: right;\">                 102.5 </td></tr>\n",
       "<tr><td style=\"text-align: right;\">     1</td><td style=\"text-align: right;\">             2</td><td style=\"text-align: right;\">              5</td><td style=\"text-align: right;\">            113</td><td style=\"text-align: right;\">     202</td><td style=\"text-align: right;\">                  9</td><td style=\"text-align: right;\">                   8</td><td style=\"text-align: right;\">              483</td><td style=\"text-align: right;\">               68</td><td style=\"text-align: right;\">                9</td><td>Favorite                      </td><td>Uniform       </td><td style=\"text-align: right;\">                 105   </td></tr>\n",
       "<tr><td style=\"text-align: right;\">     1</td><td style=\"text-align: right;\">             2</td><td style=\"text-align: right;\">              5</td><td style=\"text-align: right;\">            113</td><td style=\"text-align: right;\">     355</td><td style=\"text-align: right;\">                 16</td><td style=\"text-align: right;\">                  16</td><td style=\"text-align: right;\">             1700</td><td style=\"text-align: right;\">              142</td><td style=\"text-align: right;\">               10</td><td>Favorite                      </td><td>Uniform       </td><td style=\"text-align: right;\">                 270   </td></tr>\n",
       "<tr><td style=\"text-align: right;\">     1</td><td style=\"text-align: right;\">             3</td><td style=\"text-align: right;\">              6</td><td style=\"text-align: right;\">            113</td><td style=\"text-align: right;\">     432</td><td style=\"text-align: right;\">                 12</td><td style=\"text-align: right;\">                  12</td><td style=\"text-align: right;\">             2261</td><td style=\"text-align: right;\">              194</td><td style=\"text-align: right;\">               12</td><td>Favorite                      </td><td>Uniform       </td><td style=\"text-align: right;\">                 160   </td></tr>\n",
       "<tr><td style=\"text-align: right;\">     1</td><td style=\"text-align: right;\">             3</td><td style=\"text-align: right;\">              5</td><td style=\"text-align: right;\">            113</td><td style=\"text-align: right;\">     405</td><td style=\"text-align: right;\">                 16</td><td style=\"text-align: right;\">                  14</td><td style=\"text-align: right;\">             4438</td><td style=\"text-align: right;\">              130</td><td style=\"text-align: right;\">               16</td><td>Uniform                       </td><td>Uniform       </td><td style=\"text-align: right;\">                 117.5 </td></tr>\n",
       "<tr><td style=\"text-align: right;\">     1</td><td style=\"text-align: right;\">             3</td><td style=\"text-align: right;\">              4</td><td style=\"text-align: right;\">            113</td><td style=\"text-align: right;\">     171</td><td style=\"text-align: right;\">                 15</td><td style=\"text-align: right;\">                  11</td><td style=\"text-align: right;\">             1728</td><td style=\"text-align: right;\">               41</td><td style=\"text-align: right;\">               15</td><td>Favorite                      </td><td>Uniform       </td><td style=\"text-align: right;\">                 107.5 </td></tr>\n",
       "<tr><td style=\"text-align: right;\">     1</td><td style=\"text-align: right;\">             2</td><td style=\"text-align: right;\">              6</td><td style=\"text-align: right;\">            113</td><td style=\"text-align: right;\">     187</td><td style=\"text-align: right;\">                 10</td><td style=\"text-align: right;\">                   9</td><td style=\"text-align: right;\">              731</td><td style=\"text-align: right;\">               39</td><td style=\"text-align: right;\">               10</td><td>Uniform                       </td><td>Uniform       </td><td style=\"text-align: right;\">                 115   </td></tr>\n",
       "</tbody>\n",
       "</table>"
      ]
     },
     "metadata": {},
     "output_type": "display_data"
    },
    {
     "data": {
      "text/plain": []
     },
     "execution_count": 17,
     "metadata": {},
     "output_type": "execute_result"
    }
   ],
   "source": [
    "data[(data[\"MinAgeOfChild\"] >= 113) | (data[\"MaxAgeOfChild\"] >= 113)]"
   ]
  },
  {
   "cell_type": "markdown",
   "metadata": {
    "collapsed": true
   },
   "source": [
    "## Removing outliers"
   ]
  },
  {
   "cell_type": "code",
   "execution_count": 18,
   "metadata": {},
   "outputs": [],
   "source": [
    "data = data[(data[\"MinAgeOfChild\"] < 113) & (data[\"MaxAgeOfChild\"] < 113)]"
   ]
  },
  {
   "cell_type": "code",
   "execution_count": 19,
   "metadata": {},
   "outputs": [
    {
     "data": {
      "text/plain": [
       "(3191, 13)"
      ]
     },
     "execution_count": 19,
     "metadata": {},
     "output_type": "execute_result"
    }
   ],
   "source": [
    "data.shape"
   ]
  },
  {
   "cell_type": "code",
   "execution_count": 20,
   "metadata": {},
   "outputs": [
    {
     "data": {
      "text/html": [
       "<table>\n",
       "<thead>\n",
       "<tr><th style=\"text-align: right;\">  isNA(City)</th><th style=\"text-align: right;\">  isNA(NoOfChildren)</th><th style=\"text-align: right;\">  isNA(MinAgeOfChild)</th><th style=\"text-align: right;\">  isNA(MaxAgeOfChild)</th><th style=\"text-align: right;\">  isNA(Tenure)</th><th style=\"text-align: right;\">  isNA(FrquncyOfPurchase)</th><th style=\"text-align: right;\">  isNA(NoOfUnitsPurchased)</th><th style=\"text-align: right;\">  isNA(FrequencyOFPlay)</th><th style=\"text-align: right;\">  isNA(NoOfGamesPlayed)</th><th style=\"text-align: right;\">  isNA(NoOfGamesBought)</th><th style=\"text-align: right;\">  isNA(FavoriteChannelOfTransaction)</th><th style=\"text-align: right;\">  isNA(FavoriteGame)</th><th style=\"text-align: right;\">  isNA(TotalRevenueGenerated)</th></tr>\n",
       "</thead>\n",
       "<tbody>\n",
       "<tr><td style=\"text-align: right;\">           0</td><td style=\"text-align: right;\">                   0</td><td style=\"text-align: right;\">                    0</td><td style=\"text-align: right;\">                    0</td><td style=\"text-align: right;\">             0</td><td style=\"text-align: right;\">                        0</td><td style=\"text-align: right;\">                         0</td><td style=\"text-align: right;\">                      0</td><td style=\"text-align: right;\">                      0</td><td style=\"text-align: right;\">                      0</td><td style=\"text-align: right;\">                                   0</td><td style=\"text-align: right;\">                   0</td><td style=\"text-align: right;\">                            0</td></tr>\n",
       "</tbody>\n",
       "</table>"
      ]
     },
     "metadata": {},
     "output_type": "display_data"
    },
    {
     "data": {
      "text/plain": []
     },
     "execution_count": 20,
     "metadata": {},
     "output_type": "execute_result"
    }
   ],
   "source": [
    "data.isna().apply(lambda x: x.sum())"
   ]
  },
  {
   "cell_type": "markdown",
   "metadata": {},
   "source": [
    "## Handling null values"
   ]
  },
  {
   "cell_type": "markdown",
   "metadata": {},
   "source": [
    "Observation: NA is take as String value, so replace NA with null values"
   ]
  },
  {
   "cell_type": "code",
   "execution_count": 21,
   "metadata": {},
   "outputs": [
    {
     "data": {
      "text/html": [
       "<table>\n",
       "<thead>\n",
       "<tr><th>FavoriteGame  </th><th style=\"text-align: right;\">  Count</th></tr>\n",
       "</thead>\n",
       "<tbody>\n",
       "<tr><td>Favorite      </td><td style=\"text-align: right;\">    125</td></tr>\n",
       "<tr><td>NA            </td><td style=\"text-align: right;\">      1</td></tr>\n",
       "<tr><td>Uniform       </td><td style=\"text-align: right;\">   3065</td></tr>\n",
       "</tbody>\n",
       "</table>"
      ]
     },
     "metadata": {},
     "output_type": "display_data"
    },
    {
     "name": "stdout",
     "output_type": "stream",
     "text": [
      "\n"
     ]
    },
    {
     "data": {
      "text/html": [
       "<table>\n",
       "<thead>\n",
       "<tr><th>FavoriteChannelOfTransaction  </th><th style=\"text-align: right;\">  Count</th></tr>\n",
       "</thead>\n",
       "<tbody>\n",
       "<tr><td>Favorite                      </td><td style=\"text-align: right;\">   2621</td></tr>\n",
       "<tr><td>NA                            </td><td style=\"text-align: right;\">      1</td></tr>\n",
       "<tr><td>Uniform                       </td><td style=\"text-align: right;\">    569</td></tr>\n",
       "</tbody>\n",
       "</table>"
      ]
     },
     "metadata": {},
     "output_type": "display_data"
    },
    {
     "name": "stdout",
     "output_type": "stream",
     "text": [
      "\n"
     ]
    }
   ],
   "source": [
    "print(data['FavoriteGame'].table())\n",
    "print(data['FavoriteChannelOfTransaction'].table())"
   ]
  },
  {
   "cell_type": "code",
   "execution_count": 22,
   "metadata": {},
   "outputs": [],
   "source": [
    "import numpy as np\n",
    "\n",
    "for cols in data.columns:\n",
    "    data[data[cols] == 'NA',cols] = np.nan\n",
    "    data[data[cols] == '',cols] = np.nan\n",
    "    data[data[cols] == None,cols] = np.nan"
   ]
  },
  {
   "cell_type": "markdown",
   "metadata": {},
   "source": [
    "Checking for number null values at column level"
   ]
  },
  {
   "cell_type": "code",
   "execution_count": 23,
   "metadata": {},
   "outputs": [
    {
     "data": {
      "text/html": [
       "<table>\n",
       "<thead>\n",
       "<tr><th style=\"text-align: right;\">  isNA(City)</th><th style=\"text-align: right;\">  isNA(NoOfChildren)</th><th style=\"text-align: right;\">  isNA(MinAgeOfChild)</th><th style=\"text-align: right;\">  isNA(MaxAgeOfChild)</th><th style=\"text-align: right;\">  isNA(Tenure)</th><th style=\"text-align: right;\">  isNA(FrquncyOfPurchase)</th><th style=\"text-align: right;\">  isNA(NoOfUnitsPurchased)</th><th style=\"text-align: right;\">  isNA(FrequencyOFPlay)</th><th style=\"text-align: right;\">  isNA(NoOfGamesPlayed)</th><th style=\"text-align: right;\">  isNA(NoOfGamesBought)</th><th style=\"text-align: right;\">  isNA(FavoriteChannelOfTransaction)</th><th style=\"text-align: right;\">  isNA(FavoriteGame)</th><th style=\"text-align: right;\">  isNA(TotalRevenueGenerated)</th></tr>\n",
       "</thead>\n",
       "<tbody>\n",
       "<tr><td style=\"text-align: right;\">           0</td><td style=\"text-align: right;\">                   0</td><td style=\"text-align: right;\">                    0</td><td style=\"text-align: right;\">                    0</td><td style=\"text-align: right;\">             0</td><td style=\"text-align: right;\">                        0</td><td style=\"text-align: right;\">                         0</td><td style=\"text-align: right;\">                      0</td><td style=\"text-align: right;\">                      0</td><td style=\"text-align: right;\">                      0</td><td style=\"text-align: right;\">                                   1</td><td style=\"text-align: right;\">                   1</td><td style=\"text-align: right;\">                            0</td></tr>\n",
       "</tbody>\n",
       "</table>"
      ]
     },
     "metadata": {},
     "output_type": "display_data"
    },
    {
     "data": {
      "text/plain": []
     },
     "execution_count": 23,
     "metadata": {},
     "output_type": "execute_result"
    }
   ],
   "source": [
    "data.isna().apply(lambda x: x.sum())"
   ]
  },
  {
   "cell_type": "code",
   "execution_count": 24,
   "metadata": {},
   "outputs": [
    {
     "data": {
      "text/html": [
       "<table>\n",
       "<thead>\n",
       "<tr><th>FavoriteGame  </th><th style=\"text-align: right;\">  Count</th></tr>\n",
       "</thead>\n",
       "<tbody>\n",
       "<tr><td>Favorite      </td><td style=\"text-align: right;\">    125</td></tr>\n",
       "<tr><td>Uniform       </td><td style=\"text-align: right;\">   3065</td></tr>\n",
       "</tbody>\n",
       "</table>"
      ]
     },
     "metadata": {},
     "output_type": "display_data"
    },
    {
     "name": "stdout",
     "output_type": "stream",
     "text": [
      "\n"
     ]
    },
    {
     "data": {
      "text/html": [
       "<table>\n",
       "<thead>\n",
       "<tr><th>FavoriteChannelOfTransaction  </th><th style=\"text-align: right;\">  Count</th></tr>\n",
       "</thead>\n",
       "<tbody>\n",
       "<tr><td>Favorite                      </td><td style=\"text-align: right;\">   2621</td></tr>\n",
       "<tr><td>Uniform                       </td><td style=\"text-align: right;\">    569</td></tr>\n",
       "</tbody>\n",
       "</table>"
      ]
     },
     "metadata": {},
     "output_type": "display_data"
    },
    {
     "name": "stdout",
     "output_type": "stream",
     "text": [
      "\n"
     ]
    }
   ],
   "source": [
    "print(data['FavoriteGame'].table())\n",
    "print(data['FavoriteChannelOfTransaction'].table())"
   ]
  },
  {
   "cell_type": "code",
   "execution_count": 25,
   "metadata": {},
   "outputs": [],
   "source": [
    "catFeat = []\n",
    "numFeat = []\n",
    "\n",
    "for cols in data.columns:\n",
    "    if (data[cols].isfactor()[0]):\n",
    "        catFeat.append(cols)\n",
    "    else:\n",
    "        numFeat.append(cols)"
   ]
  },
  {
   "cell_type": "code",
   "execution_count": 26,
   "metadata": {},
   "outputs": [
    {
     "name": "stdout",
     "output_type": "stream",
     "text": [
      "['City', 'FavoriteChannelOfTransaction', 'FavoriteGame']\n",
      "['NoOfChildren', 'MinAgeOfChild', 'MaxAgeOfChild', 'Tenure', 'FrquncyOfPurchase', 'NoOfUnitsPurchased', 'FrequencyOFPlay', 'NoOfGamesPlayed', 'NoOfGamesBought', 'TotalRevenueGenerated']\n"
     ]
    }
   ],
   "source": [
    "# Print the numeric and categorical column list\n",
    "print(catFeat)\n",
    "print(numFeat)"
   ]
  },
  {
   "cell_type": "markdown",
   "metadata": {},
   "source": [
    "## Imputing the data with central tendencies"
   ]
  },
  {
   "cell_type": "markdown",
   "metadata": {},
   "source": [
    "Imputing the categorical columns with mode value"
   ]
  },
  {
   "cell_type": "code",
   "execution_count": 27,
   "metadata": {},
   "outputs": [
    {
     "data": {
      "text/plain": [
       "[0.0, 0.0, 2.0]"
      ]
     },
     "execution_count": 27,
     "metadata": {},
     "output_type": "execute_result"
    }
   ],
   "source": [
    "data[catFeat].impute(method = \"mode\")"
   ]
  },
  {
   "cell_type": "markdown",
   "metadata": {},
   "source": [
    "Imputing the numeric columns with mean value"
   ]
  },
  {
   "cell_type": "code",
   "execution_count": 28,
   "metadata": {},
   "outputs": [
    {
     "data": {
      "text/plain": [
       "[2.1247257912879975,\n",
       " 4.857724851143842,\n",
       " 7.329050454403007,\n",
       " 347.7232842369163,\n",
       " 16.278282670009407,\n",
       " 14.685365089313695,\n",
       " 1565.5766217486682,\n",
       " 93.44562832967722,\n",
       " 14.770604826073331,\n",
       " 168.41890316515202]"
      ]
     },
     "execution_count": 28,
     "metadata": {},
     "output_type": "execute_result"
    }
   ],
   "source": [
    "data[numFeat].impute(method = \"mean\")"
   ]
  },
  {
   "cell_type": "code",
   "execution_count": 29,
   "metadata": {},
   "outputs": [
    {
     "data": {
      "text/html": [
       "<table>\n",
       "<thead>\n",
       "<tr><th>FavoriteGame  </th><th style=\"text-align: right;\">  Count</th></tr>\n",
       "</thead>\n",
       "<tbody>\n",
       "<tr><td>Favorite      </td><td style=\"text-align: right;\">    125</td></tr>\n",
       "<tr><td>Uniform       </td><td style=\"text-align: right;\">   3066</td></tr>\n",
       "</tbody>\n",
       "</table>"
      ]
     },
     "metadata": {},
     "output_type": "display_data"
    },
    {
     "name": "stdout",
     "output_type": "stream",
     "text": [
      "\n"
     ]
    },
    {
     "data": {
      "text/html": [
       "<table>\n",
       "<thead>\n",
       "<tr><th>FavoriteChannelOfTransaction  </th><th style=\"text-align: right;\">  Count</th></tr>\n",
       "</thead>\n",
       "<tbody>\n",
       "<tr><td>Favorite                      </td><td style=\"text-align: right;\">   2622</td></tr>\n",
       "<tr><td>Uniform                       </td><td style=\"text-align: right;\">    569</td></tr>\n",
       "</tbody>\n",
       "</table>"
      ]
     },
     "metadata": {},
     "output_type": "display_data"
    },
    {
     "name": "stdout",
     "output_type": "stream",
     "text": [
      "\n"
     ]
    }
   ],
   "source": [
    "print(data['FavoriteGame'].table())\n",
    "print(data['FavoriteChannelOfTransaction'].table())"
   ]
  },
  {
   "cell_type": "markdown",
   "metadata": {},
   "source": [
    "## Train-Test-Validation split"
   ]
  },
  {
   "cell_type": "code",
   "execution_count": 30,
   "metadata": {},
   "outputs": [],
   "source": [
    "splits = data.split_frame(ratios=[0.7, 0.15], seed=1234)"
   ]
  },
  {
   "cell_type": "code",
   "execution_count": 31,
   "metadata": {},
   "outputs": [],
   "source": [
    "trainData = splits[0]\n",
    "validationData = splits[1]\n",
    "testData = splits[2]"
   ]
  },
  {
   "cell_type": "code",
   "execution_count": 32,
   "metadata": {},
   "outputs": [
    {
     "name": "stdout",
     "output_type": "stream",
     "text": [
      "(2248, 13)\n",
      "(456, 13)\n",
      "(487, 13)\n"
     ]
    }
   ],
   "source": [
    "print(trainData.shape)\n",
    "print(validationData.shape)\n",
    "print(testData.shape)"
   ]
  },
  {
   "cell_type": "code",
   "execution_count": 33,
   "metadata": {},
   "outputs": [],
   "source": [
    "# Set predictor and response variables\n",
    "target = \"TotalRevenueGenerated\"\n",
    "predictors = ['NoOfChildren', 'MinAgeOfChild', 'MaxAgeOfChild', 'Tenure', 'FrquncyOfPurchase',\n",
    "              'NoOfUnitsPurchased', 'FrequencyOFPlay', 'NoOfGamesPlayed', 'NoOfGamesBought',\n",
    "              'FavoriteChannelOfTransaction', 'FavoriteGame']"
   ]
  },
  {
   "cell_type": "markdown",
   "metadata": {},
   "source": [
    "# Gradient Boosting Algorithm"
   ]
  },
  {
   "cell_type": "code",
   "execution_count": 34,
   "metadata": {},
   "outputs": [],
   "source": [
    "from h2o.estimators.gbm import H2OGradientBoostingEstimator\n",
    "\n",
    "# Defining GBM model with random parameters\n",
    "gbmModel = H2OGradientBoostingEstimator(ntrees = 50,\n",
    "                                        max_depth = 5,\n",
    "                                        distribution = \"auto\",\n",
    "                                        learn_rate= 0.1)"
   ]
  },
  {
   "cell_type": "markdown",
   "metadata": {},
   "source": [
    "Training the GBM model"
   ]
  },
  {
   "cell_type": "code",
   "execution_count": 35,
   "metadata": {},
   "outputs": [
    {
     "name": "stdout",
     "output_type": "stream",
     "text": [
      "gbm Model Build progress: |███████████████████████████████████████████████| 100%\n"
     ]
    }
   ],
   "source": [
    "gbmModel.train(x = predictors,\n",
    "               y = target,\n",
    "               training_frame  = trainData,\n",
    "               validation_frame= validationData)"
   ]
  },
  {
   "cell_type": "code",
   "execution_count": 36,
   "metadata": {},
   "outputs": [
    {
     "name": "stdout",
     "output_type": "stream",
     "text": [
      "Model Details\n",
      "=============\n",
      "H2OGradientBoostingEstimator :  Gradient Boosting Machine\n",
      "Model Key:  GBM_model_python_1601471984095_1\n",
      "\n",
      "\n",
      "Model Summary: \n"
     ]
    },
    {
     "data": {
      "text/html": [
       "<div>\n",
       "<style scoped>\n",
       "    .dataframe tbody tr th:only-of-type {\n",
       "        vertical-align: middle;\n",
       "    }\n",
       "\n",
       "    .dataframe tbody tr th {\n",
       "        vertical-align: top;\n",
       "    }\n",
       "\n",
       "    .dataframe thead th {\n",
       "        text-align: right;\n",
       "    }\n",
       "</style>\n",
       "<table border=\"1\" class=\"dataframe\">\n",
       "  <thead>\n",
       "    <tr style=\"text-align: right;\">\n",
       "      <th></th>\n",
       "      <th></th>\n",
       "      <th>number_of_trees</th>\n",
       "      <th>number_of_internal_trees</th>\n",
       "      <th>model_size_in_bytes</th>\n",
       "      <th>min_depth</th>\n",
       "      <th>max_depth</th>\n",
       "      <th>mean_depth</th>\n",
       "      <th>min_leaves</th>\n",
       "      <th>max_leaves</th>\n",
       "      <th>mean_leaves</th>\n",
       "    </tr>\n",
       "  </thead>\n",
       "  <tbody>\n",
       "    <tr>\n",
       "      <th>0</th>\n",
       "      <td></td>\n",
       "      <td>50.0</td>\n",
       "      <td>50.0</td>\n",
       "      <td>14618.0</td>\n",
       "      <td>5.0</td>\n",
       "      <td>5.0</td>\n",
       "      <td>5.0</td>\n",
       "      <td>6.0</td>\n",
       "      <td>27.0</td>\n",
       "      <td>18.54</td>\n",
       "    </tr>\n",
       "  </tbody>\n",
       "</table>\n",
       "</div>"
      ],
      "text/plain": [
       "     number_of_trees  number_of_internal_trees  model_size_in_bytes  \\\n",
       "0               50.0                      50.0              14618.0   \n",
       "\n",
       "   min_depth  max_depth  mean_depth  min_leaves  max_leaves  mean_leaves  \n",
       "0        5.0        5.0         5.0         6.0        27.0        18.54  "
      ]
     },
     "metadata": {},
     "output_type": "display_data"
    },
    {
     "name": "stdout",
     "output_type": "stream",
     "text": [
      "\n",
      "\n",
      "ModelMetricsRegression: gbm\n",
      "** Reported on train data. **\n",
      "\n",
      "MSE: 1278.78803848507\n",
      "RMSE: 35.76014595167461\n",
      "MAE: 25.90968437126947\n",
      "RMSLE: 0.18743860872709803\n",
      "Mean Residual Deviance: 1278.78803848507\n",
      "\n",
      "ModelMetricsRegression: gbm\n",
      "** Reported on validation data. **\n",
      "\n",
      "MSE: 2268.021746033248\n",
      "RMSE: 47.623751910504154\n",
      "MAE: 32.135787730796984\n",
      "RMSLE: 0.2160528878173696\n",
      "Mean Residual Deviance: 2268.021746033248\n",
      "\n",
      "Scoring History: \n"
     ]
    },
    {
     "data": {
      "text/html": [
       "<div>\n",
       "<style scoped>\n",
       "    .dataframe tbody tr th:only-of-type {\n",
       "        vertical-align: middle;\n",
       "    }\n",
       "\n",
       "    .dataframe tbody tr th {\n",
       "        vertical-align: top;\n",
       "    }\n",
       "\n",
       "    .dataframe thead th {\n",
       "        text-align: right;\n",
       "    }\n",
       "</style>\n",
       "<table border=\"1\" class=\"dataframe\">\n",
       "  <thead>\n",
       "    <tr style=\"text-align: right;\">\n",
       "      <th></th>\n",
       "      <th></th>\n",
       "      <th>timestamp</th>\n",
       "      <th>duration</th>\n",
       "      <th>number_of_trees</th>\n",
       "      <th>training_rmse</th>\n",
       "      <th>training_mae</th>\n",
       "      <th>training_deviance</th>\n",
       "      <th>validation_rmse</th>\n",
       "      <th>validation_mae</th>\n",
       "      <th>validation_deviance</th>\n",
       "    </tr>\n",
       "  </thead>\n",
       "  <tbody>\n",
       "    <tr>\n",
       "      <th>0</th>\n",
       "      <td></td>\n",
       "      <td>2020-09-30 18:49:52</td>\n",
       "      <td>0.051 sec</td>\n",
       "      <td>0.0</td>\n",
       "      <td>79.809581</td>\n",
       "      <td>54.889859</td>\n",
       "      <td>6369.569150</td>\n",
       "      <td>89.260308</td>\n",
       "      <td>56.879375</td>\n",
       "      <td>7967.402633</td>\n",
       "    </tr>\n",
       "    <tr>\n",
       "      <th>1</th>\n",
       "      <td></td>\n",
       "      <td>2020-09-30 18:49:52</td>\n",
       "      <td>0.259 sec</td>\n",
       "      <td>1.0</td>\n",
       "      <td>74.367269</td>\n",
       "      <td>51.349117</td>\n",
       "      <td>5530.490772</td>\n",
       "      <td>83.188816</td>\n",
       "      <td>53.128289</td>\n",
       "      <td>6920.379071</td>\n",
       "    </tr>\n",
       "    <tr>\n",
       "      <th>2</th>\n",
       "      <td></td>\n",
       "      <td>2020-09-30 18:49:52</td>\n",
       "      <td>0.303 sec</td>\n",
       "      <td>2.0</td>\n",
       "      <td>69.603760</td>\n",
       "      <td>48.189570</td>\n",
       "      <td>4844.683442</td>\n",
       "      <td>78.125549</td>\n",
       "      <td>49.951356</td>\n",
       "      <td>6103.601444</td>\n",
       "    </tr>\n",
       "    <tr>\n",
       "      <th>3</th>\n",
       "      <td></td>\n",
       "      <td>2020-09-30 18:49:52</td>\n",
       "      <td>0.325 sec</td>\n",
       "      <td>3.0</td>\n",
       "      <td>65.434605</td>\n",
       "      <td>45.432984</td>\n",
       "      <td>4281.687546</td>\n",
       "      <td>73.361631</td>\n",
       "      <td>47.069396</td>\n",
       "      <td>5381.928951</td>\n",
       "    </tr>\n",
       "    <tr>\n",
       "      <th>4</th>\n",
       "      <td></td>\n",
       "      <td>2020-09-30 18:49:52</td>\n",
       "      <td>0.344 sec</td>\n",
       "      <td>4.0</td>\n",
       "      <td>61.837789</td>\n",
       "      <td>43.004229</td>\n",
       "      <td>3823.912095</td>\n",
       "      <td>69.606039</td>\n",
       "      <td>44.813901</td>\n",
       "      <td>4845.000597</td>\n",
       "    </tr>\n",
       "    <tr>\n",
       "      <th>5</th>\n",
       "      <td></td>\n",
       "      <td>2020-09-30 18:49:52</td>\n",
       "      <td>0.363 sec</td>\n",
       "      <td>5.0</td>\n",
       "      <td>58.739839</td>\n",
       "      <td>40.915803</td>\n",
       "      <td>3450.368736</td>\n",
       "      <td>66.148075</td>\n",
       "      <td>42.874422</td>\n",
       "      <td>4375.567761</td>\n",
       "    </tr>\n",
       "    <tr>\n",
       "      <th>6</th>\n",
       "      <td></td>\n",
       "      <td>2020-09-30 18:49:52</td>\n",
       "      <td>0.377 sec</td>\n",
       "      <td>6.0</td>\n",
       "      <td>56.106264</td>\n",
       "      <td>39.122604</td>\n",
       "      <td>3147.912878</td>\n",
       "      <td>63.163330</td>\n",
       "      <td>41.208017</td>\n",
       "      <td>3989.606205</td>\n",
       "    </tr>\n",
       "    <tr>\n",
       "      <th>7</th>\n",
       "      <td></td>\n",
       "      <td>2020-09-30 18:49:52</td>\n",
       "      <td>0.393 sec</td>\n",
       "      <td>7.0</td>\n",
       "      <td>53.744676</td>\n",
       "      <td>37.476410</td>\n",
       "      <td>2888.490197</td>\n",
       "      <td>60.528227</td>\n",
       "      <td>39.739041</td>\n",
       "      <td>3663.666224</td>\n",
       "    </tr>\n",
       "    <tr>\n",
       "      <th>8</th>\n",
       "      <td></td>\n",
       "      <td>2020-09-30 18:49:52</td>\n",
       "      <td>0.419 sec</td>\n",
       "      <td>8.0</td>\n",
       "      <td>51.763900</td>\n",
       "      <td>36.119964</td>\n",
       "      <td>2679.501320</td>\n",
       "      <td>58.435018</td>\n",
       "      <td>38.508348</td>\n",
       "      <td>3414.651359</td>\n",
       "    </tr>\n",
       "    <tr>\n",
       "      <th>9</th>\n",
       "      <td></td>\n",
       "      <td>2020-09-30 18:49:52</td>\n",
       "      <td>0.442 sec</td>\n",
       "      <td>9.0</td>\n",
       "      <td>50.015810</td>\n",
       "      <td>34.997669</td>\n",
       "      <td>2501.581209</td>\n",
       "      <td>56.623421</td>\n",
       "      <td>37.468474</td>\n",
       "      <td>3206.211803</td>\n",
       "    </tr>\n",
       "    <tr>\n",
       "      <th>10</th>\n",
       "      <td></td>\n",
       "      <td>2020-09-30 18:49:52</td>\n",
       "      <td>0.464 sec</td>\n",
       "      <td>10.0</td>\n",
       "      <td>48.505780</td>\n",
       "      <td>34.054256</td>\n",
       "      <td>2352.810691</td>\n",
       "      <td>55.034436</td>\n",
       "      <td>36.689458</td>\n",
       "      <td>3028.789103</td>\n",
       "    </tr>\n",
       "    <tr>\n",
       "      <th>11</th>\n",
       "      <td></td>\n",
       "      <td>2020-09-30 18:49:52</td>\n",
       "      <td>0.483 sec</td>\n",
       "      <td>11.0</td>\n",
       "      <td>47.171827</td>\n",
       "      <td>33.190131</td>\n",
       "      <td>2225.181223</td>\n",
       "      <td>53.848711</td>\n",
       "      <td>36.016614</td>\n",
       "      <td>2899.683653</td>\n",
       "    </tr>\n",
       "    <tr>\n",
       "      <th>12</th>\n",
       "      <td></td>\n",
       "      <td>2020-09-30 18:49:52</td>\n",
       "      <td>0.498 sec</td>\n",
       "      <td>12.0</td>\n",
       "      <td>46.038530</td>\n",
       "      <td>32.478303</td>\n",
       "      <td>2119.546238</td>\n",
       "      <td>52.767013</td>\n",
       "      <td>35.391939</td>\n",
       "      <td>2784.357628</td>\n",
       "    </tr>\n",
       "    <tr>\n",
       "      <th>13</th>\n",
       "      <td></td>\n",
       "      <td>2020-09-30 18:49:52</td>\n",
       "      <td>0.515 sec</td>\n",
       "      <td>13.0</td>\n",
       "      <td>44.988779</td>\n",
       "      <td>31.845556</td>\n",
       "      <td>2023.990274</td>\n",
       "      <td>51.783792</td>\n",
       "      <td>34.903477</td>\n",
       "      <td>2681.561067</td>\n",
       "    </tr>\n",
       "    <tr>\n",
       "      <th>14</th>\n",
       "      <td></td>\n",
       "      <td>2020-09-30 18:49:52</td>\n",
       "      <td>0.529 sec</td>\n",
       "      <td>14.0</td>\n",
       "      <td>44.220515</td>\n",
       "      <td>31.314235</td>\n",
       "      <td>1955.453988</td>\n",
       "      <td>51.039091</td>\n",
       "      <td>34.429524</td>\n",
       "      <td>2604.988813</td>\n",
       "    </tr>\n",
       "    <tr>\n",
       "      <th>15</th>\n",
       "      <td></td>\n",
       "      <td>2020-09-30 18:49:52</td>\n",
       "      <td>0.543 sec</td>\n",
       "      <td>15.0</td>\n",
       "      <td>43.429743</td>\n",
       "      <td>30.835394</td>\n",
       "      <td>1886.142601</td>\n",
       "      <td>50.267487</td>\n",
       "      <td>34.062972</td>\n",
       "      <td>2526.820222</td>\n",
       "    </tr>\n",
       "    <tr>\n",
       "      <th>16</th>\n",
       "      <td></td>\n",
       "      <td>2020-09-30 18:49:52</td>\n",
       "      <td>0.559 sec</td>\n",
       "      <td>16.0</td>\n",
       "      <td>42.798674</td>\n",
       "      <td>30.421255</td>\n",
       "      <td>1831.726454</td>\n",
       "      <td>49.858267</td>\n",
       "      <td>33.851375</td>\n",
       "      <td>2485.846743</td>\n",
       "    </tr>\n",
       "    <tr>\n",
       "      <th>17</th>\n",
       "      <td></td>\n",
       "      <td>2020-09-30 18:49:52</td>\n",
       "      <td>0.575 sec</td>\n",
       "      <td>17.0</td>\n",
       "      <td>42.241616</td>\n",
       "      <td>30.067811</td>\n",
       "      <td>1784.354109</td>\n",
       "      <td>49.606584</td>\n",
       "      <td>33.711302</td>\n",
       "      <td>2460.813155</td>\n",
       "    </tr>\n",
       "    <tr>\n",
       "      <th>18</th>\n",
       "      <td></td>\n",
       "      <td>2020-09-30 18:49:52</td>\n",
       "      <td>0.592 sec</td>\n",
       "      <td>18.0</td>\n",
       "      <td>41.718317</td>\n",
       "      <td>29.735407</td>\n",
       "      <td>1740.417978</td>\n",
       "      <td>49.279223</td>\n",
       "      <td>33.490328</td>\n",
       "      <td>2428.441861</td>\n",
       "    </tr>\n",
       "    <tr>\n",
       "      <th>19</th>\n",
       "      <td></td>\n",
       "      <td>2020-09-30 18:49:52</td>\n",
       "      <td>0.607 sec</td>\n",
       "      <td>19.0</td>\n",
       "      <td>41.231721</td>\n",
       "      <td>29.420268</td>\n",
       "      <td>1700.054800</td>\n",
       "      <td>49.094646</td>\n",
       "      <td>33.366748</td>\n",
       "      <td>2410.284269</td>\n",
       "    </tr>\n",
       "  </tbody>\n",
       "</table>\n",
       "</div>"
      ],
      "text/plain": [
       "                timestamp    duration  number_of_trees  training_rmse  \\\n",
       "0     2020-09-30 18:49:52   0.051 sec              0.0      79.809581   \n",
       "1     2020-09-30 18:49:52   0.259 sec              1.0      74.367269   \n",
       "2     2020-09-30 18:49:52   0.303 sec              2.0      69.603760   \n",
       "3     2020-09-30 18:49:52   0.325 sec              3.0      65.434605   \n",
       "4     2020-09-30 18:49:52   0.344 sec              4.0      61.837789   \n",
       "5     2020-09-30 18:49:52   0.363 sec              5.0      58.739839   \n",
       "6     2020-09-30 18:49:52   0.377 sec              6.0      56.106264   \n",
       "7     2020-09-30 18:49:52   0.393 sec              7.0      53.744676   \n",
       "8     2020-09-30 18:49:52   0.419 sec              8.0      51.763900   \n",
       "9     2020-09-30 18:49:52   0.442 sec              9.0      50.015810   \n",
       "10    2020-09-30 18:49:52   0.464 sec             10.0      48.505780   \n",
       "11    2020-09-30 18:49:52   0.483 sec             11.0      47.171827   \n",
       "12    2020-09-30 18:49:52   0.498 sec             12.0      46.038530   \n",
       "13    2020-09-30 18:49:52   0.515 sec             13.0      44.988779   \n",
       "14    2020-09-30 18:49:52   0.529 sec             14.0      44.220515   \n",
       "15    2020-09-30 18:49:52   0.543 sec             15.0      43.429743   \n",
       "16    2020-09-30 18:49:52   0.559 sec             16.0      42.798674   \n",
       "17    2020-09-30 18:49:52   0.575 sec             17.0      42.241616   \n",
       "18    2020-09-30 18:49:52   0.592 sec             18.0      41.718317   \n",
       "19    2020-09-30 18:49:52   0.607 sec             19.0      41.231721   \n",
       "\n",
       "    training_mae  training_deviance  validation_rmse  validation_mae  \\\n",
       "0      54.889859        6369.569150        89.260308       56.879375   \n",
       "1      51.349117        5530.490772        83.188816       53.128289   \n",
       "2      48.189570        4844.683442        78.125549       49.951356   \n",
       "3      45.432984        4281.687546        73.361631       47.069396   \n",
       "4      43.004229        3823.912095        69.606039       44.813901   \n",
       "5      40.915803        3450.368736        66.148075       42.874422   \n",
       "6      39.122604        3147.912878        63.163330       41.208017   \n",
       "7      37.476410        2888.490197        60.528227       39.739041   \n",
       "8      36.119964        2679.501320        58.435018       38.508348   \n",
       "9      34.997669        2501.581209        56.623421       37.468474   \n",
       "10     34.054256        2352.810691        55.034436       36.689458   \n",
       "11     33.190131        2225.181223        53.848711       36.016614   \n",
       "12     32.478303        2119.546238        52.767013       35.391939   \n",
       "13     31.845556        2023.990274        51.783792       34.903477   \n",
       "14     31.314235        1955.453988        51.039091       34.429524   \n",
       "15     30.835394        1886.142601        50.267487       34.062972   \n",
       "16     30.421255        1831.726454        49.858267       33.851375   \n",
       "17     30.067811        1784.354109        49.606584       33.711302   \n",
       "18     29.735407        1740.417978        49.279223       33.490328   \n",
       "19     29.420268        1700.054800        49.094646       33.366748   \n",
       "\n",
       "    validation_deviance  \n",
       "0           7967.402633  \n",
       "1           6920.379071  \n",
       "2           6103.601444  \n",
       "3           5381.928951  \n",
       "4           4845.000597  \n",
       "5           4375.567761  \n",
       "6           3989.606205  \n",
       "7           3663.666224  \n",
       "8           3414.651359  \n",
       "9           3206.211803  \n",
       "10          3028.789103  \n",
       "11          2899.683653  \n",
       "12          2784.357628  \n",
       "13          2681.561067  \n",
       "14          2604.988813  \n",
       "15          2526.820222  \n",
       "16          2485.846743  \n",
       "17          2460.813155  \n",
       "18          2428.441861  \n",
       "19          2410.284269  "
      ]
     },
     "metadata": {},
     "output_type": "display_data"
    },
    {
     "name": "stdout",
     "output_type": "stream",
     "text": [
      "\n",
      "See the whole table with table.as_data_frame()\n",
      "\n",
      "Variable Importances: \n"
     ]
    },
    {
     "data": {
      "text/html": [
       "<div>\n",
       "<style scoped>\n",
       "    .dataframe tbody tr th:only-of-type {\n",
       "        vertical-align: middle;\n",
       "    }\n",
       "\n",
       "    .dataframe tbody tr th {\n",
       "        vertical-align: top;\n",
       "    }\n",
       "\n",
       "    .dataframe thead th {\n",
       "        text-align: right;\n",
       "    }\n",
       "</style>\n",
       "<table border=\"1\" class=\"dataframe\">\n",
       "  <thead>\n",
       "    <tr style=\"text-align: right;\">\n",
       "      <th></th>\n",
       "      <th>variable</th>\n",
       "      <th>relative_importance</th>\n",
       "      <th>scaled_importance</th>\n",
       "      <th>percentage</th>\n",
       "    </tr>\n",
       "  </thead>\n",
       "  <tbody>\n",
       "    <tr>\n",
       "      <th>0</th>\n",
       "      <td>NoOfUnitsPurchased</td>\n",
       "      <td>4.598719e+07</td>\n",
       "      <td>1.000000</td>\n",
       "      <td>0.763501</td>\n",
       "    </tr>\n",
       "    <tr>\n",
       "      <th>1</th>\n",
       "      <td>NoOfGamesBought</td>\n",
       "      <td>7.415229e+06</td>\n",
       "      <td>0.161246</td>\n",
       "      <td>0.123111</td>\n",
       "    </tr>\n",
       "    <tr>\n",
       "      <th>2</th>\n",
       "      <td>FrquncyOfPurchase</td>\n",
       "      <td>2.210880e+06</td>\n",
       "      <td>0.048076</td>\n",
       "      <td>0.036706</td>\n",
       "    </tr>\n",
       "    <tr>\n",
       "      <th>3</th>\n",
       "      <td>NoOfGamesPlayed</td>\n",
       "      <td>1.295794e+06</td>\n",
       "      <td>0.028177</td>\n",
       "      <td>0.021513</td>\n",
       "    </tr>\n",
       "    <tr>\n",
       "      <th>4</th>\n",
       "      <td>FrequencyOFPlay</td>\n",
       "      <td>9.775235e+05</td>\n",
       "      <td>0.021256</td>\n",
       "      <td>0.016229</td>\n",
       "    </tr>\n",
       "    <tr>\n",
       "      <th>5</th>\n",
       "      <td>MinAgeOfChild</td>\n",
       "      <td>8.171221e+05</td>\n",
       "      <td>0.017768</td>\n",
       "      <td>0.013566</td>\n",
       "    </tr>\n",
       "    <tr>\n",
       "      <th>6</th>\n",
       "      <td>Tenure</td>\n",
       "      <td>7.507284e+05</td>\n",
       "      <td>0.016325</td>\n",
       "      <td>0.012464</td>\n",
       "    </tr>\n",
       "    <tr>\n",
       "      <th>7</th>\n",
       "      <td>MaxAgeOfChild</td>\n",
       "      <td>3.904128e+05</td>\n",
       "      <td>0.008490</td>\n",
       "      <td>0.006482</td>\n",
       "    </tr>\n",
       "    <tr>\n",
       "      <th>8</th>\n",
       "      <td>FavoriteChannelOfTransaction</td>\n",
       "      <td>2.522102e+05</td>\n",
       "      <td>0.005484</td>\n",
       "      <td>0.004187</td>\n",
       "    </tr>\n",
       "    <tr>\n",
       "      <th>9</th>\n",
       "      <td>NoOfChildren</td>\n",
       "      <td>1.270237e+05</td>\n",
       "      <td>0.002762</td>\n",
       "      <td>0.002109</td>\n",
       "    </tr>\n",
       "    <tr>\n",
       "      <th>10</th>\n",
       "      <td>FavoriteGame</td>\n",
       "      <td>7.852281e+03</td>\n",
       "      <td>0.000171</td>\n",
       "      <td>0.000130</td>\n",
       "    </tr>\n",
       "  </tbody>\n",
       "</table>\n",
       "</div>"
      ],
      "text/plain": [
       "                        variable  relative_importance  scaled_importance  \\\n",
       "0             NoOfUnitsPurchased         4.598719e+07           1.000000   \n",
       "1                NoOfGamesBought         7.415229e+06           0.161246   \n",
       "2              FrquncyOfPurchase         2.210880e+06           0.048076   \n",
       "3                NoOfGamesPlayed         1.295794e+06           0.028177   \n",
       "4                FrequencyOFPlay         9.775235e+05           0.021256   \n",
       "5                  MinAgeOfChild         8.171221e+05           0.017768   \n",
       "6                         Tenure         7.507284e+05           0.016325   \n",
       "7                  MaxAgeOfChild         3.904128e+05           0.008490   \n",
       "8   FavoriteChannelOfTransaction         2.522102e+05           0.005484   \n",
       "9                   NoOfChildren         1.270237e+05           0.002762   \n",
       "10                  FavoriteGame         7.852281e+03           0.000171   \n",
       "\n",
       "    percentage  \n",
       "0     0.763501  \n",
       "1     0.123111  \n",
       "2     0.036706  \n",
       "3     0.021513  \n",
       "4     0.016229  \n",
       "5     0.013566  \n",
       "6     0.012464  \n",
       "7     0.006482  \n",
       "8     0.004187  \n",
       "9     0.002109  \n",
       "10    0.000130  "
      ]
     },
     "metadata": {},
     "output_type": "display_data"
    },
    {
     "data": {
      "text/plain": []
     },
     "execution_count": 36,
     "metadata": {},
     "output_type": "execute_result"
    }
   ],
   "source": [
    "gbmModel"
   ]
  },
  {
   "cell_type": "markdown",
   "metadata": {},
   "source": [
    "## Variable Importances"
   ]
  },
  {
   "cell_type": "code",
   "execution_count": 37,
   "metadata": {},
   "outputs": [
    {
     "data": {
      "text/plain": [
       "[('NoOfUnitsPurchased', 45987188.0, 1.0, 0.7635013790496377),\n",
       " ('NoOfGamesBought', 7415229.0, 0.16124554082323972, 0.12311119278414819),\n",
       " ('FrquncyOfPurchase', 2210880.25, 0.04807600434277477, 0.03670609561490491),\n",
       " ('NoOfGamesPlayed', 1295794.375, 0.028177290922854425, 0.021513400477482195),\n",
       " ('FrequencyOFPlay', 977523.5, 0.02125643124776405, 0.016229314571341663),\n",
       " ('MinAgeOfChild', 817122.0625, 0.017768472003550206, 0.013566252878315461),\n",
       " ('Tenure', 750728.375, 0.0163247288570895, 0.01246395299499925),\n",
       " ('MaxAgeOfChild', 390412.8125, 0.00848959959239082, 0.006481820996369633),\n",
       " ('FavoriteChannelOfTransaction',\n",
       "  252210.15625,\n",
       "  0.005484356996344286,\n",
       "  0.0041873141299093915),\n",
       " ('NoOfChildren',\n",
       "  127023.7421875,\n",
       "  0.0027621550199481647,\n",
       "  0.0021089091668793033),\n",
       " ('FavoriteGame',\n",
       "  7852.28076171875,\n",
       "  0.00017074931308517385,\n",
       "  0.00013036733601230857)]"
      ]
     },
     "execution_count": 37,
     "metadata": {},
     "output_type": "execute_result"
    }
   ],
   "source": [
    "gbmModel.varimp()"
   ]
  },
  {
   "cell_type": "markdown",
   "metadata": {},
   "source": [
    "Predict using train and validation data"
   ]
  },
  {
   "cell_type": "code",
   "execution_count": 38,
   "metadata": {},
   "outputs": [
    {
     "name": "stdout",
     "output_type": "stream",
     "text": [
      "gbm prediction progress: |████████████████████████████████████████████████| 100%\n",
      "gbm prediction progress: |████████████████████████████████████████████████| 100%\n",
      "gbm prediction progress: |████████████████████████████████████████████████| 100%\n"
     ]
    }
   ],
   "source": [
    "trainPredGBM = gbmModel.predict(trainData)\n",
    "validationPredGBM = gbmModel.predict(validationData)\n",
    "testPredGBM = gbmModel.predict(testData)"
   ]
  },
  {
   "cell_type": "code",
   "execution_count": 39,
   "metadata": {},
   "outputs": [
    {
     "data": {
      "text/html": [
       "<table>\n",
       "<thead>\n",
       "<tr><th style=\"text-align: right;\">  predict</th></tr>\n",
       "</thead>\n",
       "<tbody>\n",
       "<tr><td style=\"text-align: right;\">  347.431</td></tr>\n",
       "<tr><td style=\"text-align: right;\">  168.351</td></tr>\n",
       "<tr><td style=\"text-align: right;\">  289.139</td></tr>\n",
       "<tr><td style=\"text-align: right;\">  143.916</td></tr>\n",
       "<tr><td style=\"text-align: right;\">  152.359</td></tr>\n",
       "<tr><td style=\"text-align: right;\">  133.841</td></tr>\n",
       "<tr><td style=\"text-align: right;\">  164.499</td></tr>\n",
       "<tr><td style=\"text-align: right;\">  169.651</td></tr>\n",
       "<tr><td style=\"text-align: right;\">  159.699</td></tr>\n",
       "<tr><td style=\"text-align: right;\">  149.29 </td></tr>\n",
       "</tbody>\n",
       "</table>"
      ]
     },
     "metadata": {},
     "output_type": "display_data"
    },
    {
     "data": {
      "text/plain": []
     },
     "execution_count": 39,
     "metadata": {},
     "output_type": "execute_result"
    }
   ],
   "source": [
    "trainPredGBM"
   ]
  },
  {
   "cell_type": "markdown",
   "metadata": {},
   "source": [
    "## Evaluation of GBM model on the train and validation data"
   ]
  },
  {
   "cell_type": "code",
   "execution_count": 40,
   "metadata": {},
   "outputs": [
    {
     "name": "stdout",
     "output_type": "stream",
     "text": [
      "***** Train Error ****\n",
      "\n",
      "ModelMetricsRegression: gbm\n",
      "** Reported on test data. **\n",
      "\n",
      "MSE: 1278.7879758984782\n",
      "RMSE: 35.76014507658601\n",
      "MAE: 25.90968865512306\n",
      "RMSLE: 0.18743863143727507\n",
      "Mean Residual Deviance: 1278.7879758984782\n",
      "***** Validation Error ****\n",
      "\n",
      "ModelMetricsRegression: gbm\n",
      "** Reported on test data. **\n",
      "\n",
      "MSE: 2268.021746033248\n",
      "RMSE: 47.623751910504154\n",
      "MAE: 32.135787730796984\n",
      "RMSLE: 0.2160528878173696\n",
      "Mean Residual Deviance: 2268.021746033248\n"
     ]
    }
   ],
   "source": [
    "print(\"***** Train Error ****\")\n",
    "gbmModel.model_performance(trainData).show()\n",
    "print(\"***** Validation Error ****\")\n",
    "gbmModel.model_performance(validationData).show()"
   ]
  },
  {
   "cell_type": "markdown",
   "metadata": {},
   "source": [
    "## Evaluation of GBM model on the test data"
   ]
  },
  {
   "cell_type": "code",
   "execution_count": 41,
   "metadata": {},
   "outputs": [
    {
     "name": "stdout",
     "output_type": "stream",
     "text": [
      "\n",
      "ModelMetricsRegression: gbm\n",
      "** Reported on test data. **\n",
      "\n",
      "MSE: 2072.519585788056\n",
      "RMSE: 45.5249336714295\n",
      "MAE: 30.14828609268297\n",
      "RMSLE: 0.2184918759622641\n",
      "Mean Residual Deviance: 2072.519585788056\n"
     ]
    }
   ],
   "source": [
    "gbmModel.model_performance(testData).show()"
   ]
  },
  {
   "cell_type": "markdown",
   "metadata": {},
   "source": [
    "## GBM Model Grid Search"
   ]
  },
  {
   "cell_type": "markdown",
   "metadata": {},
   "source": [
    "Define parameters for gridsearch"
   ]
  },
  {
   "cell_type": "code",
   "execution_count": 42,
   "metadata": {},
   "outputs": [],
   "source": [
    "ntrees_opt = [5,10,15]\n",
    "max_depth_opt = [2,3,4]\n",
    "learn_rate_opt = [0.1,0.2]\n",
    "\n",
    "hyper_parameters = {\"ntrees\": ntrees_opt, \"max_depth\": max_depth_opt, \"learn_rate\":learn_rate_opt}"
   ]
  },
  {
   "cell_type": "code",
   "execution_count": 43,
   "metadata": {},
   "outputs": [],
   "source": [
    "from h2o.grid.grid_search import H2OGridSearch"
   ]
  },
  {
   "cell_type": "code",
   "execution_count": 44,
   "metadata": {},
   "outputs": [],
   "source": [
    "gs_GBM = H2OGridSearch(H2OGradientBoostingEstimator, hyper_params=hyper_parameters)"
   ]
  },
  {
   "cell_type": "code",
   "execution_count": 45,
   "metadata": {},
   "outputs": [
    {
     "name": "stdout",
     "output_type": "stream",
     "text": [
      "gbm Grid Build progress: |████████████████████████████████████████████████| 100%\n"
     ]
    }
   ],
   "source": [
    "gs_GBM.train(x = predictors, \n",
    "             y = target, \n",
    "             training_frame = trainData, \n",
    "             validation_frame = validationData)"
   ]
  },
  {
   "cell_type": "markdown",
   "metadata": {},
   "source": [
    "Print out all prediction errors and run times of the model"
   ]
  },
  {
   "cell_type": "code",
   "execution_count": 46,
   "metadata": {},
   "outputs": [
    {
     "name": "stdout",
     "output_type": "stream",
     "text": [
      "     learn_rate max_depth ntrees  \\\n",
      "0           0.2         4     15   \n",
      "1           0.2         3     15   \n",
      "2           0.2         4     10   \n",
      "3           0.2         3     10   \n",
      "4           0.1         4     15   \n",
      "5           0.2         2     15   \n",
      "6           0.1         3     15   \n",
      "7           0.2         4      5   \n",
      "8           0.2         2     10   \n",
      "9           0.1         4     10   \n",
      "10          0.2         3      5   \n",
      "11          0.1         3     10   \n",
      "12          0.1         2     15   \n",
      "13          0.2         2      5   \n",
      "14          0.1         2     10   \n",
      "15          0.1         4      5   \n",
      "16          0.1         3      5   \n",
      "17          0.1         2      5   \n",
      "\n",
      "                                                        model_ids  \\\n",
      "0   Grid_GBM_py_70_sid_a2d8_model_python_1601471984095_2_model_18   \n",
      "1   Grid_GBM_py_70_sid_a2d8_model_python_1601471984095_2_model_16   \n",
      "2   Grid_GBM_py_70_sid_a2d8_model_python_1601471984095_2_model_12   \n",
      "3   Grid_GBM_py_70_sid_a2d8_model_python_1601471984095_2_model_10   \n",
      "4   Grid_GBM_py_70_sid_a2d8_model_python_1601471984095_2_model_17   \n",
      "5   Grid_GBM_py_70_sid_a2d8_model_python_1601471984095_2_model_14   \n",
      "6   Grid_GBM_py_70_sid_a2d8_model_python_1601471984095_2_model_15   \n",
      "7    Grid_GBM_py_70_sid_a2d8_model_python_1601471984095_2_model_6   \n",
      "8    Grid_GBM_py_70_sid_a2d8_model_python_1601471984095_2_model_8   \n",
      "9   Grid_GBM_py_70_sid_a2d8_model_python_1601471984095_2_model_11   \n",
      "10   Grid_GBM_py_70_sid_a2d8_model_python_1601471984095_2_model_4   \n",
      "11   Grid_GBM_py_70_sid_a2d8_model_python_1601471984095_2_model_9   \n",
      "12  Grid_GBM_py_70_sid_a2d8_model_python_1601471984095_2_model_13   \n",
      "13   Grid_GBM_py_70_sid_a2d8_model_python_1601471984095_2_model_2   \n",
      "14   Grid_GBM_py_70_sid_a2d8_model_python_1601471984095_2_model_7   \n",
      "15   Grid_GBM_py_70_sid_a2d8_model_python_1601471984095_2_model_5   \n",
      "16   Grid_GBM_py_70_sid_a2d8_model_python_1601471984095_2_model_3   \n",
      "17   Grid_GBM_py_70_sid_a2d8_model_python_1601471984095_2_model_1   \n",
      "\n",
      "     residual_deviance  \n",
      "0   2106.7930193711886  \n",
      "1     2292.64541096603  \n",
      "2    2297.576393250296  \n",
      "3    2523.739240177182  \n",
      "4    2625.425128542774  \n",
      "5   2692.9737351959743  \n",
      "6   2853.2416886449955  \n",
      "7    3072.289121394715  \n",
      "8    3137.584059234589  \n",
      "9     3159.19032956303  \n",
      "10  3367.9933692322775  \n",
      "11  3397.1545276713114  \n",
      "12   3544.725988085198  \n",
      "13  3972.2129240685476  \n",
      "14  4050.8119138158745  \n",
      "15   4470.279897443925  \n",
      "16    4667.23891099979  \n",
      "17   5163.028331618258  \n"
     ]
    },
    {
     "data": {
      "text/plain": []
     },
     "execution_count": 46,
     "metadata": {},
     "output_type": "execute_result"
    }
   ],
   "source": [
    "gs_GBM"
   ]
  },
  {
   "cell_type": "markdown",
   "metadata": {},
   "source": [
    "Print out the rmse of train and validation set for all of the models"
   ]
  },
  {
   "cell_type": "code",
   "execution_count": 47,
   "metadata": {},
   "outputs": [
    {
     "name": "stdout",
     "output_type": "stream",
     "text": [
      "Grid_GBM_py_70_sid_a2d8_model_python_1601471984095_2_model_18 auc train data: 39.95827090117088\n",
      "Grid_GBM_py_70_sid_a2d8_model_python_1601471984095_2_model_18 auc validation data: 45.89981502545722\n",
      "##################################\n",
      "Grid_GBM_py_70_sid_a2d8_model_python_1601471984095_2_model_16 auc train data: 43.21860910267181\n",
      "Grid_GBM_py_70_sid_a2d8_model_python_1601471984095_2_model_16 auc validation data: 47.88157694736076\n",
      "##################################\n",
      "Grid_GBM_py_70_sid_a2d8_model_python_1601471984095_2_model_12 auc train data: 42.5969700132265\n",
      "Grid_GBM_py_70_sid_a2d8_model_python_1601471984095_2_model_12 auc validation data: 47.93304072610349\n",
      "##################################\n",
      "Grid_GBM_py_70_sid_a2d8_model_python_1601471984095_2_model_10 auc train data: 45.2515470134563\n",
      "Grid_GBM_py_70_sid_a2d8_model_python_1601471984095_2_model_10 auc validation data: 50.23683151012992\n",
      "##################################\n",
      "Grid_GBM_py_70_sid_a2d8_model_python_1601471984095_2_model_17 auc train data: 45.59216856419275\n",
      "Grid_GBM_py_70_sid_a2d8_model_python_1601471984095_2_model_17 auc validation data: 51.238902491591034\n",
      "##################################\n",
      "Grid_GBM_py_70_sid_a2d8_model_python_1601471984095_2_model_14 auc train data: 46.69584900496824\n",
      "Grid_GBM_py_70_sid_a2d8_model_python_1601471984095_2_model_14 auc validation data: 51.89386991924937\n",
      "##################################\n",
      "Grid_GBM_py_70_sid_a2d8_model_python_1601471984095_2_model_15 auc train data: 47.76637692317334\n",
      "Grid_GBM_py_70_sid_a2d8_model_python_1601471984095_2_model_15 auc validation data: 53.41574382749898\n",
      "##################################\n",
      "Grid_GBM_py_70_sid_a2d8_model_python_1601471984095_2_model_6 auc train data: 49.543594480226\n",
      "Grid_GBM_py_70_sid_a2d8_model_python_1601471984095_2_model_6 auc validation data: 55.42823397326235\n",
      "##################################\n",
      "Grid_GBM_py_70_sid_a2d8_model_python_1601471984095_2_model_8 auc train data: 49.92018807479008\n",
      "Grid_GBM_py_70_sid_a2d8_model_python_1601471984095_2_model_8 auc validation data: 56.01414160044398\n",
      "##################################\n",
      "Grid_GBM_py_70_sid_a2d8_model_python_1601471984095_2_model_11 auc train data: 50.266765850266616\n",
      "Grid_GBM_py_70_sid_a2d8_model_python_1601471984095_2_model_11 auc validation data: 56.20667513350198\n",
      "##################################\n",
      "Grid_GBM_py_70_sid_a2d8_model_python_1601471984095_2_model_4 auc train data: 51.641792918080654\n",
      "Grid_GBM_py_70_sid_a2d8_model_python_1601471984095_2_model_4 auc validation data: 58.03441538632295\n",
      "##################################\n",
      "Grid_GBM_py_70_sid_a2d8_model_python_1601471984095_2_model_9 auc train data: 52.16597370658083\n",
      "Grid_GBM_py_70_sid_a2d8_model_python_1601471984095_2_model_9 auc validation data: 58.285114117339695\n",
      "##################################\n",
      "Grid_GBM_py_70_sid_a2d8_model_python_1601471984095_2_model_13 auc train data: 52.240551410709315\n",
      "Grid_GBM_py_70_sid_a2d8_model_python_1601471984095_2_model_13 auc validation data: 59.537601463992466\n",
      "##################################\n",
      "Grid_GBM_py_70_sid_a2d8_model_python_1601471984095_2_model_2 auc train data: 55.42918172337844\n",
      "Grid_GBM_py_70_sid_a2d8_model_python_1601471984095_2_model_2 auc validation data: 63.02549423898672\n",
      "##################################\n",
      "Grid_GBM_py_70_sid_a2d8_model_python_1601471984095_2_model_7 auc train data: 55.84097422173248\n",
      "Grid_GBM_py_70_sid_a2d8_model_python_1601471984095_2_model_7 auc validation data: 63.64598898450612\n",
      "##################################\n",
      "Grid_GBM_py_70_sid_a2d8_model_python_1601471984095_2_model_5 auc train data: 59.78373958499562\n",
      "Grid_GBM_py_70_sid_a2d8_model_python_1601471984095_2_model_5 auc validation data: 66.86015179046429\n",
      "##################################\n",
      "Grid_GBM_py_70_sid_a2d8_model_python_1601471984095_2_model_3 auc train data: 61.12395958353865\n",
      "Grid_GBM_py_70_sid_a2d8_model_python_1601471984095_2_model_3 auc validation data: 68.31719337765414\n",
      "##################################\n",
      "Grid_GBM_py_70_sid_a2d8_model_python_1601471984095_2_model_1 auc train data: 63.40788518896418\n",
      "Grid_GBM_py_70_sid_a2d8_model_python_1601471984095_2_model_1 auc validation data: 71.85421582355664\n",
      "##################################\n"
     ]
    }
   ],
   "source": [
    "for gseach in gs_GBM:\n",
    "    print(gseach.model_id + \" auc train data: \" + str(gseach.rmse(valid = False)))\n",
    "    print(gseach.model_id + \" auc validation data: \" + str(gseach.rmse(valid = True)))\n",
    "    print(\"##################################\")"
   ]
  },
  {
   "cell_type": "markdown",
   "metadata": {},
   "source": [
    "## Getting the best model hyper parameters from GBM grid search"
   ]
  },
  {
   "cell_type": "code",
   "execution_count": 48,
   "metadata": {},
   "outputs": [],
   "source": [
    "sorted_grid = gs_GBM.get_grid(sort_by='rmse', decreasing=False)"
   ]
  },
  {
   "cell_type": "code",
   "execution_count": 49,
   "metadata": {},
   "outputs": [
    {
     "name": "stdout",
     "output_type": "stream",
     "text": [
      "     learn_rate max_depth ntrees  \\\n",
      "0           0.2         4     15   \n",
      "1           0.2         3     15   \n",
      "2           0.2         4     10   \n",
      "3           0.2         3     10   \n",
      "4           0.1         4     15   \n",
      "5           0.2         2     15   \n",
      "6           0.1         3     15   \n",
      "7           0.2         4      5   \n",
      "8           0.2         2     10   \n",
      "9           0.1         4     10   \n",
      "10          0.2         3      5   \n",
      "11          0.1         3     10   \n",
      "12          0.1         2     15   \n",
      "13          0.2         2      5   \n",
      "14          0.1         2     10   \n",
      "15          0.1         4      5   \n",
      "16          0.1         3      5   \n",
      "17          0.1         2      5   \n",
      "\n",
      "                                                        model_ids  \\\n",
      "0   Grid_GBM_py_70_sid_a2d8_model_python_1601471984095_2_model_18   \n",
      "1   Grid_GBM_py_70_sid_a2d8_model_python_1601471984095_2_model_16   \n",
      "2   Grid_GBM_py_70_sid_a2d8_model_python_1601471984095_2_model_12   \n",
      "3   Grid_GBM_py_70_sid_a2d8_model_python_1601471984095_2_model_10   \n",
      "4   Grid_GBM_py_70_sid_a2d8_model_python_1601471984095_2_model_17   \n",
      "5   Grid_GBM_py_70_sid_a2d8_model_python_1601471984095_2_model_14   \n",
      "6   Grid_GBM_py_70_sid_a2d8_model_python_1601471984095_2_model_15   \n",
      "7    Grid_GBM_py_70_sid_a2d8_model_python_1601471984095_2_model_6   \n",
      "8    Grid_GBM_py_70_sid_a2d8_model_python_1601471984095_2_model_8   \n",
      "9   Grid_GBM_py_70_sid_a2d8_model_python_1601471984095_2_model_11   \n",
      "10   Grid_GBM_py_70_sid_a2d8_model_python_1601471984095_2_model_4   \n",
      "11   Grid_GBM_py_70_sid_a2d8_model_python_1601471984095_2_model_9   \n",
      "12  Grid_GBM_py_70_sid_a2d8_model_python_1601471984095_2_model_13   \n",
      "13   Grid_GBM_py_70_sid_a2d8_model_python_1601471984095_2_model_2   \n",
      "14   Grid_GBM_py_70_sid_a2d8_model_python_1601471984095_2_model_7   \n",
      "15   Grid_GBM_py_70_sid_a2d8_model_python_1601471984095_2_model_5   \n",
      "16   Grid_GBM_py_70_sid_a2d8_model_python_1601471984095_2_model_3   \n",
      "17   Grid_GBM_py_70_sid_a2d8_model_python_1601471984095_2_model_1   \n",
      "\n",
      "                  rmse  \n",
      "0    45.89981502545722  \n",
      "1    47.88157694736076  \n",
      "2    47.93304072610349  \n",
      "3    50.23683151012992  \n",
      "4   51.238902491591034  \n",
      "5    51.89386991924937  \n",
      "6    53.41574382749898  \n",
      "7    55.42823397326235  \n",
      "8    56.01414160044398  \n",
      "9    56.20667513350198  \n",
      "10   58.03441538632295  \n",
      "11  58.285114117339695  \n",
      "12  59.537601463992466  \n",
      "13   63.02549423898672  \n",
      "14   63.64598898450612  \n",
      "15   66.86015179046429  \n",
      "16   68.31719337765414  \n",
      "17   71.85421582355664  \n"
     ]
    },
    {
     "data": {
      "text/plain": []
     },
     "execution_count": 49,
     "metadata": {},
     "output_type": "execute_result"
    }
   ],
   "source": [
    "sorted_grid"
   ]
  },
  {
   "cell_type": "markdown",
   "metadata": {},
   "source": [
    "Just for practise \n",
    "\n",
    "    Building GBM model on best hyper parameters obtained from grid search"
   ]
  },
  {
   "cell_type": "code",
   "execution_count": 50,
   "metadata": {},
   "outputs": [],
   "source": [
    "gbm_final_model = gs_GBM[0]"
   ]
  },
  {
   "cell_type": "code",
   "execution_count": 51,
   "metadata": {},
   "outputs": [
    {
     "name": "stdout",
     "output_type": "stream",
     "text": [
      "Model Details\n",
      "=============\n",
      "H2OGradientBoostingEstimator :  Gradient Boosting Machine\n",
      "Model Key:  Grid_GBM_py_70_sid_a2d8_model_python_1601471984095_2_model_18\n",
      "\n",
      "\n",
      "Model Summary: \n"
     ]
    },
    {
     "data": {
      "text/html": [
       "<div>\n",
       "<style scoped>\n",
       "    .dataframe tbody tr th:only-of-type {\n",
       "        vertical-align: middle;\n",
       "    }\n",
       "\n",
       "    .dataframe tbody tr th {\n",
       "        vertical-align: top;\n",
       "    }\n",
       "\n",
       "    .dataframe thead th {\n",
       "        text-align: right;\n",
       "    }\n",
       "</style>\n",
       "<table border=\"1\" class=\"dataframe\">\n",
       "  <thead>\n",
       "    <tr style=\"text-align: right;\">\n",
       "      <th></th>\n",
       "      <th></th>\n",
       "      <th>number_of_trees</th>\n",
       "      <th>number_of_internal_trees</th>\n",
       "      <th>model_size_in_bytes</th>\n",
       "      <th>min_depth</th>\n",
       "      <th>max_depth</th>\n",
       "      <th>mean_depth</th>\n",
       "      <th>min_leaves</th>\n",
       "      <th>max_leaves</th>\n",
       "      <th>mean_leaves</th>\n",
       "    </tr>\n",
       "  </thead>\n",
       "  <tbody>\n",
       "    <tr>\n",
       "      <th>0</th>\n",
       "      <td></td>\n",
       "      <td>15.0</td>\n",
       "      <td>15.0</td>\n",
       "      <td>3378.0</td>\n",
       "      <td>4.0</td>\n",
       "      <td>4.0</td>\n",
       "      <td>4.0</td>\n",
       "      <td>8.0</td>\n",
       "      <td>16.0</td>\n",
       "      <td>13.333333</td>\n",
       "    </tr>\n",
       "  </tbody>\n",
       "</table>\n",
       "</div>"
      ],
      "text/plain": [
       "     number_of_trees  number_of_internal_trees  model_size_in_bytes  \\\n",
       "0               15.0                      15.0               3378.0   \n",
       "\n",
       "   min_depth  max_depth  mean_depth  min_leaves  max_leaves  mean_leaves  \n",
       "0        4.0        4.0         4.0         8.0        16.0    13.333333  "
      ]
     },
     "metadata": {},
     "output_type": "display_data"
    },
    {
     "name": "stdout",
     "output_type": "stream",
     "text": [
      "\n",
      "\n",
      "ModelMetricsRegression: gbm\n",
      "** Reported on train data. **\n",
      "\n",
      "MSE: 1596.6634134113594\n",
      "RMSE: 39.95827090117088\n",
      "MAE: 28.550052459553893\n",
      "RMSLE: 0.20311346337336944\n",
      "Mean Residual Deviance: 1596.6634134113594\n",
      "\n",
      "ModelMetricsRegression: gbm\n",
      "** Reported on validation data. **\n",
      "\n",
      "MSE: 2106.7930193711886\n",
      "RMSE: 45.89981502545722\n",
      "MAE: 31.517236282378782\n",
      "RMSLE: 0.21121302806486292\n",
      "Mean Residual Deviance: 2106.7930193711886\n",
      "\n",
      "Scoring History: \n"
     ]
    },
    {
     "data": {
      "text/html": [
       "<div>\n",
       "<style scoped>\n",
       "    .dataframe tbody tr th:only-of-type {\n",
       "        vertical-align: middle;\n",
       "    }\n",
       "\n",
       "    .dataframe tbody tr th {\n",
       "        vertical-align: top;\n",
       "    }\n",
       "\n",
       "    .dataframe thead th {\n",
       "        text-align: right;\n",
       "    }\n",
       "</style>\n",
       "<table border=\"1\" class=\"dataframe\">\n",
       "  <thead>\n",
       "    <tr style=\"text-align: right;\">\n",
       "      <th></th>\n",
       "      <th></th>\n",
       "      <th>timestamp</th>\n",
       "      <th>duration</th>\n",
       "      <th>number_of_trees</th>\n",
       "      <th>training_rmse</th>\n",
       "      <th>training_mae</th>\n",
       "      <th>training_deviance</th>\n",
       "      <th>validation_rmse</th>\n",
       "      <th>validation_mae</th>\n",
       "      <th>validation_deviance</th>\n",
       "    </tr>\n",
       "  </thead>\n",
       "  <tbody>\n",
       "    <tr>\n",
       "      <th>0</th>\n",
       "      <td></td>\n",
       "      <td>2020-09-30 18:49:56</td>\n",
       "      <td>1.543 sec</td>\n",
       "      <td>0.0</td>\n",
       "      <td>79.809581</td>\n",
       "      <td>54.889859</td>\n",
       "      <td>6369.569150</td>\n",
       "      <td>89.260308</td>\n",
       "      <td>56.879375</td>\n",
       "      <td>7967.402633</td>\n",
       "    </tr>\n",
       "    <tr>\n",
       "      <th>1</th>\n",
       "      <td></td>\n",
       "      <td>2020-09-30 18:49:56</td>\n",
       "      <td>1.553 sec</td>\n",
       "      <td>1.0</td>\n",
       "      <td>69.623162</td>\n",
       "      <td>48.336890</td>\n",
       "      <td>4847.384684</td>\n",
       "      <td>77.690884</td>\n",
       "      <td>49.842872</td>\n",
       "      <td>6035.873480</td>\n",
       "    </tr>\n",
       "    <tr>\n",
       "      <th>2</th>\n",
       "      <td></td>\n",
       "      <td>2020-09-30 18:49:56</td>\n",
       "      <td>1.557 sec</td>\n",
       "      <td>2.0</td>\n",
       "      <td>62.010585</td>\n",
       "      <td>43.331628</td>\n",
       "      <td>3845.312643</td>\n",
       "      <td>68.997161</td>\n",
       "      <td>44.785434</td>\n",
       "      <td>4760.608225</td>\n",
       "    </tr>\n",
       "    <tr>\n",
       "      <th>3</th>\n",
       "      <td></td>\n",
       "      <td>2020-09-30 18:49:56</td>\n",
       "      <td>1.563 sec</td>\n",
       "      <td>3.0</td>\n",
       "      <td>56.550744</td>\n",
       "      <td>39.634203</td>\n",
       "      <td>3197.986609</td>\n",
       "      <td>62.982382</td>\n",
       "      <td>41.329010</td>\n",
       "      <td>3966.780452</td>\n",
       "    </tr>\n",
       "    <tr>\n",
       "      <th>4</th>\n",
       "      <td></td>\n",
       "      <td>2020-09-30 18:49:56</td>\n",
       "      <td>1.576 sec</td>\n",
       "      <td>4.0</td>\n",
       "      <td>52.491801</td>\n",
       "      <td>36.939431</td>\n",
       "      <td>2755.389135</td>\n",
       "      <td>58.543822</td>\n",
       "      <td>38.825871</td>\n",
       "      <td>3427.379081</td>\n",
       "    </tr>\n",
       "    <tr>\n",
       "      <th>5</th>\n",
       "      <td></td>\n",
       "      <td>2020-09-30 18:49:56</td>\n",
       "      <td>1.586 sec</td>\n",
       "      <td>5.0</td>\n",
       "      <td>49.543594</td>\n",
       "      <td>35.012271</td>\n",
       "      <td>2454.567754</td>\n",
       "      <td>55.428234</td>\n",
       "      <td>37.059706</td>\n",
       "      <td>3072.289121</td>\n",
       "    </tr>\n",
       "    <tr>\n",
       "      <th>6</th>\n",
       "      <td></td>\n",
       "      <td>2020-09-30 18:49:56</td>\n",
       "      <td>1.591 sec</td>\n",
       "      <td>6.0</td>\n",
       "      <td>47.487692</td>\n",
       "      <td>33.686451</td>\n",
       "      <td>2255.080856</td>\n",
       "      <td>52.846417</td>\n",
       "      <td>35.663085</td>\n",
       "      <td>2792.743774</td>\n",
       "    </tr>\n",
       "    <tr>\n",
       "      <th>7</th>\n",
       "      <td></td>\n",
       "      <td>2020-09-30 18:49:56</td>\n",
       "      <td>1.595 sec</td>\n",
       "      <td>7.0</td>\n",
       "      <td>45.766725</td>\n",
       "      <td>32.569155</td>\n",
       "      <td>2094.593084</td>\n",
       "      <td>51.211692</td>\n",
       "      <td>34.597348</td>\n",
       "      <td>2622.637398</td>\n",
       "    </tr>\n",
       "    <tr>\n",
       "      <th>8</th>\n",
       "      <td></td>\n",
       "      <td>2020-09-30 18:49:56</td>\n",
       "      <td>1.601 sec</td>\n",
       "      <td>8.0</td>\n",
       "      <td>44.578885</td>\n",
       "      <td>31.719861</td>\n",
       "      <td>1987.276975</td>\n",
       "      <td>50.161585</td>\n",
       "      <td>33.940422</td>\n",
       "      <td>2516.184630</td>\n",
       "    </tr>\n",
       "    <tr>\n",
       "      <th>9</th>\n",
       "      <td></td>\n",
       "      <td>2020-09-30 18:49:56</td>\n",
       "      <td>1.615 sec</td>\n",
       "      <td>9.0</td>\n",
       "      <td>43.634441</td>\n",
       "      <td>31.136639</td>\n",
       "      <td>1903.964414</td>\n",
       "      <td>48.967484</td>\n",
       "      <td>33.282612</td>\n",
       "      <td>2397.814528</td>\n",
       "    </tr>\n",
       "    <tr>\n",
       "      <th>10</th>\n",
       "      <td></td>\n",
       "      <td>2020-09-30 18:49:56</td>\n",
       "      <td>1.619 sec</td>\n",
       "      <td>10.0</td>\n",
       "      <td>42.596970</td>\n",
       "      <td>30.431963</td>\n",
       "      <td>1814.501854</td>\n",
       "      <td>47.933041</td>\n",
       "      <td>32.706818</td>\n",
       "      <td>2297.576393</td>\n",
       "    </tr>\n",
       "    <tr>\n",
       "      <th>11</th>\n",
       "      <td></td>\n",
       "      <td>2020-09-30 18:49:56</td>\n",
       "      <td>1.624 sec</td>\n",
       "      <td>11.0</td>\n",
       "      <td>42.062846</td>\n",
       "      <td>30.015545</td>\n",
       "      <td>1769.283014</td>\n",
       "      <td>47.351985</td>\n",
       "      <td>32.391197</td>\n",
       "      <td>2242.210517</td>\n",
       "    </tr>\n",
       "    <tr>\n",
       "      <th>12</th>\n",
       "      <td></td>\n",
       "      <td>2020-09-30 18:49:56</td>\n",
       "      <td>1.629 sec</td>\n",
       "      <td>12.0</td>\n",
       "      <td>41.456517</td>\n",
       "      <td>29.597293</td>\n",
       "      <td>1718.642828</td>\n",
       "      <td>46.842609</td>\n",
       "      <td>31.996611</td>\n",
       "      <td>2194.230051</td>\n",
       "    </tr>\n",
       "    <tr>\n",
       "      <th>13</th>\n",
       "      <td></td>\n",
       "      <td>2020-09-30 18:49:56</td>\n",
       "      <td>1.646 sec</td>\n",
       "      <td>13.0</td>\n",
       "      <td>40.793643</td>\n",
       "      <td>29.136645</td>\n",
       "      <td>1664.121305</td>\n",
       "      <td>46.494668</td>\n",
       "      <td>31.697241</td>\n",
       "      <td>2161.754140</td>\n",
       "    </tr>\n",
       "    <tr>\n",
       "      <th>14</th>\n",
       "      <td></td>\n",
       "      <td>2020-09-30 18:49:56</td>\n",
       "      <td>1.651 sec</td>\n",
       "      <td>14.0</td>\n",
       "      <td>40.264018</td>\n",
       "      <td>28.737855</td>\n",
       "      <td>1621.191119</td>\n",
       "      <td>46.297161</td>\n",
       "      <td>31.587364</td>\n",
       "      <td>2143.427149</td>\n",
       "    </tr>\n",
       "    <tr>\n",
       "      <th>15</th>\n",
       "      <td></td>\n",
       "      <td>2020-09-30 18:49:56</td>\n",
       "      <td>1.665 sec</td>\n",
       "      <td>15.0</td>\n",
       "      <td>39.958271</td>\n",
       "      <td>28.550052</td>\n",
       "      <td>1596.663413</td>\n",
       "      <td>45.899815</td>\n",
       "      <td>31.517236</td>\n",
       "      <td>2106.793019</td>\n",
       "    </tr>\n",
       "  </tbody>\n",
       "</table>\n",
       "</div>"
      ],
      "text/plain": [
       "                timestamp    duration  number_of_trees  training_rmse  \\\n",
       "0     2020-09-30 18:49:56   1.543 sec              0.0      79.809581   \n",
       "1     2020-09-30 18:49:56   1.553 sec              1.0      69.623162   \n",
       "2     2020-09-30 18:49:56   1.557 sec              2.0      62.010585   \n",
       "3     2020-09-30 18:49:56   1.563 sec              3.0      56.550744   \n",
       "4     2020-09-30 18:49:56   1.576 sec              4.0      52.491801   \n",
       "5     2020-09-30 18:49:56   1.586 sec              5.0      49.543594   \n",
       "6     2020-09-30 18:49:56   1.591 sec              6.0      47.487692   \n",
       "7     2020-09-30 18:49:56   1.595 sec              7.0      45.766725   \n",
       "8     2020-09-30 18:49:56   1.601 sec              8.0      44.578885   \n",
       "9     2020-09-30 18:49:56   1.615 sec              9.0      43.634441   \n",
       "10    2020-09-30 18:49:56   1.619 sec             10.0      42.596970   \n",
       "11    2020-09-30 18:49:56   1.624 sec             11.0      42.062846   \n",
       "12    2020-09-30 18:49:56   1.629 sec             12.0      41.456517   \n",
       "13    2020-09-30 18:49:56   1.646 sec             13.0      40.793643   \n",
       "14    2020-09-30 18:49:56   1.651 sec             14.0      40.264018   \n",
       "15    2020-09-30 18:49:56   1.665 sec             15.0      39.958271   \n",
       "\n",
       "    training_mae  training_deviance  validation_rmse  validation_mae  \\\n",
       "0      54.889859        6369.569150        89.260308       56.879375   \n",
       "1      48.336890        4847.384684        77.690884       49.842872   \n",
       "2      43.331628        3845.312643        68.997161       44.785434   \n",
       "3      39.634203        3197.986609        62.982382       41.329010   \n",
       "4      36.939431        2755.389135        58.543822       38.825871   \n",
       "5      35.012271        2454.567754        55.428234       37.059706   \n",
       "6      33.686451        2255.080856        52.846417       35.663085   \n",
       "7      32.569155        2094.593084        51.211692       34.597348   \n",
       "8      31.719861        1987.276975        50.161585       33.940422   \n",
       "9      31.136639        1903.964414        48.967484       33.282612   \n",
       "10     30.431963        1814.501854        47.933041       32.706818   \n",
       "11     30.015545        1769.283014        47.351985       32.391197   \n",
       "12     29.597293        1718.642828        46.842609       31.996611   \n",
       "13     29.136645        1664.121305        46.494668       31.697241   \n",
       "14     28.737855        1621.191119        46.297161       31.587364   \n",
       "15     28.550052        1596.663413        45.899815       31.517236   \n",
       "\n",
       "    validation_deviance  \n",
       "0           7967.402633  \n",
       "1           6035.873480  \n",
       "2           4760.608225  \n",
       "3           3966.780452  \n",
       "4           3427.379081  \n",
       "5           3072.289121  \n",
       "6           2792.743774  \n",
       "7           2622.637398  \n",
       "8           2516.184630  \n",
       "9           2397.814528  \n",
       "10          2297.576393  \n",
       "11          2242.210517  \n",
       "12          2194.230051  \n",
       "13          2161.754140  \n",
       "14          2143.427149  \n",
       "15          2106.793019  "
      ]
     },
     "metadata": {},
     "output_type": "display_data"
    },
    {
     "name": "stdout",
     "output_type": "stream",
     "text": [
      "\n",
      "Variable Importances: \n"
     ]
    },
    {
     "data": {
      "text/html": [
       "<div>\n",
       "<style scoped>\n",
       "    .dataframe tbody tr th:only-of-type {\n",
       "        vertical-align: middle;\n",
       "    }\n",
       "\n",
       "    .dataframe tbody tr th {\n",
       "        vertical-align: top;\n",
       "    }\n",
       "\n",
       "    .dataframe thead th {\n",
       "        text-align: right;\n",
       "    }\n",
       "</style>\n",
       "<table border=\"1\" class=\"dataframe\">\n",
       "  <thead>\n",
       "    <tr style=\"text-align: right;\">\n",
       "      <th></th>\n",
       "      <th>variable</th>\n",
       "      <th>relative_importance</th>\n",
       "      <th>scaled_importance</th>\n",
       "      <th>percentage</th>\n",
       "    </tr>\n",
       "  </thead>\n",
       "  <tbody>\n",
       "    <tr>\n",
       "      <th>0</th>\n",
       "      <td>NoOfUnitsPurchased</td>\n",
       "      <td>2.409647e+07</td>\n",
       "      <td>1.000000</td>\n",
       "      <td>0.808494</td>\n",
       "    </tr>\n",
       "    <tr>\n",
       "      <th>1</th>\n",
       "      <td>NoOfGamesBought</td>\n",
       "      <td>3.131655e+06</td>\n",
       "      <td>0.129963</td>\n",
       "      <td>0.105074</td>\n",
       "    </tr>\n",
       "    <tr>\n",
       "      <th>2</th>\n",
       "      <td>FrquncyOfPurchase</td>\n",
       "      <td>1.376118e+06</td>\n",
       "      <td>0.057109</td>\n",
       "      <td>0.046172</td>\n",
       "    </tr>\n",
       "    <tr>\n",
       "      <th>3</th>\n",
       "      <td>MinAgeOfChild</td>\n",
       "      <td>3.223487e+05</td>\n",
       "      <td>0.013377</td>\n",
       "      <td>0.010816</td>\n",
       "    </tr>\n",
       "    <tr>\n",
       "      <th>4</th>\n",
       "      <td>NoOfGamesPlayed</td>\n",
       "      <td>2.785453e+05</td>\n",
       "      <td>0.011560</td>\n",
       "      <td>0.009346</td>\n",
       "    </tr>\n",
       "    <tr>\n",
       "      <th>5</th>\n",
       "      <td>FrequencyOFPlay</td>\n",
       "      <td>2.235550e+05</td>\n",
       "      <td>0.009278</td>\n",
       "      <td>0.007501</td>\n",
       "    </tr>\n",
       "    <tr>\n",
       "      <th>6</th>\n",
       "      <td>Tenure</td>\n",
       "      <td>1.682114e+05</td>\n",
       "      <td>0.006981</td>\n",
       "      <td>0.005644</td>\n",
       "    </tr>\n",
       "    <tr>\n",
       "      <th>7</th>\n",
       "      <td>FavoriteChannelOfTransaction</td>\n",
       "      <td>1.355093e+05</td>\n",
       "      <td>0.005624</td>\n",
       "      <td>0.004547</td>\n",
       "    </tr>\n",
       "    <tr>\n",
       "      <th>8</th>\n",
       "      <td>MaxAgeOfChild</td>\n",
       "      <td>7.173354e+04</td>\n",
       "      <td>0.002977</td>\n",
       "      <td>0.002407</td>\n",
       "    </tr>\n",
       "    <tr>\n",
       "      <th>9</th>\n",
       "      <td>NoOfChildren</td>\n",
       "      <td>0.000000e+00</td>\n",
       "      <td>0.000000</td>\n",
       "      <td>0.000000</td>\n",
       "    </tr>\n",
       "    <tr>\n",
       "      <th>10</th>\n",
       "      <td>FavoriteGame</td>\n",
       "      <td>0.000000e+00</td>\n",
       "      <td>0.000000</td>\n",
       "      <td>0.000000</td>\n",
       "    </tr>\n",
       "  </tbody>\n",
       "</table>\n",
       "</div>"
      ],
      "text/plain": [
       "                        variable  relative_importance  scaled_importance  \\\n",
       "0             NoOfUnitsPurchased         2.409647e+07           1.000000   \n",
       "1                NoOfGamesBought         3.131655e+06           0.129963   \n",
       "2              FrquncyOfPurchase         1.376118e+06           0.057109   \n",
       "3                  MinAgeOfChild         3.223487e+05           0.013377   \n",
       "4                NoOfGamesPlayed         2.785453e+05           0.011560   \n",
       "5                FrequencyOFPlay         2.235550e+05           0.009278   \n",
       "6                         Tenure         1.682114e+05           0.006981   \n",
       "7   FavoriteChannelOfTransaction         1.355093e+05           0.005624   \n",
       "8                  MaxAgeOfChild         7.173354e+04           0.002977   \n",
       "9                   NoOfChildren         0.000000e+00           0.000000   \n",
       "10                  FavoriteGame         0.000000e+00           0.000000   \n",
       "\n",
       "    percentage  \n",
       "0     0.808494  \n",
       "1     0.105074  \n",
       "2     0.046172  \n",
       "3     0.010816  \n",
       "4     0.009346  \n",
       "5     0.007501  \n",
       "6     0.005644  \n",
       "7     0.004547  \n",
       "8     0.002407  \n",
       "9     0.000000  \n",
       "10    0.000000  "
      ]
     },
     "metadata": {},
     "output_type": "display_data"
    },
    {
     "data": {
      "text/plain": []
     },
     "execution_count": 51,
     "metadata": {},
     "output_type": "execute_result"
    }
   ],
   "source": [
    "gbm_final_model"
   ]
  },
  {
   "cell_type": "markdown",
   "metadata": {},
   "source": [
    "## Evaluation of GBM model on the train and validation data"
   ]
  },
  {
   "cell_type": "code",
   "execution_count": 52,
   "metadata": {},
   "outputs": [
    {
     "name": "stdout",
     "output_type": "stream",
     "text": [
      "gbm prediction progress: |████████████████████████████████████████████████| 100%\n",
      "gbm prediction progress: |████████████████████████████████████████████████| 100%\n",
      "gbm prediction progress: |████████████████████████████████████████████████| 100%\n"
     ]
    }
   ],
   "source": [
    "trainPredGBMGrid = gbm_final_model.predict(trainData)\n",
    "validationPredGBMGrid = gbm_final_model.predict(validationData)\n",
    "testPredGBMGrid = gbm_final_model.predict(testData)"
   ]
  },
  {
   "cell_type": "code",
   "execution_count": 53,
   "metadata": {},
   "outputs": [
    {
     "data": {
      "text/html": [
       "<table>\n",
       "<thead>\n",
       "<tr><th style=\"text-align: right;\">  predict</th></tr>\n",
       "</thead>\n",
       "<tbody>\n",
       "<tr><td style=\"text-align: right;\">  323.096</td></tr>\n",
       "<tr><td style=\"text-align: right;\">  175.627</td></tr>\n",
       "<tr><td style=\"text-align: right;\">  273.316</td></tr>\n",
       "<tr><td style=\"text-align: right;\">  149.301</td></tr>\n",
       "<tr><td style=\"text-align: right;\">  160.507</td></tr>\n",
       "<tr><td style=\"text-align: right;\">  133.56 </td></tr>\n",
       "<tr><td style=\"text-align: right;\">  151.211</td></tr>\n",
       "<tr><td style=\"text-align: right;\">  158.116</td></tr>\n",
       "<tr><td style=\"text-align: right;\">  165.904</td></tr>\n",
       "<tr><td style=\"text-align: right;\">  149.301</td></tr>\n",
       "</tbody>\n",
       "</table>"
      ]
     },
     "metadata": {},
     "output_type": "display_data"
    },
    {
     "data": {
      "text/plain": []
     },
     "execution_count": 53,
     "metadata": {},
     "output_type": "execute_result"
    }
   ],
   "source": [
    "trainPredGBMGrid"
   ]
  },
  {
   "cell_type": "code",
   "execution_count": 54,
   "metadata": {},
   "outputs": [
    {
     "name": "stdout",
     "output_type": "stream",
     "text": [
      "***** Train Error *****\n",
      "\n",
      "ModelMetricsRegression: gbm\n",
      "** Reported on test data. **\n",
      "\n",
      "MSE: 1596.6634818390244\n",
      "RMSE: 39.95827175740993\n",
      "MAE: 28.550053934513425\n",
      "RMSLE: 0.20311347237617974\n",
      "Mean Residual Deviance: 1596.6634818390244\n",
      "***** Validation Error *****\n",
      "\n",
      "ModelMetricsRegression: gbm\n",
      "** Reported on test data. **\n",
      "\n",
      "MSE: 1596.6634818390244\n",
      "RMSE: 39.95827175740993\n",
      "MAE: 28.550053934513425\n",
      "RMSLE: 0.20311347237617974\n",
      "Mean Residual Deviance: 1596.6634818390244\n"
     ]
    }
   ],
   "source": [
    "print(\"***** Train Error *****\")\n",
    "gbm_final_model.model_performance(trainData).show()\n",
    "print(\"***** Validation Error *****\")\n",
    "gbm_final_model.model_performance(trainData).show()"
   ]
  },
  {
   "cell_type": "markdown",
   "metadata": {},
   "source": [
    "## Evaluation of GBM model on the test data"
   ]
  },
  {
   "cell_type": "code",
   "execution_count": 55,
   "metadata": {},
   "outputs": [
    {
     "name": "stdout",
     "output_type": "stream",
     "text": [
      "\n",
      "ModelMetricsRegression: gbm\n",
      "** Reported on test data. **\n",
      "\n",
      "MSE: 2136.7132829538778\n",
      "RMSE: 46.22459608210631\n",
      "MAE: 30.527216567418165\n",
      "RMSLE: 0.2182034234873032\n",
      "Mean Residual Deviance: 2136.7132829538778\n"
     ]
    }
   ],
   "source": [
    "gbm_final_model.model_performance(testData).show()"
   ]
  },
  {
   "cell_type": "markdown",
   "metadata": {},
   "source": [
    "## Random Grid Search\n",
    "\n",
    "    If the search space is too large, you can also let the Grid Search make random model selections for you. \n",
    "    Just specify how many models (and/or how much training time) you want, and a seed to make the random selection deterministic"
   ]
  },
  {
   "cell_type": "markdown",
   "metadata": {},
   "source": [
    "The default strategy “Cartesian” covers the entire space of hyperparameter combinations. \n",
    "\n",
    "Specify the “RandomDiscrete” strategy to get random search of all the combinations of your hyperparameters. "
   ]
  },
  {
   "cell_type": "markdown",
   "metadata": {},
   "source": [
    "Define Paramms for GBM"
   ]
  },
  {
   "cell_type": "code",
   "execution_count": 56,
   "metadata": {},
   "outputs": [],
   "source": [
    "ntrees_opt = list(range(1,100,1))\n",
    "max_depth_opt = list(range(1,20,1))\n",
    "learn_rate_opt = [s/float(1000) for s in range(1,101)]\n",
    "\n",
    "hyper_parameters = {\"ntrees\": ntrees_opt, \"max_depth\":max_depth_opt, \"learn_rate\":learn_rate_opt}\n",
    "\n",
    "search_criteria = {\"strategy\":\"RandomDiscrete\", \"max_models\":10, \"max_runtime_secs\":100, \"seed\":123456}"
   ]
  },
  {
   "cell_type": "code",
   "execution_count": 57,
   "metadata": {},
   "outputs": [
    {
     "name": "stdout",
     "output_type": "stream",
     "text": [
      "gbm Grid Build progress: |████████████████████████████████████████████████| 100%\n"
     ]
    }
   ],
   "source": [
    "gs_RandomGrid_GBM = H2OGridSearch(H2OGradientBoostingEstimator, hyper_params=hyper_parameters, search_criteria=search_criteria)\n",
    "\n",
    "gs_RandomGrid_GBM.train(x = predictors,\n",
    "                        y = target,\n",
    "                        training_frame = trainData,\n",
    "                        validation_frame = validationData)"
   ]
  },
  {
   "cell_type": "code",
   "execution_count": 58,
   "metadata": {},
   "outputs": [
    {
     "name": "stdout",
     "output_type": "stream",
     "text": [
      "    learn_rate max_depth ntrees  \\\n",
      "0        0.082        13     48   \n",
      "1        0.078         9     90   \n",
      "2        0.065        12     81   \n",
      "3        0.049         4     54   \n",
      "4        0.075        14     47   \n",
      "5        0.026         8     66   \n",
      "6        0.011         8     94   \n",
      "7        0.048         7     12   \n",
      "8        0.001        13     92   \n",
      "9        0.001        16     43   \n",
      "\n",
      "                                                       model_ids  \\\n",
      "0   Grid_GBM_py_70_sid_a2d8_model_python_1601471984095_3_model_4   \n",
      "1   Grid_GBM_py_70_sid_a2d8_model_python_1601471984095_3_model_1   \n",
      "2   Grid_GBM_py_70_sid_a2d8_model_python_1601471984095_3_model_5   \n",
      "3   Grid_GBM_py_70_sid_a2d8_model_python_1601471984095_3_model_6   \n",
      "4   Grid_GBM_py_70_sid_a2d8_model_python_1601471984095_3_model_7   \n",
      "5   Grid_GBM_py_70_sid_a2d8_model_python_1601471984095_3_model_9   \n",
      "6   Grid_GBM_py_70_sid_a2d8_model_python_1601471984095_3_model_3   \n",
      "7  Grid_GBM_py_70_sid_a2d8_model_python_1601471984095_3_model_10   \n",
      "8   Grid_GBM_py_70_sid_a2d8_model_python_1601471984095_3_model_2   \n",
      "9   Grid_GBM_py_70_sid_a2d8_model_python_1601471984095_3_model_8   \n",
      "\n",
      "    residual_deviance  \n",
      "0   2200.512876085681  \n",
      "1   2219.045634131886  \n",
      "2    2267.79941402246  \n",
      "3  2269.0919190557915  \n",
      "4  2273.7808970283195  \n",
      "5   2398.853289504421  \n",
      "6  3027.5876878938384  \n",
      "7    4083.49530173674  \n",
      "8   7025.190270705843  \n",
      "9   7505.498326443736  \n"
     ]
    },
    {
     "data": {
      "text/plain": []
     },
     "execution_count": 58,
     "metadata": {},
     "output_type": "execute_result"
    }
   ],
   "source": [
    "gs_RandomGrid_GBM"
   ]
  },
  {
   "cell_type": "code",
   "execution_count": 59,
   "metadata": {},
   "outputs": [
    {
     "name": "stdout",
     "output_type": "stream",
     "text": [
      "Grid_GBM_py_70_sid_a2d8_model_python_1601471984095_3_model_4 auc train data: 25.828896615746512\n",
      "Grid_GBM_py_70_sid_a2d8_model_python_1601471984095_3_model_4 auc validation data: 46.90962455707444\n",
      "##################################\n",
      "Grid_GBM_py_70_sid_a2d8_model_python_1601471984095_3_model_1 auc train data: 26.934278978894707\n",
      "Grid_GBM_py_70_sid_a2d8_model_python_1601471984095_3_model_1 auc validation data: 47.10674722512568\n",
      "##################################\n",
      "Grid_GBM_py_70_sid_a2d8_model_python_1601471984095_3_model_5 auc train data: 24.935311055209596\n",
      "Grid_GBM_py_70_sid_a2d8_model_python_1601471984095_3_model_5 auc validation data: 47.62141759778325\n",
      "##################################\n",
      "Grid_GBM_py_70_sid_a2d8_model_python_1601471984095_3_model_6 auc train data: 41.08863579697934\n",
      "Grid_GBM_py_70_sid_a2d8_model_python_1601471984095_3_model_6 auc validation data: 47.63498629217596\n",
      "##################################\n",
      "Grid_GBM_py_70_sid_a2d8_model_python_1601471984095_3_model_7 auc train data: 26.425634576936986\n",
      "Grid_GBM_py_70_sid_a2d8_model_python_1601471984095_3_model_7 auc validation data: 47.6841786867334\n",
      "##################################\n",
      "Grid_GBM_py_70_sid_a2d8_model_python_1601471984095_3_model_9 auc train data: 38.44914036143284\n",
      "Grid_GBM_py_70_sid_a2d8_model_python_1601471984095_3_model_9 auc validation data: 48.97808989236331\n",
      "##################################\n",
      "Grid_GBM_py_70_sid_a2d8_model_python_1601471984095_3_model_3 auc train data: 45.81556847701417\n",
      "Grid_GBM_py_70_sid_a2d8_model_python_1601471984095_3_model_3 auc validation data: 55.02351940664863\n",
      "##################################\n",
      "Grid_GBM_py_70_sid_a2d8_model_python_1601471984095_3_model_10 auc train data: 55.72456204749789\n",
      "Grid_GBM_py_70_sid_a2d8_model_python_1601471984095_3_model_10 auc validation data: 63.902232368961414\n",
      "##################################\n",
      "Grid_GBM_py_70_sid_a2d8_model_python_1601471984095_3_model_2 auc train data: 74.54204356784928\n",
      "Grid_GBM_py_70_sid_a2d8_model_python_1601471984095_3_model_2 auc validation data: 83.81640812338503\n",
      "##################################\n",
      "Grid_GBM_py_70_sid_a2d8_model_python_1601471984095_3_model_8 auc train data: 77.26655674223039\n",
      "Grid_GBM_py_70_sid_a2d8_model_python_1601471984095_3_model_8 auc validation data: 86.63427916502646\n",
      "##################################\n"
     ]
    }
   ],
   "source": [
    "for rgseach in gs_RandomGrid_GBM:\n",
    "    print(rgseach.model_id + \" auc train data: \" + str(rgseach.rmse(valid = False)))\n",
    "    print(rgseach.model_id + \" auc validation data: \" + str(rgseach.rmse(valid = True)))\n",
    "    print(\"##################################\")"
   ]
  },
  {
   "cell_type": "markdown",
   "metadata": {},
   "source": [
    "# Generalized Linear Models"
   ]
  },
  {
   "cell_type": "code",
   "execution_count": 60,
   "metadata": {},
   "outputs": [
    {
     "name": "stdout",
     "output_type": "stream",
     "text": [
      "glm Model Build progress: |███████████████████████████████████████████████| 100%\n"
     ]
    }
   ],
   "source": [
    "from h2o.estimators.glm import H2OGeneralizedLinearEstimator\n",
    "\n",
    "# Defining the GLM model\n",
    "glmModel = H2OGeneralizedLinearEstimator(family=\"gaussian\", standardize=True)\n",
    "\n",
    "# Training the GLM model\n",
    "glmModel.train(x = predictors,\n",
    "               y = target,\n",
    "               training_frame  = trainData,\n",
    "               validation_frame= validationData)"
   ]
  },
  {
   "cell_type": "code",
   "execution_count": 61,
   "metadata": {},
   "outputs": [
    {
     "name": "stdout",
     "output_type": "stream",
     "text": [
      "glm prediction progress: |████████████████████████████████████████████████| 100%\n",
      "glm prediction progress: |████████████████████████████████████████████████| 100%\n",
      "glm prediction progress: |████████████████████████████████████████████████| 100%\n"
     ]
    }
   ],
   "source": [
    "trainPredGLM = glmModel.predict(trainData)\n",
    "validationPredGLM = glmModel.predict(validationData)\n",
    "testPredGLM = glmModel.predict(testData)"
   ]
  },
  {
   "cell_type": "code",
   "execution_count": 62,
   "metadata": {},
   "outputs": [
    {
     "data": {
      "text/html": [
       "<table>\n",
       "<thead>\n",
       "<tr><th style=\"text-align: right;\">  predict</th></tr>\n",
       "</thead>\n",
       "<tbody>\n",
       "<tr><td style=\"text-align: right;\">  261.173</td></tr>\n",
       "<tr><td style=\"text-align: right;\">  186.608</td></tr>\n",
       "<tr><td style=\"text-align: right;\">  275.814</td></tr>\n",
       "<tr><td style=\"text-align: right;\">  172.529</td></tr>\n",
       "<tr><td style=\"text-align: right;\">  173.319</td></tr>\n",
       "<tr><td style=\"text-align: right;\">  143.271</td></tr>\n",
       "<tr><td style=\"text-align: right;\">  188.214</td></tr>\n",
       "<tr><td style=\"text-align: right;\">  152.649</td></tr>\n",
       "<tr><td style=\"text-align: right;\">  171.654</td></tr>\n",
       "<tr><td style=\"text-align: right;\">  159.874</td></tr>\n",
       "</tbody>\n",
       "</table>"
      ]
     },
     "metadata": {},
     "output_type": "display_data"
    },
    {
     "data": {
      "text/plain": []
     },
     "execution_count": 62,
     "metadata": {},
     "output_type": "execute_result"
    }
   ],
   "source": [
    "trainPredGLM"
   ]
  },
  {
   "cell_type": "markdown",
   "metadata": {},
   "source": [
    "## Evaluating the GLM model on train and validation data"
   ]
  },
  {
   "cell_type": "code",
   "execution_count": 63,
   "metadata": {},
   "outputs": [
    {
     "name": "stdout",
     "output_type": "stream",
     "text": [
      "***** Train Error *****\n",
      "\n",
      "ModelMetricsRegressionGLM: glm\n",
      "** Reported on test data. **\n",
      "\n",
      "MSE: 2096.0347207610293\n",
      "RMSE: 45.782471763340055\n",
      "MAE: 32.82304002440165\n",
      "RMSLE: 0.23870302766138163\n",
      "R^2: 0.6709299056916866\n",
      "Mean Residual Deviance: 2096.0347207610293\n",
      "Null degrees of freedom: 2247\n",
      "Residual degrees of freedom: 2234\n",
      "Null deviance: 14318791.448292874\n",
      "Residual deviance: 4711886.052270794\n",
      "AIC: 23601.80791380981\n",
      "***** Validation Error *****\n",
      "\n",
      "ModelMetricsRegressionGLM: glm\n",
      "** Reported on test data. **\n",
      "\n",
      "MSE: 2497.8264194052576\n",
      "RMSE: 49.978259467545065\n",
      "MAE: 32.89409116915192\n",
      "RMSLE: 0.23713916373603652\n",
      "R^2: 0.6852688659815842\n",
      "Mean Residual Deviance: 2497.8264194052576\n",
      "Null degrees of freedom: 455\n",
      "Residual degrees of freedom: 442\n",
      "Null deviance: 3633135.600431666\n",
      "Residual deviance: 1139008.8472487975\n",
      "AIC: 4891.440289684658\n"
     ]
    }
   ],
   "source": [
    "print(\"***** Train Error *****\")\n",
    "glmModel.model_performance(trainData).show()\n",
    "print(\"***** Validation Error *****\")\n",
    "glmModel.model_performance(validationData).show()"
   ]
  },
  {
   "cell_type": "markdown",
   "metadata": {},
   "source": [
    "## Evaluating the GLM model on test data"
   ]
  },
  {
   "cell_type": "code",
   "execution_count": 64,
   "metadata": {},
   "outputs": [
    {
     "name": "stdout",
     "output_type": "stream",
     "text": [
      "\n",
      "ModelMetricsRegressionGLM: glm\n",
      "** Reported on test data. **\n",
      "\n",
      "MSE: 2447.4781124153205\n",
      "RMSE: 49.4719932124765\n",
      "MAE: 33.56536791964116\n",
      "RMSLE: 0.24624573265842065\n",
      "R^2: 0.6493666656269586\n",
      "Mean Residual Deviance: 2447.4781124153205\n",
      "Null degrees of freedom: 486\n",
      "Residual degrees of freedom: 473\n",
      "Null deviance: 3399772.0923296977\n",
      "Residual deviance: 1191921.8407462612\n",
      "AIC: 5212.016272497097\n"
     ]
    }
   ],
   "source": [
    "glmModel.model_performance(testData).show()"
   ]
  },
  {
   "cell_type": "markdown",
   "metadata": {},
   "source": [
    "## GLM random grid search"
   ]
  },
  {
   "cell_type": "code",
   "execution_count": 65,
   "metadata": {},
   "outputs": [],
   "source": [
    "# Begin with a random search of a space of 6 * 5 = 30 possible models:\n",
    "alpha_opt = [0.01,0.1,0.3,0.5,0.7,0.9]\n",
    "lambda_opt = [1e-4,1e-5,1e-6,1e-7,1e-8]\n",
    "\n",
    "hyper_parameters = { 'alpha': alpha_opt, \n",
    "                     'lambda': lambda_opt}\n",
    "\n",
    "search_criteria = {\"strategy\":\"RandomDiscrete\", \"max_models\":10, \"max_runtime_secs\":100, \"seed\":123456}"
   ]
  },
  {
   "cell_type": "code",
   "execution_count": 66,
   "metadata": {},
   "outputs": [
    {
     "name": "stdout",
     "output_type": "stream",
     "text": [
      "glm Grid Build progress: |████████████████████████████████████████████████| 100%\n"
     ]
    }
   ],
   "source": [
    "from h2o.estimators.glm import H2OGeneralizedLinearEstimator\n",
    "\n",
    "random_GLM_Model = H2OGridSearch(H2OGeneralizedLinearEstimator(family='gaussian', standardize=True),\n",
    "                                 hyper_params = hyper_parameters,\n",
    "                                 search_criteria=search_criteria)\n",
    "    \n",
    "random_GLM_Model.train(x = predictors,\n",
    "                       y = target,\n",
    "                       training_frame   = trainData,\n",
    "                       validation_frame = validationData)"
   ]
  },
  {
   "cell_type": "code",
   "execution_count": 67,
   "metadata": {
    "scrolled": true
   },
   "outputs": [
    {
     "name": "stdout",
     "output_type": "stream",
     "text": [
      "Grid_GLM_py_70_sid_a2d8_model_python_1601471984095_5_model_7 auc train data: 42.51881103569932\n",
      "Grid_GLM_py_70_sid_a2d8_model_python_1601471984095_5_model_7 auc validation data: 44.71942260465854\n",
      "##################################\n",
      "Grid_GLM_py_70_sid_a2d8_model_python_1601471984095_5_model_2 auc train data: 42.51881103571104\n",
      "Grid_GLM_py_70_sid_a2d8_model_python_1601471984095_5_model_2 auc validation data: 44.71942313419545\n",
      "##################################\n",
      "Grid_GLM_py_70_sid_a2d8_model_python_1601471984095_5_model_1 auc train data: 42.51881103572256\n",
      "Grid_GLM_py_70_sid_a2d8_model_python_1601471984095_5_model_1 auc validation data: 44.71942339896577\n",
      "##################################\n",
      "Grid_GLM_py_70_sid_a2d8_model_python_1601471984095_5_model_5 auc train data: 42.51881103615561\n",
      "Grid_GLM_py_70_sid_a2d8_model_python_1601471984095_5_model_5 auc validation data: 44.71942677978637\n",
      "##################################\n",
      "Grid_GLM_py_70_sid_a2d8_model_python_1601471984095_5_model_4 auc train data: 42.518811036930536\n",
      "Grid_GLM_py_70_sid_a2d8_model_python_1601471984095_5_model_4 auc validation data: 44.71942942895919\n",
      "##################################\n",
      "Grid_GLM_py_70_sid_a2d8_model_python_1601471984095_5_model_10 auc train data: 42.51881103808239\n",
      "Grid_GLM_py_70_sid_a2d8_model_python_1601471984095_5_model_10 auc validation data: 44.71943207852674\n",
      "##################################\n",
      "Grid_GLM_py_70_sid_a2d8_model_python_1601471984095_5_model_9 auc train data: 42.51881104159757\n",
      "Grid_GLM_py_70_sid_a2d8_model_python_1601471984095_5_model_9 auc validation data: 44.71943934631098\n",
      "##################################\n",
      "Grid_GLM_py_70_sid_a2d8_model_python_1601471984095_5_model_6 auc train data: 42.51881115888087\n",
      "Grid_GLM_py_70_sid_a2d8_model_python_1601471984095_5_model_6 auc validation data: 44.719492507447605\n",
      "##################################\n",
      "Grid_GLM_py_70_sid_a2d8_model_python_1601471984095_5_model_3 auc train data: 42.518811628754285\n",
      "Grid_GLM_py_70_sid_a2d8_model_python_1601471984095_5_model_3 auc validation data: 44.7195905359669\n",
      "##################################\n",
      "Grid_GLM_py_70_sid_a2d8_model_python_1601471984095_5_model_8 auc train data: 42.518815606183075\n",
      "Grid_GLM_py_70_sid_a2d8_model_python_1601471984095_5_model_8 auc validation data: 44.719861665331464\n",
      "##################################\n"
     ]
    }
   ],
   "source": [
    "for rgseach in random_GLM_Model:\n",
    "    print(rgseach.model_id + \" auc train data: \" + str(rgseach.rmse(valid = False)))\n",
    "    print(rgseach.model_id + \" auc validation data: \" + str(rgseach.rmse(valid = True)))\n",
    "    print(\"##################################\")"
   ]
  },
  {
   "cell_type": "markdown",
   "metadata": {},
   "source": [
    "BY default the grid search model will be sorted"
   ]
  },
  {
   "cell_type": "code",
   "execution_count": 68,
   "metadata": {},
   "outputs": [],
   "source": [
    "glm_GridModel = random_GLM_Model[0]"
   ]
  },
  {
   "cell_type": "code",
   "execution_count": 69,
   "metadata": {},
   "outputs": [
    {
     "name": "stdout",
     "output_type": "stream",
     "text": [
      "glm prediction progress: |████████████████████████████████████████████████| 100%\n",
      "glm prediction progress: |████████████████████████████████████████████████| 100%\n",
      "glm prediction progress: |████████████████████████████████████████████████| 100%\n"
     ]
    }
   ],
   "source": [
    "trainGridPredGLM = glm_GridModel.predict(trainData)\n",
    "validationGridPredGLM = glm_GridModel.predict(validationData)\n",
    "testGridPredGLM = glm_GridModel.predict(testData)"
   ]
  },
  {
   "cell_type": "code",
   "execution_count": 70,
   "metadata": {},
   "outputs": [
    {
     "data": {
      "text/html": [
       "<table>\n",
       "<thead>\n",
       "<tr><th style=\"text-align: right;\">  predict</th></tr>\n",
       "</thead>\n",
       "<tbody>\n",
       "<tr><td style=\"text-align: right;\">  331.639</td></tr>\n",
       "<tr><td style=\"text-align: right;\">  181.56 </td></tr>\n",
       "<tr><td style=\"text-align: right;\">  271.393</td></tr>\n",
       "<tr><td style=\"text-align: right;\">  166.503</td></tr>\n",
       "<tr><td style=\"text-align: right;\">  169.529</td></tr>\n",
       "<tr><td style=\"text-align: right;\">  134.404</td></tr>\n",
       "<tr><td style=\"text-align: right;\">  204.952</td></tr>\n",
       "<tr><td style=\"text-align: right;\">  180.376</td></tr>\n",
       "<tr><td style=\"text-align: right;\">  160.273</td></tr>\n",
       "<tr><td style=\"text-align: right;\">  150.699</td></tr>\n",
       "</tbody>\n",
       "</table>"
      ]
     },
     "metadata": {},
     "output_type": "display_data"
    },
    {
     "data": {
      "text/plain": []
     },
     "execution_count": 70,
     "metadata": {},
     "output_type": "execute_result"
    }
   ],
   "source": [
    "trainGridPredGLM"
   ]
  },
  {
   "cell_type": "markdown",
   "metadata": {},
   "source": [
    "## Evaluating the GLM model on train and validation data"
   ]
  },
  {
   "cell_type": "code",
   "execution_count": 71,
   "metadata": {},
   "outputs": [
    {
     "name": "stdout",
     "output_type": "stream",
     "text": [
      "***** Train Error *****\n",
      "\n",
      "ModelMetricsRegressionGLM: glm\n",
      "** Reported on test data. **\n",
      "\n",
      "MSE: 1807.8492918895065\n",
      "RMSE: 42.51881103569932\n",
      "MAE: 31.210784072083097\n",
      "RMSLE: 0.23031072993832916\n",
      "R^2: 0.7161740065253798\n",
      "Mean Residual Deviance: 1807.8492918895065\n",
      "Null degrees of freedom: 2247\n",
      "Residual degrees of freedom: 2234\n",
      "Null deviance: 14318791.448292874\n",
      "Residual deviance: 4064045.2081676107\n",
      "AIC: 23269.307516675246\n",
      "***** Validation Error *****\n",
      "\n",
      "ModelMetricsRegressionGLM: glm\n",
      "** Reported on test data. **\n",
      "\n",
      "MSE: 1999.826758094045\n",
      "RMSE: 44.71942260465854\n",
      "MAE: 31.888771102092065\n",
      "RMSLE: 0.23502297175842987\n",
      "R^2: 0.7480178212042552\n",
      "Mean Residual Deviance: 1999.826758094045\n",
      "Null degrees of freedom: 455\n",
      "Residual degrees of freedom: 442\n",
      "Null deviance: 3633135.600431666\n",
      "Residual deviance: 911921.0016908846\n",
      "AIC: 4790.043962968468\n"
     ]
    }
   ],
   "source": [
    "print(\"***** Train Error *****\")\n",
    "glm_GridModel.model_performance(trainData).show()\n",
    "print(\"***** Validation Error *****\")\n",
    "glm_GridModel.model_performance(validationData).show()"
   ]
  },
  {
   "cell_type": "markdown",
   "metadata": {},
   "source": [
    "## Evaluating the GLM model on test data"
   ]
  },
  {
   "cell_type": "code",
   "execution_count": 72,
   "metadata": {},
   "outputs": [
    {
     "name": "stdout",
     "output_type": "stream",
     "text": [
      "\n",
      "ModelMetricsRegressionGLM: glm\n",
      "** Reported on test data. **\n",
      "\n",
      "MSE: 2111.455834692641\n",
      "RMSE: 45.95058035207652\n",
      "MAE: 32.648039595605105\n",
      "RMSLE: 0.2414885725302435\n",
      "R^2: 0.6975062633066512\n",
      "Mean Residual Deviance: 2111.455834692641\n",
      "Null degrees of freedom: 486\n",
      "Residual degrees of freedom: 473\n",
      "Null deviance: 3399772.0923296977\n",
      "Residual deviance: 1028278.9914953161\n",
      "AIC: 5140.095881692329\n"
     ]
    }
   ],
   "source": [
    "glm_GridModel.model_performance(testData).show()"
   ]
  },
  {
   "cell_type": "markdown",
   "metadata": {},
   "source": [
    "# Random Forest"
   ]
  },
  {
   "cell_type": "code",
   "execution_count": 73,
   "metadata": {},
   "outputs": [
    {
     "name": "stdout",
     "output_type": "stream",
     "text": [
      "drf Model Build progress: |███████████████████████████████████████████████| 100%\n"
     ]
    }
   ],
   "source": [
    "from h2o.estimators.random_forest import H2ORandomForestEstimator\n",
    "\n",
    "# Defining randomforest model\n",
    "rfModel = H2ORandomForestEstimator(ntrees = 50,\n",
    "                                    max_depth = 5)\n",
    "\n",
    "# Training rnadomforest model\n",
    "rfModel.train(x = predictors,\n",
    "               y = target,\n",
    "               training_frame  = trainData,\n",
    "               validation_frame= validationData)"
   ]
  },
  {
   "cell_type": "code",
   "execution_count": 74,
   "metadata": {},
   "outputs": [
    {
     "name": "stdout",
     "output_type": "stream",
     "text": [
      "drf prediction progress: |████████████████████████████████████████████████| 100%\n",
      "drf prediction progress: |████████████████████████████████████████████████| 100%\n",
      "drf prediction progress: |████████████████████████████████████████████████| 100%\n"
     ]
    }
   ],
   "source": [
    "trainPredRF = rfModel.predict(trainData)\n",
    "validationPredRF = rfModel.predict(validationData)\n",
    "testPredRF = rfModel.predict(testData)"
   ]
  },
  {
   "cell_type": "code",
   "execution_count": 75,
   "metadata": {},
   "outputs": [
    {
     "data": {
      "text/html": [
       "<table>\n",
       "<thead>\n",
       "<tr><th style=\"text-align: right;\">  predict</th></tr>\n",
       "</thead>\n",
       "<tbody>\n",
       "<tr><td style=\"text-align: right;\">  243.036</td></tr>\n",
       "<tr><td style=\"text-align: right;\">  178.949</td></tr>\n",
       "<tr><td style=\"text-align: right;\">  316.767</td></tr>\n",
       "<tr><td style=\"text-align: right;\">  151.182</td></tr>\n",
       "<tr><td style=\"text-align: right;\">  167.536</td></tr>\n",
       "<tr><td style=\"text-align: right;\">  138.881</td></tr>\n",
       "<tr><td style=\"text-align: right;\">  165.129</td></tr>\n",
       "<tr><td style=\"text-align: right;\">  153.476</td></tr>\n",
       "<tr><td style=\"text-align: right;\">  164.969</td></tr>\n",
       "<tr><td style=\"text-align: right;\">  149.651</td></tr>\n",
       "</tbody>\n",
       "</table>"
      ]
     },
     "metadata": {},
     "output_type": "display_data"
    },
    {
     "data": {
      "text/plain": []
     },
     "execution_count": 75,
     "metadata": {},
     "output_type": "execute_result"
    }
   ],
   "source": [
    "trainPredRF"
   ]
  },
  {
   "cell_type": "markdown",
   "metadata": {},
   "source": [
    "## Evaluating the RF model on train and validation data"
   ]
  },
  {
   "cell_type": "code",
   "execution_count": 76,
   "metadata": {},
   "outputs": [
    {
     "name": "stdout",
     "output_type": "stream",
     "text": [
      "***** Train Error *****\n",
      "\n",
      "ModelMetricsRegression: drf\n",
      "** Reported on test data. **\n",
      "\n",
      "MSE: 2011.7879854591722\n",
      "RMSE: 44.8529596064649\n",
      "MAE: 32.944907290095536\n",
      "RMSLE: 0.23334537359765412\n",
      "Mean Residual Deviance: 2011.7879854591722\n",
      "***** Validation Error *****\n",
      "\n",
      "ModelMetricsRegression: drf\n",
      "** Reported on test data. **\n",
      "\n",
      "MSE: 3447.044468194628\n",
      "RMSE: 58.71153607422163\n",
      "MAE: 37.25378553992824\n",
      "RMSLE: 0.24942906516562166\n",
      "Mean Residual Deviance: 3447.044468194628\n"
     ]
    }
   ],
   "source": [
    "print(\"***** Train Error *****\")\n",
    "rfModel.model_performance(trainData).show()\n",
    "print(\"***** Validation Error *****\")\n",
    "rfModel.model_performance(validationData).show()"
   ]
  },
  {
   "cell_type": "markdown",
   "metadata": {},
   "source": [
    "## Evaluating the RF model on test data"
   ]
  },
  {
   "cell_type": "code",
   "execution_count": 77,
   "metadata": {},
   "outputs": [
    {
     "name": "stdout",
     "output_type": "stream",
     "text": [
      "\n",
      "ModelMetricsRegression: drf\n",
      "** Reported on test data. **\n",
      "\n",
      "MSE: 2765.3112401793214\n",
      "RMSE: 52.58622671555092\n",
      "MAE: 34.28624536408536\n",
      "RMSLE: 0.24194628900678083\n",
      "Mean Residual Deviance: 2765.3112401793214\n"
     ]
    }
   ],
   "source": [
    "rfModel.model_performance(testData).show()"
   ]
  },
  {
   "cell_type": "markdown",
   "metadata": {},
   "source": [
    "## Random Forest random Grid search"
   ]
  },
  {
   "cell_type": "code",
   "execution_count": 78,
   "metadata": {},
   "outputs": [],
   "source": [
    "# Begin with a random search of a space of 6 * 5 = 30 possible models:\n",
    "ntrees_opt = [5, 10, 20, 30, 40, 50, 60, 70, 80, 90, 100]\n",
    "max_depth_opt = [5, 10, 20, 30, 40, 50, 60, 70, 80, 90, 100]\n",
    "\n",
    "hyper_parameters = {'ntrees': ntrees_opt, \n",
    "                    'max_depth': max_depth_opt}\n",
    "\n",
    "search_criteria = {\"strategy\":\"RandomDiscrete\", \"max_models\":10, \"max_runtime_secs\":100, \"seed\":123456}"
   ]
  },
  {
   "cell_type": "code",
   "execution_count": 79,
   "metadata": {},
   "outputs": [
    {
     "name": "stdout",
     "output_type": "stream",
     "text": [
      "drf Grid Build progress: |████████████████████████████████████████████████| 100%\n"
     ]
    }
   ],
   "source": [
    "from h2o.estimators.random_forest import H2ORandomForestEstimator\n",
    "\n",
    "random_RF_Model = H2OGridSearch(H2ORandomForestEstimator(stopping_tolerance = 0.00001),\n",
    "                                 hyper_params = hyper_parameters,\n",
    "                                 search_criteria=search_criteria)\n",
    "    \n",
    "random_RF_Model.train(x = predictors,\n",
    "                       y = target,\n",
    "                       training_frame   = trainData,\n",
    "                       validation_frame = validationData)"
   ]
  },
  {
   "cell_type": "code",
   "execution_count": 80,
   "metadata": {},
   "outputs": [
    {
     "name": "stdout",
     "output_type": "stream",
     "text": [
      "Grid_DRF_py_70_sid_a2d8_model_python_1601471984095_7_model_1 auc train data: 46.429786406729754\n",
      "Grid_DRF_py_70_sid_a2d8_model_python_1601471984095_7_model_1 auc validation data: 52.27690844009277\n",
      "##################################\n",
      "Grid_DRF_py_70_sid_a2d8_model_python_1601471984095_7_model_5 auc train data: 48.073276003379625\n",
      "Grid_DRF_py_70_sid_a2d8_model_python_1601471984095_7_model_5 auc validation data: 52.43338144566705\n",
      "##################################\n",
      "Grid_DRF_py_70_sid_a2d8_model_python_1601471984095_7_model_2 auc train data: 46.309618040020354\n",
      "Grid_DRF_py_70_sid_a2d8_model_python_1601471984095_7_model_2 auc validation data: 52.71129096945025\n",
      "##################################\n",
      "Grid_DRF_py_70_sid_a2d8_model_python_1601471984095_7_model_3 auc train data: 46.002852611279785\n",
      "Grid_DRF_py_70_sid_a2d8_model_python_1601471984095_7_model_3 auc validation data: 52.80833421260083\n",
      "##################################\n",
      "Grid_DRF_py_70_sid_a2d8_model_python_1601471984095_7_model_4 auc train data: 46.356412634483625\n",
      "Grid_DRF_py_70_sid_a2d8_model_python_1601471984095_7_model_4 auc validation data: 52.948553774046964\n",
      "##################################\n",
      "Grid_DRF_py_70_sid_a2d8_model_python_1601471984095_7_model_10 auc train data: 46.10880433779973\n",
      "Grid_DRF_py_70_sid_a2d8_model_python_1601471984095_7_model_10 auc validation data: 53.124740604168416\n",
      "##################################\n",
      "Grid_DRF_py_70_sid_a2d8_model_python_1601471984095_7_model_8 auc train data: 48.124234274631355\n",
      "Grid_DRF_py_70_sid_a2d8_model_python_1601471984095_7_model_8 auc validation data: 54.05674370911521\n",
      "##################################\n",
      "Grid_DRF_py_70_sid_a2d8_model_python_1601471984095_7_model_7 auc train data: 54.87802359338473\n",
      "Grid_DRF_py_70_sid_a2d8_model_python_1601471984095_7_model_7 auc validation data: 54.378121070423944\n",
      "##################################\n",
      "Grid_DRF_py_70_sid_a2d8_model_python_1601471984095_7_model_9 auc train data: 49.824897493483704\n",
      "Grid_DRF_py_70_sid_a2d8_model_python_1601471984095_7_model_9 auc validation data: 58.368267777781796\n",
      "##################################\n",
      "Grid_DRF_py_70_sid_a2d8_model_python_1601471984095_7_model_6 auc train data: 49.68441063948845\n",
      "Grid_DRF_py_70_sid_a2d8_model_python_1601471984095_7_model_6 auc validation data: 58.67465667947562\n",
      "##################################\n"
     ]
    }
   ],
   "source": [
    "for rgseach in random_RF_Model:\n",
    "    print(rgseach.model_id + \" auc train data: \" + str(rgseach.rmse(valid = False)))\n",
    "    print(rgseach.model_id + \" auc validation data: \" + str(rgseach.rmse(valid = True)))\n",
    "    print(\"##################################\")"
   ]
  },
  {
   "cell_type": "code",
   "execution_count": 81,
   "metadata": {},
   "outputs": [],
   "source": [
    "rf_GridModel = random_RF_Model[0]"
   ]
  },
  {
   "cell_type": "code",
   "execution_count": 82,
   "metadata": {},
   "outputs": [
    {
     "name": "stdout",
     "output_type": "stream",
     "text": [
      "drf prediction progress: |████████████████████████████████████████████████| 100%\n",
      "drf prediction progress: |████████████████████████████████████████████████| 100%\n",
      "drf prediction progress: |████████████████████████████████████████████████| 100%\n"
     ]
    }
   ],
   "source": [
    "trainGridPredRF = rf_GridModel.predict(trainData)\n",
    "validationGridPredRF = rf_GridModel.predict(validationData)\n",
    "testGridPredRF = rf_GridModel.predict(testData)"
   ]
  },
  {
   "cell_type": "code",
   "execution_count": 83,
   "metadata": {},
   "outputs": [
    {
     "data": {
      "text/html": [
       "<table>\n",
       "<thead>\n",
       "<tr><th style=\"text-align: right;\">  predict</th></tr>\n",
       "</thead>\n",
       "<tbody>\n",
       "<tr><td style=\"text-align: right;\">  330.472</td></tr>\n",
       "<tr><td style=\"text-align: right;\">  167.935</td></tr>\n",
       "<tr><td style=\"text-align: right;\">  305.258</td></tr>\n",
       "<tr><td style=\"text-align: right;\">  147.158</td></tr>\n",
       "<tr><td style=\"text-align: right;\">  155.855</td></tr>\n",
       "<tr><td style=\"text-align: right;\">  132.602</td></tr>\n",
       "<tr><td style=\"text-align: right;\">  166.658</td></tr>\n",
       "<tr><td style=\"text-align: right;\">  182.267</td></tr>\n",
       "<tr><td style=\"text-align: right;\">  154.224</td></tr>\n",
       "<tr><td style=\"text-align: right;\">  145.466</td></tr>\n",
       "</tbody>\n",
       "</table>"
      ]
     },
     "metadata": {},
     "output_type": "display_data"
    },
    {
     "data": {
      "text/plain": []
     },
     "execution_count": 83,
     "metadata": {},
     "output_type": "execute_result"
    }
   ],
   "source": [
    "trainGridPredRF"
   ]
  },
  {
   "cell_type": "markdown",
   "metadata": {},
   "source": [
    "## Evaluating the Random Forest model on train and validation data"
   ]
  },
  {
   "cell_type": "code",
   "execution_count": 84,
   "metadata": {},
   "outputs": [
    {
     "name": "stdout",
     "output_type": "stream",
     "text": [
      "***** Train Error *****\n",
      "\n",
      "ModelMetricsRegression: drf\n",
      "** Reported on test data. **\n",
      "\n",
      "MSE: 892.4264211207657\n",
      "RMSE: 29.873507010740564\n",
      "MAE: 22.852182057706106\n",
      "RMSLE: 0.16738924030759286\n",
      "Mean Residual Deviance: 892.4264211207657\n",
      "***** Validation Error *****\n",
      "\n",
      "ModelMetricsRegression: drf\n",
      "** Reported on test data. **\n",
      "\n",
      "MSE: 2732.875156053842\n",
      "RMSE: 52.27690844009277\n",
      "MAE: 33.78515809284084\n",
      "RMSLE: 0.22461094844207102\n",
      "Mean Residual Deviance: 2732.875156053842\n"
     ]
    }
   ],
   "source": [
    "print(\"***** Train Error *****\")\n",
    "rf_GridModel.model_performance(trainData).show()\n",
    "print(\"***** Validation Error *****\")\n",
    "rf_GridModel.model_performance(validationData).show()"
   ]
  },
  {
   "cell_type": "markdown",
   "metadata": {},
   "source": [
    "## Evaluating the Random Forest model on test data"
   ]
  },
  {
   "cell_type": "code",
   "execution_count": 85,
   "metadata": {},
   "outputs": [
    {
     "name": "stdout",
     "output_type": "stream",
     "text": [
      "\n",
      "ModelMetricsRegression: drf\n",
      "** Reported on test data. **\n",
      "\n",
      "MSE: 2369.98379498746\n",
      "RMSE: 48.68247934305996\n",
      "MAE: 31.69137496460852\n",
      "RMSLE: 0.22133200374795065\n",
      "Mean Residual Deviance: 2369.98379498746\n"
     ]
    }
   ],
   "source": [
    "rf_GridModel.model_performance(testData).show()"
   ]
  },
  {
   "cell_type": "markdown",
   "metadata": {},
   "source": [
    "# Shutdown H2o Cluster"
   ]
  },
  {
   "cell_type": "code",
   "execution_count": 86,
   "metadata": {},
   "outputs": [
    {
     "name": "stdout",
     "output_type": "stream",
     "text": [
      "H2O session _sid_a2d8 closed.\n"
     ]
    }
   ],
   "source": [
    "h2o.cluster().shutdown()"
   ]
  },
  {
   "cell_type": "markdown",
   "metadata": {
    "collapsed": true
   },
   "source": [
    "Material referece links\n",
    "\n",
    "* http://h2o-release.s3.amazonaws.com/h2o/rel-turchin/4/docs-website/h2o-py/docs/intro.html\n",
    "* http://h2o-release.s3.amazonaws.com/h2o/rel-wright/4/docs-website/h2o-py/docs/index.html\n",
    "* https://github.com/h2oai/h2o-3/tree/master/h2o-py/demos\n",
    "* https://github.com/h2oai/h2o-3/blob/master/h2o-py/demos/airlines_demo_small.ipynb"
   ]
  }
 ],
 "metadata": {
  "kernelspec": {
   "display_name": "Python 3",
   "language": "python",
   "name": "python3"
  },
  "language_info": {
   "codemirror_mode": {
    "name": "ipython",
    "version": 3
   },
   "file_extension": ".py",
   "mimetype": "text/x-python",
   "name": "python",
   "nbconvert_exporter": "python",
   "pygments_lexer": "ipython3",
   "version": "3.7.9"
  },
  "toc": {
   "base_numbering": 1,
   "nav_menu": {},
   "number_sections": true,
   "sideBar": true,
   "skip_h1_title": false,
   "title_cell": "Table of Contents",
   "title_sidebar": "Contents",
   "toc_cell": true,
   "toc_position": {},
   "toc_section_display": true,
   "toc_window_display": false
  }
 },
 "nbformat": 4,
 "nbformat_minor": 2
}
