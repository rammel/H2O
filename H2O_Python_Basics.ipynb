{
 "cells": [
  {
   "cell_type": "markdown",
   "metadata": {
    "toc": true
   },
   "source": [
    "<h1>Table of Contents<span class=\"tocSkip\"></span></h1>\n",
    "<div class=\"toc\"><ul class=\"toc-item\"><li><span><a href=\"#What-is-H2O?\" data-toc-modified-id=\"What-is-H2O?-1\"><span class=\"toc-item-num\">1&nbsp;&nbsp;</span>What is H2O?</a></span></li><li><span><a href=\"#The-H2O-Object-System\" data-toc-modified-id=\"The-H2O-Object-System-2\"><span class=\"toc-item-num\">2&nbsp;&nbsp;</span>The H2O Object System</a></span></li><li><span><a href=\"#How-to-use-H2O-from-Python\" data-toc-modified-id=\"How-to-use-H2O-from-Python-3\"><span class=\"toc-item-num\">3&nbsp;&nbsp;</span>How to use H2O from Python</a></span><ul class=\"toc-item\"><li><span><a href=\"#Import-H2o-Python-library\" data-toc-modified-id=\"Import-H2o-Python-library-3.1\"><span class=\"toc-item-num\">3.1&nbsp;&nbsp;</span>Import H2o Python library</a></span></li><li><span><a href=\"#Starting-H2O-and-Inspecting-the-Cluster\" data-toc-modified-id=\"Starting-H2O-and-Inspecting-the-Cluster-3.2\"><span class=\"toc-item-num\">3.2&nbsp;&nbsp;</span>Starting H2O and Inspecting the Cluster</a></span><ul class=\"toc-item\"><li><span><a href=\"#To-connect-to-an-established-H2O-cluster\" data-toc-modified-id=\"To-connect-to-an-established-H2O-cluster-3.2.1\"><span class=\"toc-item-num\">3.2.1&nbsp;&nbsp;</span>To connect to an established H2O cluster</a></span></li></ul></li><li><span><a href=\"#Cluster-Status-Summary\" data-toc-modified-id=\"Cluster-Status-Summary-3.3\"><span class=\"toc-item-num\">3.3&nbsp;&nbsp;</span>Cluster Status Summary</a></span></li><li><span><a href=\"#Create-an-H2OFrame-object\" data-toc-modified-id=\"Create-an-H2OFrame-object-3.4\"><span class=\"toc-item-num\">3.4&nbsp;&nbsp;</span>Create an H2OFrame object</a></span><ul class=\"toc-item\"><li><span><a href=\"#To-create-an-H2OFrame-object-from-a-Python-tuple\" data-toc-modified-id=\"To-create-an-H2OFrame-object-from-a-Python-tuple-3.4.1\"><span class=\"toc-item-num\">3.4.1&nbsp;&nbsp;</span>To create an H2OFrame object from a Python tuple</a></span><ul class=\"toc-item\"><li><span><a href=\"#Without-giving-the-destination-frame-name\" data-toc-modified-id=\"Without-giving-the-destination-frame-name-3.4.1.1\"><span class=\"toc-item-num\">3.4.1.1&nbsp;&nbsp;</span>Without giving the destination frame name</a></span></li><li><span><a href=\"#By-giving-the-destination-frame-name\" data-toc-modified-id=\"By-giving-the-destination-frame-name-3.4.1.2\"><span class=\"toc-item-num\">3.4.1.2&nbsp;&nbsp;</span>By giving the destination frame name</a></span></li></ul></li><li><span><a href=\"#View-the-H2OFrame\" data-toc-modified-id=\"View-the-H2OFrame-3.4.2\"><span class=\"toc-item-num\">3.4.2&nbsp;&nbsp;</span>View the H2OFrame</a></span></li></ul></li><li><span><a href=\"#Listing-Cluster-Contents\" data-toc-modified-id=\"Listing-Cluster-Contents-3.5\"><span class=\"toc-item-num\">3.5&nbsp;&nbsp;</span>Listing Cluster Contents</a></span></li><li><span><a href=\"#Assign-a-new-name\" data-toc-modified-id=\"Assign-a-new-name-3.6\"><span class=\"toc-item-num\">3.6&nbsp;&nbsp;</span>Assign a new name</a></span></li><li><span><a href=\"#Remove-object-from-h2o\" data-toc-modified-id=\"Remove-object-from-h2o-3.7\"><span class=\"toc-item-num\">3.7&nbsp;&nbsp;</span>Remove object from h2o</a></span><ul class=\"toc-item\"><li><span><a href=\"#Remove-a-specific-object\" data-toc-modified-id=\"Remove-a-specific-object-3.7.1\"><span class=\"toc-item-num\">3.7.1&nbsp;&nbsp;</span>Remove a specific object</a></span></li><li><span><a href=\"#Remove-all-the-objects-from-h2o\" data-toc-modified-id=\"Remove-all-the-objects-from-h2o-3.7.2\"><span class=\"toc-item-num\">3.7.2&nbsp;&nbsp;</span>Remove all the objects from h2o</a></span></li></ul></li><li><span><a href=\"#Create-an-H2OFrame-object\" data-toc-modified-id=\"Create-an-H2OFrame-object-3.8\"><span class=\"toc-item-num\">3.8&nbsp;&nbsp;</span>Create an H2OFrame object</a></span><ul class=\"toc-item\"><li><span><a href=\"#To-create-an-H2OFrame-object-from-Python-tuples.\" data-toc-modified-id=\"To-create-an-H2OFrame-object-from-Python-tuples.-3.8.1\"><span class=\"toc-item-num\">3.8.1&nbsp;&nbsp;</span>To create an H2OFrame object from Python tuples.</a></span></li><li><span><a href=\"#To-create-an-H2OFrame-object-from-a-Python-list:\" data-toc-modified-id=\"To-create-an-H2OFrame-object-from-a-Python-list:-3.8.2\"><span class=\"toc-item-num\">3.8.2&nbsp;&nbsp;</span>To create an H2OFrame object from a Python list:</a></span></li><li><span><a href=\"#To-create-an-H2OFrame-object-from-collections.OrderedDict-or-a-Python-dict\" data-toc-modified-id=\"To-create-an-H2OFrame-object-from-collections.OrderedDict-or-a-Python-dict-3.8.3\"><span class=\"toc-item-num\">3.8.3&nbsp;&nbsp;</span>To create an H2OFrame object from collections.OrderedDict or a Python dict</a></span></li><li><span><a href=\"#To-create-an-H2OFrame-object-from-a-Python-dict-and-specify-the-column-types\" data-toc-modified-id=\"To-create-an-H2OFrame-object-from-a-Python-dict-and-specify-the-column-types-3.8.4\"><span class=\"toc-item-num\">3.8.4&nbsp;&nbsp;</span>To create an H2OFrame object from a Python dict and specify the column types</a></span></li><li><span><a href=\"#Converting-pandas-data-frame-to-h2o-object\" data-toc-modified-id=\"Converting-pandas-data-frame-to-h2o-object-3.8.5\"><span class=\"toc-item-num\">3.8.5&nbsp;&nbsp;</span>Converting pandas data frame to h2o object</a></span><ul class=\"toc-item\"><li><span><a href=\"#Create-Pandas-DataFrame\" data-toc-modified-id=\"Create-Pandas-DataFrame-3.8.5.1\"><span class=\"toc-item-num\">3.8.5.1&nbsp;&nbsp;</span>Create Pandas DataFrame</a></span></li><li><span><a href=\"#Converting-the-pandas-data-frame-to-h2o-frame\" data-toc-modified-id=\"Converting-the-pandas-data-frame-to-h2o-frame-3.8.5.2\"><span class=\"toc-item-num\">3.8.5.2&nbsp;&nbsp;</span>Converting the pandas data frame to h2o frame</a></span></li></ul></li><li><span><a href=\"#Converting-the-h2o-frame-to-pandas-data-frame\" data-toc-modified-id=\"Converting-the-h2o-frame-to-pandas-data-frame-3.8.6\"><span class=\"toc-item-num\">3.8.6&nbsp;&nbsp;</span>Converting the h2o frame to pandas data frame</a></span></li><li><span><a href=\"#To-display-the-top-and-bottom-of-an-H2OFrame\" data-toc-modified-id=\"To-display-the-top-and-bottom-of-an-H2OFrame-3.8.7\"><span class=\"toc-item-num\">3.8.7&nbsp;&nbsp;</span>To display the top and bottom of an H2OFrame</a></span><ul class=\"toc-item\"><li><span><a href=\"#View-top-10-rows-of-the-H2OFrame\" data-toc-modified-id=\"View-top-10-rows-of-the-H2OFrame-3.8.7.1\"><span class=\"toc-item-num\">3.8.7.1&nbsp;&nbsp;</span>View top 10 rows of the H2OFrame</a></span></li><li><span><a href=\"#View-bottom-5-rows-of-the-H2OFrame\" data-toc-modified-id=\"View-bottom-5-rows-of-the-H2OFrame-3.8.7.2\"><span class=\"toc-item-num\">3.8.7.2&nbsp;&nbsp;</span>View bottom 5 rows of the H2OFrame</a></span></li><li><span><a href=\"#To-display-the-column-names\" data-toc-modified-id=\"To-display-the-column-names-3.8.7.3\"><span class=\"toc-item-num\">3.8.7.3&nbsp;&nbsp;</span>To display the column names</a></span></li><li><span><a href=\"#To-display-summary-statistics-of-your-data\" data-toc-modified-id=\"To-display-summary-statistics-of-your-data-3.8.7.4\"><span class=\"toc-item-num\">3.8.7.4&nbsp;&nbsp;</span>To display summary statistics of your data</a></span></li></ul></li></ul></li><li><span><a href=\"#Selection\" data-toc-modified-id=\"Selection-3.9\"><span class=\"toc-item-num\">3.9&nbsp;&nbsp;</span>Selection</a></span><ul class=\"toc-item\"><li><span><a href=\"#To-select-a-single-column-by-name,-resulting-in-an-H2OFrame\" data-toc-modified-id=\"To-select-a-single-column-by-name,-resulting-in-an-H2OFrame-3.9.1\"><span class=\"toc-item-num\">3.9.1&nbsp;&nbsp;</span>To select a single column by name, resulting in an H2OFrame</a></span></li><li><span><a href=\"#To-select-a-single-column-by-index,-resulting-in-an-H2OFrame\" data-toc-modified-id=\"To-select-a-single-column-by-index,-resulting-in-an-H2OFrame-3.9.2\"><span class=\"toc-item-num\">3.9.2&nbsp;&nbsp;</span>To select a single column by index, resulting in an H2OFrame</a></span></li><li><span><a href=\"#To-select-multiple-columns-by-name,-resulting-in-an-H2OFrame\" data-toc-modified-id=\"To-select-multiple-columns-by-name,-resulting-in-an-H2OFrame-3.9.3\"><span class=\"toc-item-num\">3.9.3&nbsp;&nbsp;</span>To select multiple columns by name, resulting in an H2OFrame</a></span></li><li><span><a href=\"#To-select-multiple-columns-by-index,-resulting-in-an-H2OFrame:\" data-toc-modified-id=\"To-select-multiple-columns-by-index,-resulting-in-an-H2OFrame:-3.9.4\"><span class=\"toc-item-num\">3.9.4&nbsp;&nbsp;</span>To select multiple columns by index, resulting in an H2OFrame:</a></span></li><li><span><a href=\"#To-select-multiple-rows-by-slicing,-resulting-in-an-H2OFrame:\" data-toc-modified-id=\"To-select-multiple-rows-by-slicing,-resulting-in-an-H2OFrame:-3.9.5\"><span class=\"toc-item-num\">3.9.5&nbsp;&nbsp;</span>To select multiple rows by slicing, resulting in an H2OFrame:</a></span></li><li><span><a href=\"#To-select-rows-based-on-speci\f",
    "c-criteria,-use-Boolean-masking\" data-toc-modified-id=\"To-select-rows-based-on-speci\f",
    "c-criteria,-use-Boolean-masking-3.9.6\"><span class=\"toc-item-num\">3.9.6&nbsp;&nbsp;</span>To select rows based on speci\f",
    "c criteria, use Boolean masking</a></span></li></ul></li><li><span><a href=\"#Missing-Data\" data-toc-modified-id=\"Missing-Data-3.10\"><span class=\"toc-item-num\">3.10&nbsp;&nbsp;</span>Missing Data</a></span><ul class=\"toc-item\"><li><span><a href=\"#To-create-an-H2OFrame-from-Python-with-missing-elements\" data-toc-modified-id=\"To-create-an-H2OFrame-from-Python-with-missing-elements-3.10.1\"><span class=\"toc-item-num\">3.10.1&nbsp;&nbsp;</span>To create an H2OFrame from Python with missing elements</a></span></li><li><span><a href=\"#To-determine-which-rows-are-missing-data-for-a-given-column-(`1'-indicates-missing):\" data-toc-modified-id=\"To-determine-which-rows-are-missing-data-for-a-given-column-(`1'-indicates-missing):-3.10.2\"><span class=\"toc-item-num\">3.10.2&nbsp;&nbsp;</span>To determine which rows are missing data for a given column (`1' indicates missing):</a></span></li><li><span><a href=\"#To-determine-the-location-of-all-missing-data-in-an-H2OFrame\" data-toc-modified-id=\"To-determine-the-location-of-all-missing-data-in-an-H2OFrame-3.10.3\"><span class=\"toc-item-num\">3.10.3&nbsp;&nbsp;</span>To determine the location of all missing data in an H2OFrame</a></span></li><li><span><a href=\"#To-change-all-missing-values-in-a-column-to-a-diferent-value:\" data-toc-modified-id=\"To-change-all-missing-values-in-a-column-to-a-diferent-value:-3.10.4\"><span class=\"toc-item-num\">3.10.4&nbsp;&nbsp;</span>To change all missing values in a column to a diferent value:</a></span></li><li><span><a href=\"#Operations\" data-toc-modified-id=\"Operations-3.10.5\"><span class=\"toc-item-num\">3.10.5&nbsp;&nbsp;</span>Operations</a></span></li><li><span><a href=\"#Handling-different-types-null-values\" data-toc-modified-id=\"Handling-different-types-null-values-3.10.6\"><span class=\"toc-item-num\">3.10.6&nbsp;&nbsp;</span>Handling different types null values</a></span></li><li><span><a href=\"#Checking-for-number-null-values-at-column-level\" data-toc-modified-id=\"Checking-for-number-null-values-at-column-level-3.10.7\"><span class=\"toc-item-num\">3.10.7&nbsp;&nbsp;</span>Checking for number null values at column level</a></span></li><li><span><a href=\"#Handling-missing-values\" data-toc-modified-id=\"Handling-missing-values-3.10.8\"><span class=\"toc-item-num\">3.10.8&nbsp;&nbsp;</span>Handling missing values</a></span><ul class=\"toc-item\"><li><span><a href=\"#Imputing-the-data-with-central-tendencies\" data-toc-modified-id=\"Imputing-the-data-with-central-tendencies-3.10.8.1\"><span class=\"toc-item-num\">3.10.8.1&nbsp;&nbsp;</span>Imputing the data with central tendencies</a></span></li></ul></li></ul></li><li><span><a href=\"#apply-function\" data-toc-modified-id=\"apply-function-3.11\"><span class=\"toc-item-num\">3.11&nbsp;&nbsp;</span>apply function</a></span></li><li><span><a href=\"#Merging\" data-toc-modified-id=\"Merging-3.12\"><span class=\"toc-item-num\">3.12&nbsp;&nbsp;</span>Merging</a></span></li><li><span><a href=\"#Grouping\" data-toc-modified-id=\"Grouping-3.13\"><span class=\"toc-item-num\">3.13&nbsp;&nbsp;</span>Grouping</a></span></li><li><span><a href=\"#Using-Date-and-Time-Data\" data-toc-modified-id=\"Using-Date-and-Time-Data-3.14\"><span class=\"toc-item-num\">3.14&nbsp;&nbsp;</span>Using Date and Time Data</a></span></li><li><span><a href=\"#Categoricals\" data-toc-modified-id=\"Categoricals-3.15\"><span class=\"toc-item-num\">3.15&nbsp;&nbsp;</span>Categoricals</a></span></li><li><span><a href=\"#Loading-and-Saving-Data\" data-toc-modified-id=\"Loading-and-Saving-Data-3.16\"><span class=\"toc-item-num\">3.16&nbsp;&nbsp;</span>Loading and Saving Data</a></span><ul class=\"toc-item\"><li><span><a href=\"#To-load-data-from-the-same-machine-running-H2O:\" data-toc-modified-id=\"To-load-data-from-the-same-machine-running-H2O:-3.16.1\"><span class=\"toc-item-num\">3.16.1&nbsp;&nbsp;</span>To load data from the same machine running H2O:</a></span></li><li><span><a href=\"#To-load-data-from-the-machine(s)-running-H2O-to-the-machine-running-Python:\" data-toc-modified-id=\"To-load-data-from-the-machine(s)-running-H2O-to-the-machine-running-Python:-3.16.2\"><span class=\"toc-item-num\">3.16.2&nbsp;&nbsp;</span>To load data from the machine(s) running H2O to the machine running Python:</a></span></li><li><span><a href=\"#To-save-an-H2OFrame-on-the-machine-running-H2O:\" data-toc-modified-id=\"To-save-an-H2OFrame-on-the-machine-running-H2O:-3.16.3\"><span class=\"toc-item-num\">3.16.3&nbsp;&nbsp;</span>To save an H2OFrame on the machine running H2O:</a></span></li><li><span><a href=\"#To-save-an-H2OFrame-on-the-machine-running-Python:\" data-toc-modified-id=\"To-save-an-H2OFrame-on-the-machine-running-Python:-3.16.4\"><span class=\"toc-item-num\">3.16.4&nbsp;&nbsp;</span>To save an H2OFrame on the machine running Python:</a></span><ul class=\"toc-item\"><li><span><a href=\"#upload_file\" data-toc-modified-id=\"upload_file-3.16.4.1\"><span class=\"toc-item-num\">3.16.4.1&nbsp;&nbsp;</span>upload_file</a></span></li><li><span><a href=\"#Cannot-load-the-data-from-extrenal-path.-Filesneeds-to-be-present-in-local-machine\" data-toc-modified-id=\"Cannot-load-the-data-from-extrenal-path.-Filesneeds-to-be-present-in-local-machine-3.16.4.2\"><span class=\"toc-item-num\">3.16.4.2&nbsp;&nbsp;</span>Cannot load the data from extrenal path. Filesneeds to be present in local machine</a></span></li></ul></li></ul></li><li><span><a href=\"#Shutdwon-the-h2o-cluster\" data-toc-modified-id=\"Shutdwon-the-h2o-cluster-3.17\"><span class=\"toc-item-num\">3.17&nbsp;&nbsp;</span>Shutdwon the h2o cluster</a></span></li></ul></li></ul></div>"
   ]
  },
  {
   "cell_type": "markdown",
   "metadata": {},
   "source": [
    "# What is H2O?\n",
    "\n",
    "H2O is a Java-based software for data modeling and general computing. The H2O software is many things, but the primary purpose of H2O is as a distributed (many machines), parallel (many CPUs), in memory (several hundred GBs Xmx) processing engine.\n",
    "\n",
    "There are two levels of parallelism:\n",
    "\n",
    "* Within node\n",
    "* Across (or between) nodes\n",
    "\n",
    "The goal of H2O is to allow simple __horizontal scaling__ to a given problem in order to produce a solution faster. The conceptual paradigm MapReduce (AKA “divide and conquer and combine”), along with a good concurrent application structure, (c.f. jsr166y and NonBlockingHashMap) enable this type of scaling in H2O.\n",
    "\n",
    "For application developers and data scientists, the gritty details of thread-safety, algorithm parallelism, and node coherence on a network are concealed by simple-to-use REST calls that are all documented. In addition, H2O is an open-source project under the Apache v2 licence. All of the source code is on github."
   ]
  },
  {
   "cell_type": "markdown",
   "metadata": {},
   "source": [
    "# The H2O Object System\n",
    "\n",
    "H2O uses a distributed key-value store (the “DKV”) that contains pointers to the various objects of the H2O ecosystem. Some shared objects are mutable by the client; some shared objects are read-only by the client, but are mutable by H2O (e.g. a model being constructed will change over time); and actions by the client may have side-effects on other clients (multi-tenancy is not a supported model of use, but it is possible for multiple clients to attach to a single H2O cluster).\n",
    "\n",
    "Briefly, these objects are:\n",
    "\n",
    "__Key__: A key is an entry in the DKV that maps to an object in H2O.\n",
    "\n",
    "__Frame__: A Frame is a collection of Vec objects. It is a 2D array of elements.\n",
    "\n",
    "__Vec__: A Vec is a collection of Chunk objects. It is a 1D array of elements.\n",
    "\n",
    "__Chunk__: A Chunk holds a fraction of the BigData. It is a 1D array of elements.\n",
    "\n",
    "__ModelMetrics__: A collection of metrics for a given category of model.\n",
    "\n",
    "__Model__: A model is an immutable object having predict and metrics methods.\n",
    "\n",
    "__Job__: A Job is a non-blocking task that performs a finite amount of work.\n",
    "\n",
    "Many of these objects have no meaning to a Python end-user, but to make sense of the objects available in this module it is helpful to understand how these objects map to objects in the JVM. After all, this module is an interface that allows the manipulation of a distributed system."
   ]
  },
  {
   "cell_type": "markdown",
   "metadata": {},
   "source": [
    "# How to use H2O from Python"
   ]
  },
  {
   "cell_type": "markdown",
   "metadata": {},
   "source": [
    "## Import H2o Python library"
   ]
  },
  {
   "cell_type": "code",
   "execution_count": 1,
   "metadata": {},
   "outputs": [],
   "source": [
    "import h2o"
   ]
  },
  {
   "cell_type": "markdown",
   "metadata": {},
   "source": [
    "## Starting H2O and Inspecting the Cluster\n",
    "\n",
    "Every new python session begins by initializing a connection between the python client and the H2O cluster. "
   ]
  },
  {
   "cell_type": "code",
   "execution_count": 2,
   "metadata": {},
   "outputs": [
    {
     "name": "stdout",
     "output_type": "stream",
     "text": [
      "Checking whether there is an H2O instance running at http://localhost:54321 . connected.\n"
     ]
    },
    {
     "data": {
      "text/html": [
       "<div style=\"overflow:auto\"><table style=\"width:50%\"><tr><td>H2O_cluster_uptime:</td>\n",
       "<td>06 secs</td></tr>\n",
       "<tr><td>H2O_cluster_timezone:</td>\n",
       "<td>Asia/Kolkata</td></tr>\n",
       "<tr><td>H2O_data_parsing_timezone:</td>\n",
       "<td>UTC</td></tr>\n",
       "<tr><td>H2O_cluster_version:</td>\n",
       "<td>3.30.1.2</td></tr>\n",
       "<tr><td>H2O_cluster_version_age:</td>\n",
       "<td>26 days </td></tr>\n",
       "<tr><td>H2O_cluster_name:</td>\n",
       "<td>H2O_from_python_jeevan_nrnp5c</td></tr>\n",
       "<tr><td>H2O_cluster_total_nodes:</td>\n",
       "<td>1</td></tr>\n",
       "<tr><td>H2O_cluster_free_memory:</td>\n",
       "<td>3.887 Gb</td></tr>\n",
       "<tr><td>H2O_cluster_total_cores:</td>\n",
       "<td>4</td></tr>\n",
       "<tr><td>H2O_cluster_allowed_cores:</td>\n",
       "<td>4</td></tr>\n",
       "<tr><td>H2O_cluster_status:</td>\n",
       "<td>locked, healthy</td></tr>\n",
       "<tr><td>H2O_connection_url:</td>\n",
       "<td>http://localhost:54321</td></tr>\n",
       "<tr><td>H2O_connection_proxy:</td>\n",
       "<td>{\"http\": null, \"https\": null}</td></tr>\n",
       "<tr><td>H2O_internal_security:</td>\n",
       "<td>False</td></tr>\n",
       "<tr><td>H2O_API_Extensions:</td>\n",
       "<td>Amazon S3, XGBoost, Algos, AutoML, Core V3, TargetEncoder, Core V4</td></tr>\n",
       "<tr><td>Python_version:</td>\n",
       "<td>3.8.5 final</td></tr></table></div>"
      ],
      "text/plain": [
       "--------------------------  ------------------------------------------------------------------\n",
       "H2O_cluster_uptime:         06 secs\n",
       "H2O_cluster_timezone:       Asia/Kolkata\n",
       "H2O_data_parsing_timezone:  UTC\n",
       "H2O_cluster_version:        3.30.1.2\n",
       "H2O_cluster_version_age:    26 days\n",
       "H2O_cluster_name:           H2O_from_python_jeevan_nrnp5c\n",
       "H2O_cluster_total_nodes:    1\n",
       "H2O_cluster_free_memory:    3.887 Gb\n",
       "H2O_cluster_total_cores:    4\n",
       "H2O_cluster_allowed_cores:  4\n",
       "H2O_cluster_status:         locked, healthy\n",
       "H2O_connection_url:         http://localhost:54321\n",
       "H2O_connection_proxy:       {\"http\": null, \"https\": null}\n",
       "H2O_internal_security:      False\n",
       "H2O_API_Extensions:         Amazon S3, XGBoost, Algos, AutoML, Core V3, TargetEncoder, Core V4\n",
       "Python_version:             3.8.5 final\n",
       "--------------------------  ------------------------------------------------------------------"
      ]
     },
     "metadata": {},
     "output_type": "display_data"
    }
   ],
   "source": [
    "h2o.init()"
   ]
  },
  {
   "cell_type": "markdown",
   "metadata": {},
   "source": [
    "By default, this will attempt to discover an H2O at localhost:54321. Note that If it fails to find a running H2O instance at this address, it will seek out an h2o jar at several possible locations. If no jar is found, then an H2OStartupError will be raised"
   ]
  },
  {
   "cell_type": "markdown",
   "metadata": {},
   "source": [
    "### To connect to an established H2O cluster"
   ]
  },
  {
   "cell_type": "raw",
   "metadata": {},
   "source": [
    "h2o.init(ip=\"123.45.67.89\", port=54321)"
   ]
  },
  {
   "cell_type": "markdown",
   "metadata": {},
   "source": [
    "## Cluster Status Summary\n",
    "\n",
    "After making a successful connection, you can obtain a high-level summary of the cluster status:"
   ]
  },
  {
   "cell_type": "code",
   "execution_count": 3,
   "metadata": {},
   "outputs": [
    {
     "data": {
      "text/html": [
       "<div style=\"overflow:auto\"><table style=\"width:50%\"><tr><td>H2O_cluster_uptime:</td>\n",
       "<td>06 secs</td></tr>\n",
       "<tr><td>H2O_cluster_timezone:</td>\n",
       "<td>Asia/Kolkata</td></tr>\n",
       "<tr><td>H2O_data_parsing_timezone:</td>\n",
       "<td>UTC</td></tr>\n",
       "<tr><td>H2O_cluster_version:</td>\n",
       "<td>3.30.1.2</td></tr>\n",
       "<tr><td>H2O_cluster_version_age:</td>\n",
       "<td>26 days </td></tr>\n",
       "<tr><td>H2O_cluster_name:</td>\n",
       "<td>H2O_from_python_jeevan_nrnp5c</td></tr>\n",
       "<tr><td>H2O_cluster_total_nodes:</td>\n",
       "<td>1</td></tr>\n",
       "<tr><td>H2O_cluster_free_memory:</td>\n",
       "<td>3.887 Gb</td></tr>\n",
       "<tr><td>H2O_cluster_total_cores:</td>\n",
       "<td>4</td></tr>\n",
       "<tr><td>H2O_cluster_allowed_cores:</td>\n",
       "<td>4</td></tr>\n",
       "<tr><td>H2O_cluster_status:</td>\n",
       "<td>locked, healthy</td></tr>\n",
       "<tr><td>H2O_connection_url:</td>\n",
       "<td>http://localhost:54321</td></tr>\n",
       "<tr><td>H2O_connection_proxy:</td>\n",
       "<td>{\"http\": null, \"https\": null}</td></tr>\n",
       "<tr><td>H2O_internal_security:</td>\n",
       "<td>False</td></tr>\n",
       "<tr><td>H2O_API_Extensions:</td>\n",
       "<td>Amazon S3, XGBoost, Algos, AutoML, Core V3, TargetEncoder, Core V4</td></tr>\n",
       "<tr><td>Python_version:</td>\n",
       "<td>3.8.5 final</td></tr></table></div>"
      ],
      "text/plain": [
       "--------------------------  ------------------------------------------------------------------\n",
       "H2O_cluster_uptime:         06 secs\n",
       "H2O_cluster_timezone:       Asia/Kolkata\n",
       "H2O_data_parsing_timezone:  UTC\n",
       "H2O_cluster_version:        3.30.1.2\n",
       "H2O_cluster_version_age:    26 days\n",
       "H2O_cluster_name:           H2O_from_python_jeevan_nrnp5c\n",
       "H2O_cluster_total_nodes:    1\n",
       "H2O_cluster_free_memory:    3.887 Gb\n",
       "H2O_cluster_total_cores:    4\n",
       "H2O_cluster_allowed_cores:  4\n",
       "H2O_cluster_status:         locked, healthy\n",
       "H2O_connection_url:         http://localhost:54321\n",
       "H2O_connection_proxy:       {\"http\": null, \"https\": null}\n",
       "H2O_internal_security:      False\n",
       "H2O_API_Extensions:         Amazon S3, XGBoost, Algos, AutoML, Core V3, TargetEncoder, Core V4\n",
       "Python_version:             3.8.5 final\n",
       "--------------------------  ------------------------------------------------------------------"
      ]
     },
     "metadata": {},
     "output_type": "display_data"
    }
   ],
   "source": [
    "h2o.cluster().show_status()"
   ]
  },
  {
   "cell_type": "markdown",
   "metadata": {},
   "source": [
    "## Create an H2OFrame object "
   ]
  },
  {
   "cell_type": "markdown",
   "metadata": {},
   "source": [
    "### To create an H2OFrame object from a Python tuple"
   ]
  },
  {
   "cell_type": "markdown",
   "metadata": {},
   "source": [
    "####  Without giving the destination frame name"
   ]
  },
  {
   "cell_type": "code",
   "execution_count": 4,
   "metadata": {},
   "outputs": [
    {
     "name": "stdout",
     "output_type": "stream",
     "text": [
      "Parse progress: |█████████████████████████████████████████████████████████| 100%\n"
     ]
    }
   ],
   "source": [
    "df = h2o.H2OFrame(((1, 2, 3), ('a', 'b', 'c'), (0.1, 0.2, 0.3)))"
   ]
  },
  {
   "cell_type": "markdown",
   "metadata": {},
   "source": [
    "#### By giving the destination frame name"
   ]
  },
  {
   "cell_type": "code",
   "execution_count": 5,
   "metadata": {},
   "outputs": [
    {
     "name": "stdout",
     "output_type": "stream",
     "text": [
      "Parse progress: |█████████████████████████████████████████████████████████| 100%\n"
     ]
    }
   ],
   "source": [
    "dftmp = h2o.H2OFrame(((1, 2, 3), ('a','b','c'), (0.1, 0.2, 0.3)), destination_frame = \"dftmp.hex\")"
   ]
  },
  {
   "cell_type": "markdown",
   "metadata": {},
   "source": [
    "### View the H2OFrame"
   ]
  },
  {
   "cell_type": "code",
   "execution_count": 6,
   "metadata": {},
   "outputs": [
    {
     "data": {
      "text/html": [
       "<table>\n",
       "<thead>\n",
       "<tr><th style=\"text-align: right;\">   C1</th><th style=\"text-align: right;\">   C2</th><th style=\"text-align: right;\">   C3</th></tr>\n",
       "</thead>\n",
       "<tbody>\n",
       "<tr><td style=\"text-align: right;\">  1  </td><td style=\"text-align: right;\">  2  </td><td style=\"text-align: right;\">  3  </td></tr>\n",
       "<tr><td style=\"text-align: right;\">nan  </td><td style=\"text-align: right;\">nan  </td><td style=\"text-align: right;\">nan  </td></tr>\n",
       "<tr><td style=\"text-align: right;\">  0.1</td><td style=\"text-align: right;\">  0.2</td><td style=\"text-align: right;\">  0.3</td></tr>\n",
       "</tbody>\n",
       "</table>"
      ]
     },
     "metadata": {},
     "output_type": "display_data"
    },
    {
     "data": {
      "text/plain": []
     },
     "execution_count": 6,
     "metadata": {},
     "output_type": "execute_result"
    }
   ],
   "source": [
    "df"
   ]
  },
  {
   "cell_type": "code",
   "execution_count": 7,
   "metadata": {},
   "outputs": [
    {
     "data": {
      "text/html": [
       "<table>\n",
       "<thead>\n",
       "<tr><th style=\"text-align: right;\">   C1</th><th style=\"text-align: right;\">   C2</th><th style=\"text-align: right;\">   C3</th></tr>\n",
       "</thead>\n",
       "<tbody>\n",
       "<tr><td style=\"text-align: right;\">  1  </td><td style=\"text-align: right;\">  2  </td><td style=\"text-align: right;\">  3  </td></tr>\n",
       "<tr><td style=\"text-align: right;\">nan  </td><td style=\"text-align: right;\">nan  </td><td style=\"text-align: right;\">nan  </td></tr>\n",
       "<tr><td style=\"text-align: right;\">  0.1</td><td style=\"text-align: right;\">  0.2</td><td style=\"text-align: right;\">  0.3</td></tr>\n",
       "</tbody>\n",
       "</table>"
      ]
     },
     "metadata": {},
     "output_type": "display_data"
    },
    {
     "data": {
      "text/plain": []
     },
     "execution_count": 7,
     "metadata": {},
     "output_type": "execute_result"
    }
   ],
   "source": [
    "dftmp"
   ]
  },
  {
   "cell_type": "markdown",
   "metadata": {},
   "source": [
    "## Listing Cluster Contents\n",
    "\n",
    "To list the current contents of the H2O cluster, you can use the h2o.ls command"
   ]
  },
  {
   "cell_type": "code",
   "execution_count": 8,
   "metadata": {},
   "outputs": [
    {
     "data": {
      "text/html": [
       "<div>\n",
       "<style scoped>\n",
       "    .dataframe tbody tr th:only-of-type {\n",
       "        vertical-align: middle;\n",
       "    }\n",
       "\n",
       "    .dataframe tbody tr th {\n",
       "        vertical-align: top;\n",
       "    }\n",
       "\n",
       "    .dataframe thead th {\n",
       "        text-align: right;\n",
       "    }\n",
       "</style>\n",
       "<table border=\"1\" class=\"dataframe\">\n",
       "  <thead>\n",
       "    <tr style=\"text-align: right;\">\n",
       "      <th></th>\n",
       "      <th>key</th>\n",
       "    </tr>\n",
       "  </thead>\n",
       "  <tbody>\n",
       "    <tr>\n",
       "      <th>0</th>\n",
       "      <td>Key_Frame__upload_a31cca13afff8e0f5d3b19cfdf14...</td>\n",
       "    </tr>\n",
       "    <tr>\n",
       "      <th>1</th>\n",
       "      <td>dftmp.hex</td>\n",
       "    </tr>\n",
       "    <tr>\n",
       "      <th>2</th>\n",
       "      <td>ecg_discord_train.hex</td>\n",
       "    </tr>\n",
       "    <tr>\n",
       "      <th>3</th>\n",
       "      <td>http://h2o-public-test-data.s3.amazonaws.com/s...</td>\n",
       "    </tr>\n",
       "  </tbody>\n",
       "</table>\n",
       "</div>"
      ],
      "text/plain": [
       "                                                 key\n",
       "0  Key_Frame__upload_a31cca13afff8e0f5d3b19cfdf14...\n",
       "1                                          dftmp.hex\n",
       "2                              ecg_discord_train.hex\n",
       "3  http://h2o-public-test-data.s3.amazonaws.com/s..."
      ]
     },
     "execution_count": 8,
     "metadata": {},
     "output_type": "execute_result"
    }
   ],
   "source": [
    "h2o.ls()"
   ]
  },
  {
   "cell_type": "markdown",
   "metadata": {},
   "source": [
    "There are models, data, and model metrics all floating around in the DKV."
   ]
  },
  {
   "cell_type": "markdown",
   "metadata": {},
   "source": [
    "## Assign a new name\n",
    "    To destination_frame using python reference."
   ]
  },
  {
   "cell_type": "code",
   "execution_count": 9,
   "metadata": {},
   "outputs": [],
   "source": [
    "df = h2o.assign(data = df, xid = \"df.hex\" )"
   ]
  },
  {
   "cell_type": "code",
   "execution_count": 10,
   "metadata": {},
   "outputs": [
    {
     "data": {
      "text/html": [
       "<div>\n",
       "<style scoped>\n",
       "    .dataframe tbody tr th:only-of-type {\n",
       "        vertical-align: middle;\n",
       "    }\n",
       "\n",
       "    .dataframe tbody tr th {\n",
       "        vertical-align: top;\n",
       "    }\n",
       "\n",
       "    .dataframe thead th {\n",
       "        text-align: right;\n",
       "    }\n",
       "</style>\n",
       "<table border=\"1\" class=\"dataframe\">\n",
       "  <thead>\n",
       "    <tr style=\"text-align: right;\">\n",
       "      <th></th>\n",
       "      <th>key</th>\n",
       "    </tr>\n",
       "  </thead>\n",
       "  <tbody>\n",
       "    <tr>\n",
       "      <th>0</th>\n",
       "      <td>Key_Frame__upload_a31cca13afff8e0f5d3b19cfdf14...</td>\n",
       "    </tr>\n",
       "    <tr>\n",
       "      <th>1</th>\n",
       "      <td>df.hex</td>\n",
       "    </tr>\n",
       "    <tr>\n",
       "      <th>2</th>\n",
       "      <td>dftmp.hex</td>\n",
       "    </tr>\n",
       "    <tr>\n",
       "      <th>3</th>\n",
       "      <td>ecg_discord_test.hex</td>\n",
       "    </tr>\n",
       "    <tr>\n",
       "      <th>4</th>\n",
       "      <td>ecg_discord_train.hex</td>\n",
       "    </tr>\n",
       "    <tr>\n",
       "      <th>5</th>\n",
       "      <td>http://h2o-public-test-data.s3.amazonaws.com/s...</td>\n",
       "    </tr>\n",
       "  </tbody>\n",
       "</table>\n",
       "</div>"
      ],
      "text/plain": [
       "                                                 key\n",
       "0  Key_Frame__upload_a31cca13afff8e0f5d3b19cfdf14...\n",
       "1                                             df.hex\n",
       "2                                          dftmp.hex\n",
       "3                               ecg_discord_test.hex\n",
       "4                              ecg_discord_train.hex\n",
       "5  http://h2o-public-test-data.s3.amazonaws.com/s..."
      ]
     },
     "execution_count": 10,
     "metadata": {},
     "output_type": "execute_result"
    }
   ],
   "source": [
    "h2o.ls()"
   ]
  },
  {
   "cell_type": "markdown",
   "metadata": {},
   "source": [
    "_Observation_: Old name is not replaced with new, one more alias is created for the same destination_frame"
   ]
  },
  {
   "cell_type": "markdown",
   "metadata": {},
   "source": [
    "## Remove object from h2o"
   ]
  },
  {
   "cell_type": "markdown",
   "metadata": {},
   "source": [
    "### Remove a specific object"
   ]
  },
  {
   "cell_type": "code",
   "execution_count": 11,
   "metadata": {},
   "outputs": [],
   "source": [
    "h2o.remove(\"dftmp.hex\")"
   ]
  },
  {
   "cell_type": "markdown",
   "metadata": {},
   "source": [
    "Confirm by list the same using ls"
   ]
  },
  {
   "cell_type": "code",
   "execution_count": 12,
   "metadata": {},
   "outputs": [
    {
     "data": {
      "text/html": [
       "<div>\n",
       "<style scoped>\n",
       "    .dataframe tbody tr th:only-of-type {\n",
       "        vertical-align: middle;\n",
       "    }\n",
       "\n",
       "    .dataframe tbody tr th {\n",
       "        vertical-align: top;\n",
       "    }\n",
       "\n",
       "    .dataframe thead th {\n",
       "        text-align: right;\n",
       "    }\n",
       "</style>\n",
       "<table border=\"1\" class=\"dataframe\">\n",
       "  <thead>\n",
       "    <tr style=\"text-align: right;\">\n",
       "      <th></th>\n",
       "      <th>key</th>\n",
       "    </tr>\n",
       "  </thead>\n",
       "  <tbody>\n",
       "    <tr>\n",
       "      <th>0</th>\n",
       "      <td>Key_Frame__upload_a31cca13afff8e0f5d3b19cfdf14...</td>\n",
       "    </tr>\n",
       "    <tr>\n",
       "      <th>1</th>\n",
       "      <td>df.hex</td>\n",
       "    </tr>\n",
       "    <tr>\n",
       "      <th>2</th>\n",
       "      <td>ecg_discord_test.hex</td>\n",
       "    </tr>\n",
       "    <tr>\n",
       "      <th>3</th>\n",
       "      <td>ecg_discord_train.hex</td>\n",
       "    </tr>\n",
       "    <tr>\n",
       "      <th>4</th>\n",
       "      <td>http://h2o-public-test-data.s3.amazonaws.com/s...</td>\n",
       "    </tr>\n",
       "  </tbody>\n",
       "</table>\n",
       "</div>"
      ],
      "text/plain": [
       "                                                 key\n",
       "0  Key_Frame__upload_a31cca13afff8e0f5d3b19cfdf14...\n",
       "1                                             df.hex\n",
       "2                               ecg_discord_test.hex\n",
       "3                              ecg_discord_train.hex\n",
       "4  http://h2o-public-test-data.s3.amazonaws.com/s..."
      ]
     },
     "execution_count": 12,
     "metadata": {},
     "output_type": "execute_result"
    }
   ],
   "source": [
    "h2o.ls()"
   ]
  },
  {
   "cell_type": "markdown",
   "metadata": {},
   "source": [
    "### Remove all the objects from h2o"
   ]
  },
  {
   "cell_type": "code",
   "execution_count": 13,
   "metadata": {},
   "outputs": [],
   "source": [
    "h2o.remove_all()"
   ]
  },
  {
   "cell_type": "code",
   "execution_count": 14,
   "metadata": {},
   "outputs": [
    {
     "data": {
      "text/html": [
       "<div>\n",
       "<style scoped>\n",
       "    .dataframe tbody tr th:only-of-type {\n",
       "        vertical-align: middle;\n",
       "    }\n",
       "\n",
       "    .dataframe tbody tr th {\n",
       "        vertical-align: top;\n",
       "    }\n",
       "\n",
       "    .dataframe thead th {\n",
       "        text-align: right;\n",
       "    }\n",
       "</style>\n",
       "<table border=\"1\" class=\"dataframe\">\n",
       "  <thead>\n",
       "    <tr style=\"text-align: right;\">\n",
       "      <th></th>\n",
       "      <th>key</th>\n",
       "    </tr>\n",
       "  </thead>\n",
       "  <tbody>\n",
       "  </tbody>\n",
       "</table>\n",
       "</div>"
      ],
      "text/plain": [
       "Empty DataFrame\n",
       "Columns: [key]\n",
       "Index: []"
      ]
     },
     "execution_count": 14,
     "metadata": {},
     "output_type": "execute_result"
    }
   ],
   "source": [
    "h2o.ls()"
   ]
  },
  {
   "cell_type": "markdown",
   "metadata": {},
   "source": [
    "## Create an H2OFrame object "
   ]
  },
  {
   "cell_type": "markdown",
   "metadata": {},
   "source": [
    "### To create an H2OFrame object from Python tuples.\n",
    "\n",
    "    Without giving the destination frame name"
   ]
  },
  {
   "cell_type": "code",
   "execution_count": 15,
   "metadata": {},
   "outputs": [
    {
     "name": "stdout",
     "output_type": "stream",
     "text": [
      "Parse progress: |█████████████████████████████████████████████████████████| 100%\n"
     ]
    }
   ],
   "source": [
    "df = h2o.H2OFrame(((1, 2, 3), ('a', 'b', 'c'), (0.1, 0.2, 0.3)))"
   ]
  },
  {
   "cell_type": "markdown",
   "metadata": {},
   "source": [
    "View the H2OFrame"
   ]
  },
  {
   "cell_type": "code",
   "execution_count": 16,
   "metadata": {},
   "outputs": [
    {
     "data": {
      "text/html": [
       "<table>\n",
       "<thead>\n",
       "<tr><th style=\"text-align: right;\">   C1</th><th style=\"text-align: right;\">   C2</th><th style=\"text-align: right;\">   C3</th></tr>\n",
       "</thead>\n",
       "<tbody>\n",
       "<tr><td style=\"text-align: right;\">  1  </td><td style=\"text-align: right;\">  2  </td><td style=\"text-align: right;\">  3  </td></tr>\n",
       "<tr><td style=\"text-align: right;\">nan  </td><td style=\"text-align: right;\">nan  </td><td style=\"text-align: right;\">nan  </td></tr>\n",
       "<tr><td style=\"text-align: right;\">  0.1</td><td style=\"text-align: right;\">  0.2</td><td style=\"text-align: right;\">  0.3</td></tr>\n",
       "</tbody>\n",
       "</table>"
      ]
     },
     "metadata": {},
     "output_type": "display_data"
    },
    {
     "data": {
      "text/plain": []
     },
     "execution_count": 16,
     "metadata": {},
     "output_type": "execute_result"
    }
   ],
   "source": [
    "df"
   ]
  },
  {
   "cell_type": "markdown",
   "metadata": {},
   "source": [
    "Observation: \n",
    "    \n",
    "    Lists treated as rows of the table"
   ]
  },
  {
   "cell_type": "code",
   "execution_count": 17,
   "metadata": {},
   "outputs": [
    {
     "name": "stdout",
     "output_type": "stream",
     "text": [
      "Parse progress: |█████████████████████████████████████████████████████████| 100%\n"
     ]
    }
   ],
   "source": [
    "df = h2o.H2OFrame(((1, 'a', 0.1), (2, 'b', 0.2),(3, 'c', 0.3)))"
   ]
  },
  {
   "cell_type": "markdown",
   "metadata": {},
   "source": [
    "View H2OFrame"
   ]
  },
  {
   "cell_type": "code",
   "execution_count": 18,
   "metadata": {},
   "outputs": [
    {
     "data": {
      "text/html": [
       "<table>\n",
       "<thead>\n",
       "<tr><th style=\"text-align: right;\">  C1</th><th>C2  </th><th style=\"text-align: right;\">  C3</th></tr>\n",
       "</thead>\n",
       "<tbody>\n",
       "<tr><td style=\"text-align: right;\">   1</td><td>a   </td><td style=\"text-align: right;\"> 0.1</td></tr>\n",
       "<tr><td style=\"text-align: right;\">   2</td><td>b   </td><td style=\"text-align: right;\"> 0.2</td></tr>\n",
       "<tr><td style=\"text-align: right;\">   3</td><td>c   </td><td style=\"text-align: right;\"> 0.3</td></tr>\n",
       "</tbody>\n",
       "</table>"
      ]
     },
     "metadata": {},
     "output_type": "display_data"
    },
    {
     "data": {
      "text/plain": []
     },
     "execution_count": 18,
     "metadata": {},
     "output_type": "execute_result"
    }
   ],
   "source": [
    "df"
   ]
  },
  {
   "cell_type": "markdown",
   "metadata": {},
   "source": [
    "### To create an H2OFrame object from a Python list:"
   ]
  },
  {
   "cell_type": "code",
   "execution_count": 19,
   "metadata": {},
   "outputs": [
    {
     "name": "stdout",
     "output_type": "stream",
     "text": [
      "Parse progress: |█████████████████████████████████████████████████████████| 100%\n"
     ]
    }
   ],
   "source": [
    "df = h2o.H2OFrame([[1, 2, 3], ['a', 'b', 'c'], [0.1, 0.2, 0.3]])"
   ]
  },
  {
   "cell_type": "markdown",
   "metadata": {},
   "source": [
    "View H2OFrame"
   ]
  },
  {
   "cell_type": "code",
   "execution_count": 20,
   "metadata": {},
   "outputs": [
    {
     "data": {
      "text/html": [
       "<table>\n",
       "<thead>\n",
       "<tr><th style=\"text-align: right;\">   C1</th><th style=\"text-align: right;\">   C2</th><th style=\"text-align: right;\">   C3</th></tr>\n",
       "</thead>\n",
       "<tbody>\n",
       "<tr><td style=\"text-align: right;\">  1  </td><td style=\"text-align: right;\">  2  </td><td style=\"text-align: right;\">  3  </td></tr>\n",
       "<tr><td style=\"text-align: right;\">nan  </td><td style=\"text-align: right;\">nan  </td><td style=\"text-align: right;\">nan  </td></tr>\n",
       "<tr><td style=\"text-align: right;\">  0.1</td><td style=\"text-align: right;\">  0.2</td><td style=\"text-align: right;\">  0.3</td></tr>\n",
       "</tbody>\n",
       "</table>"
      ]
     },
     "metadata": {},
     "output_type": "display_data"
    },
    {
     "data": {
      "text/plain": []
     },
     "execution_count": 20,
     "metadata": {},
     "output_type": "execute_result"
    }
   ],
   "source": [
    "df"
   ]
  },
  {
   "cell_type": "code",
   "execution_count": 21,
   "metadata": {},
   "outputs": [
    {
     "name": "stdout",
     "output_type": "stream",
     "text": [
      "Parse progress: |█████████████████████████████████████████████████████████| 100%\n"
     ]
    }
   ],
   "source": [
    "df = h2o.H2OFrame([[1, 'a', 0.1], [2, 'b', 0.2], [3, 'c', 0.3]])"
   ]
  },
  {
   "cell_type": "markdown",
   "metadata": {},
   "source": [
    "View H2OFrame"
   ]
  },
  {
   "cell_type": "code",
   "execution_count": 22,
   "metadata": {},
   "outputs": [
    {
     "data": {
      "text/html": [
       "<table>\n",
       "<thead>\n",
       "<tr><th style=\"text-align: right;\">  C1</th><th>C2  </th><th style=\"text-align: right;\">  C3</th></tr>\n",
       "</thead>\n",
       "<tbody>\n",
       "<tr><td style=\"text-align: right;\">   1</td><td>a   </td><td style=\"text-align: right;\"> 0.1</td></tr>\n",
       "<tr><td style=\"text-align: right;\">   2</td><td>b   </td><td style=\"text-align: right;\"> 0.2</td></tr>\n",
       "<tr><td style=\"text-align: right;\">   3</td><td>c   </td><td style=\"text-align: right;\"> 0.3</td></tr>\n",
       "</tbody>\n",
       "</table>"
      ]
     },
     "metadata": {},
     "output_type": "display_data"
    },
    {
     "data": {
      "text/plain": []
     },
     "execution_count": 22,
     "metadata": {},
     "output_type": "execute_result"
    }
   ],
   "source": [
    "df"
   ]
  },
  {
   "cell_type": "markdown",
   "metadata": {},
   "source": [
    "### To create an H2OFrame object from collections.OrderedDict or a Python dict"
   ]
  },
  {
   "cell_type": "code",
   "execution_count": 23,
   "metadata": {},
   "outputs": [
    {
     "name": "stdout",
     "output_type": "stream",
     "text": [
      "Parse progress: |█████████████████████████████████████████████████████████| 100%\n"
     ]
    }
   ],
   "source": [
    "df = h2o.H2OFrame({'A': [1, 2, 3], 'B': ['a', 'b', 'c'], 'C': [0.1, 0.2, 0.3]})"
   ]
  },
  {
   "cell_type": "markdown",
   "metadata": {},
   "source": [
    "View the H2OFrame"
   ]
  },
  {
   "cell_type": "code",
   "execution_count": 24,
   "metadata": {},
   "outputs": [
    {
     "data": {
      "text/html": [
       "<table>\n",
       "<thead>\n",
       "<tr><th style=\"text-align: right;\">  A</th><th>B  </th><th style=\"text-align: right;\">  C</th></tr>\n",
       "</thead>\n",
       "<tbody>\n",
       "<tr><td style=\"text-align: right;\">  1</td><td>a  </td><td style=\"text-align: right;\">0.1</td></tr>\n",
       "<tr><td style=\"text-align: right;\">  2</td><td>b  </td><td style=\"text-align: right;\">0.2</td></tr>\n",
       "<tr><td style=\"text-align: right;\">  3</td><td>c  </td><td style=\"text-align: right;\">0.3</td></tr>\n",
       "</tbody>\n",
       "</table>"
      ]
     },
     "metadata": {},
     "output_type": "display_data"
    },
    {
     "data": {
      "text/plain": []
     },
     "execution_count": 24,
     "metadata": {},
     "output_type": "execute_result"
    }
   ],
   "source": [
    "df"
   ]
  },
  {
   "cell_type": "markdown",
   "metadata": {},
   "source": [
    "To display the column types:"
   ]
  },
  {
   "cell_type": "code",
   "execution_count": 25,
   "metadata": {},
   "outputs": [
    {
     "data": {
      "text/plain": [
       "{'A': 'int', 'B': 'string', 'C': 'real'}"
      ]
     },
     "execution_count": 25,
     "metadata": {},
     "output_type": "execute_result"
    }
   ],
   "source": [
    "df.types"
   ]
  },
  {
   "cell_type": "markdown",
   "metadata": {},
   "source": [
    "### To create an H2OFrame object from a Python dict and specify the column types"
   ]
  },
  {
   "cell_type": "code",
   "execution_count": 26,
   "metadata": {},
   "outputs": [
    {
     "name": "stdout",
     "output_type": "stream",
     "text": [
      "Parse progress: |█████████████████████████████████████████████████████████| 100%\n"
     ]
    }
   ],
   "source": [
    "df2 = h2o.H2OFrame.from_python({\"A\": [1, 2, 3], \n",
    "                                \"B\": [\"a\", \"a\", \"b\"],\n",
    "                                \"C\": [\"hello\", \"all\", \"world\"],\n",
    "                                \"D\": [\"12SEP2020:11:00:00\", \"13SEP2020:12:00:00\", \"14SEP2020:13:00:00\"]},\n",
    "                                column_types=[\"numeric\", \"enum\", \"string\",\"time\"])"
   ]
  },
  {
   "cell_type": "markdown",
   "metadata": {},
   "source": [
    "To display the column types:"
   ]
  },
  {
   "cell_type": "code",
   "execution_count": 27,
   "metadata": {},
   "outputs": [
    {
     "data": {
      "text/plain": [
       "{'A': 'int', 'B': 'enum', 'C': 'string', 'D': 'time'}"
      ]
     },
     "execution_count": 27,
     "metadata": {},
     "output_type": "execute_result"
    }
   ],
   "source": [
    "df2.types"
   ]
  },
  {
   "cell_type": "markdown",
   "metadata": {},
   "source": [
    "View the H2OFrame"
   ]
  },
  {
   "cell_type": "code",
   "execution_count": 28,
   "metadata": {
    "scrolled": true
   },
   "outputs": [
    {
     "data": {
      "text/html": [
       "<table>\n",
       "<thead>\n",
       "<tr><th style=\"text-align: right;\">  A</th><th>B  </th><th>C    </th><th>D                  </th></tr>\n",
       "</thead>\n",
       "<tbody>\n",
       "<tr><td style=\"text-align: right;\">  1</td><td>a  </td><td>hello</td><td>2020-09-12 11:00:00</td></tr>\n",
       "<tr><td style=\"text-align: right;\">  2</td><td>a  </td><td>all  </td><td>2020-09-13 12:00:00</td></tr>\n",
       "<tr><td style=\"text-align: right;\">  3</td><td>b  </td><td>world</td><td>2020-09-14 13:00:00</td></tr>\n",
       "</tbody>\n",
       "</table>"
      ]
     },
     "metadata": {},
     "output_type": "display_data"
    },
    {
     "data": {
      "text/plain": []
     },
     "execution_count": 28,
     "metadata": {},
     "output_type": "execute_result"
    }
   ],
   "source": [
    "df2"
   ]
  },
  {
   "cell_type": "markdown",
   "metadata": {},
   "source": [
    "### Converting pandas data frame to h2o object"
   ]
  },
  {
   "cell_type": "markdown",
   "metadata": {},
   "source": [
    "#### Create Pandas DataFrame"
   ]
  },
  {
   "cell_type": "code",
   "execution_count": 29,
   "metadata": {},
   "outputs": [
    {
     "data": {
      "text/plain": [
       "pandas.core.frame.DataFrame"
      ]
     },
     "execution_count": 29,
     "metadata": {},
     "output_type": "execute_result"
    }
   ],
   "source": [
    "import pandas as pd\n",
    "\n",
    "# Python data frame\n",
    "df_pandas = pd.DataFrame({'A': [1, 2, 3], 'B': ['a', 'b', 'c']})\n",
    "\n",
    "# To check the aata type of object\n",
    "type(df_pandas)"
   ]
  },
  {
   "cell_type": "code",
   "execution_count": 30,
   "metadata": {},
   "outputs": [
    {
     "data": {
      "text/html": [
       "<div>\n",
       "<style scoped>\n",
       "    .dataframe tbody tr th:only-of-type {\n",
       "        vertical-align: middle;\n",
       "    }\n",
       "\n",
       "    .dataframe tbody tr th {\n",
       "        vertical-align: top;\n",
       "    }\n",
       "\n",
       "    .dataframe thead th {\n",
       "        text-align: right;\n",
       "    }\n",
       "</style>\n",
       "<table border=\"1\" class=\"dataframe\">\n",
       "  <thead>\n",
       "    <tr style=\"text-align: right;\">\n",
       "      <th></th>\n",
       "      <th>A</th>\n",
       "      <th>B</th>\n",
       "    </tr>\n",
       "  </thead>\n",
       "  <tbody>\n",
       "    <tr>\n",
       "      <th>0</th>\n",
       "      <td>1</td>\n",
       "      <td>a</td>\n",
       "    </tr>\n",
       "    <tr>\n",
       "      <th>1</th>\n",
       "      <td>2</td>\n",
       "      <td>b</td>\n",
       "    </tr>\n",
       "    <tr>\n",
       "      <th>2</th>\n",
       "      <td>3</td>\n",
       "      <td>c</td>\n",
       "    </tr>\n",
       "  </tbody>\n",
       "</table>\n",
       "</div>"
      ],
      "text/plain": [
       "   A  B\n",
       "0  1  a\n",
       "1  2  b\n",
       "2  3  c"
      ]
     },
     "execution_count": 30,
     "metadata": {},
     "output_type": "execute_result"
    }
   ],
   "source": [
    "df_pandas"
   ]
  },
  {
   "cell_type": "markdown",
   "metadata": {},
   "source": [
    "#### Converting the pandas data frame to h2o frame\n",
    "\n",
    "    dataframe.values returns the array list."
   ]
  },
  {
   "cell_type": "code",
   "execution_count": 31,
   "metadata": {},
   "outputs": [
    {
     "name": "stdout",
     "output_type": "stream",
     "text": [
      "Parse progress: |█████████████████████████████████████████████████████████| 100%\n"
     ]
    }
   ],
   "source": [
    "df = h2o.H2OFrame.from_python(df_pandas, column_names=list(\"AB\"))"
   ]
  },
  {
   "cell_type": "code",
   "execution_count": 32,
   "metadata": {},
   "outputs": [
    {
     "data": {
      "text/html": [
       "<table>\n",
       "<thead>\n",
       "<tr><th style=\"text-align: right;\">  A</th><th>B  </th></tr>\n",
       "</thead>\n",
       "<tbody>\n",
       "<tr><td style=\"text-align: right;\">  1</td><td>a  </td></tr>\n",
       "<tr><td style=\"text-align: right;\">  2</td><td>b  </td></tr>\n",
       "<tr><td style=\"text-align: right;\">  3</td><td>c  </td></tr>\n",
       "</tbody>\n",
       "</table>"
      ]
     },
     "metadata": {},
     "output_type": "display_data"
    },
    {
     "data": {
      "text/plain": []
     },
     "execution_count": 32,
     "metadata": {},
     "output_type": "execute_result"
    }
   ],
   "source": [
    "df"
   ]
  },
  {
   "cell_type": "code",
   "execution_count": 33,
   "metadata": {},
   "outputs": [
    {
     "data": {
      "text/plain": [
       "h2o.frame.H2OFrame"
      ]
     },
     "execution_count": 33,
     "metadata": {},
     "output_type": "execute_result"
    }
   ],
   "source": [
    "type(df)"
   ]
  },
  {
   "cell_type": "markdown",
   "metadata": {},
   "source": [
    "Observation: In future version H2o doesn't take Padans data frame directly. Either use  as_matrix() or take numpy arrary from pandas and pass it to H2o"
   ]
  },
  {
   "cell_type": "code",
   "execution_count": 34,
   "metadata": {},
   "outputs": [
    {
     "name": "stdout",
     "output_type": "stream",
     "text": [
      "Parse progress: |█████████████████████████████████████████████████████████| 100%\n"
     ]
    }
   ],
   "source": [
    "df = h2o.H2OFrame.from_python(df_pandas.values, column_names=list(\"AB\"))"
   ]
  },
  {
   "cell_type": "code",
   "execution_count": 35,
   "metadata": {},
   "outputs": [
    {
     "data": {
      "text/html": [
       "<table>\n",
       "<thead>\n",
       "<tr><th style=\"text-align: right;\">  A</th><th>B  </th></tr>\n",
       "</thead>\n",
       "<tbody>\n",
       "<tr><td style=\"text-align: right;\">  1</td><td>a  </td></tr>\n",
       "<tr><td style=\"text-align: right;\">  2</td><td>b  </td></tr>\n",
       "<tr><td style=\"text-align: right;\">  3</td><td>c  </td></tr>\n",
       "</tbody>\n",
       "</table>"
      ]
     },
     "metadata": {},
     "output_type": "display_data"
    },
    {
     "data": {
      "text/plain": []
     },
     "execution_count": 35,
     "metadata": {},
     "output_type": "execute_result"
    }
   ],
   "source": [
    "df"
   ]
  },
  {
   "cell_type": "markdown",
   "metadata": {},
   "source": [
    "Just for understanding"
   ]
  },
  {
   "cell_type": "code",
   "execution_count": 36,
   "metadata": {},
   "outputs": [
    {
     "data": {
      "text/plain": [
       "['A', 'B']"
      ]
     },
     "execution_count": 36,
     "metadata": {},
     "output_type": "execute_result"
    }
   ],
   "source": [
    "list(\"AB\")"
   ]
  },
  {
   "cell_type": "markdown",
   "metadata": {},
   "source": [
    "Checking the data type of the object"
   ]
  },
  {
   "cell_type": "code",
   "execution_count": 37,
   "metadata": {},
   "outputs": [
    {
     "data": {
      "text/plain": [
       "h2o.frame.H2OFrame"
      ]
     },
     "execution_count": 37,
     "metadata": {},
     "output_type": "execute_result"
    }
   ],
   "source": [
    "type(df)"
   ]
  },
  {
   "cell_type": "markdown",
   "metadata": {},
   "source": [
    "### Converting the h2o frame to pandas data frame"
   ]
  },
  {
   "cell_type": "code",
   "execution_count": 38,
   "metadata": {},
   "outputs": [],
   "source": [
    "df_pand = h2o.H2OFrame.as_data_frame(df)"
   ]
  },
  {
   "cell_type": "code",
   "execution_count": 39,
   "metadata": {},
   "outputs": [
    {
     "data": {
      "text/plain": [
       "pandas.core.frame.DataFrame"
      ]
     },
     "execution_count": 39,
     "metadata": {},
     "output_type": "execute_result"
    }
   ],
   "source": [
    "type(df_pand)"
   ]
  },
  {
   "cell_type": "code",
   "execution_count": 40,
   "metadata": {},
   "outputs": [
    {
     "data": {
      "text/html": [
       "<div>\n",
       "<style scoped>\n",
       "    .dataframe tbody tr th:only-of-type {\n",
       "        vertical-align: middle;\n",
       "    }\n",
       "\n",
       "    .dataframe tbody tr th {\n",
       "        vertical-align: top;\n",
       "    }\n",
       "\n",
       "    .dataframe thead th {\n",
       "        text-align: right;\n",
       "    }\n",
       "</style>\n",
       "<table border=\"1\" class=\"dataframe\">\n",
       "  <thead>\n",
       "    <tr style=\"text-align: right;\">\n",
       "      <th></th>\n",
       "      <th>A</th>\n",
       "      <th>B</th>\n",
       "    </tr>\n",
       "  </thead>\n",
       "  <tbody>\n",
       "    <tr>\n",
       "      <th>0</th>\n",
       "      <td>1</td>\n",
       "      <td>a</td>\n",
       "    </tr>\n",
       "    <tr>\n",
       "      <th>1</th>\n",
       "      <td>2</td>\n",
       "      <td>b</td>\n",
       "    </tr>\n",
       "    <tr>\n",
       "      <th>2</th>\n",
       "      <td>3</td>\n",
       "      <td>c</td>\n",
       "    </tr>\n",
       "  </tbody>\n",
       "</table>\n",
       "</div>"
      ],
      "text/plain": [
       "   A  B\n",
       "0  1  a\n",
       "1  2  b\n",
       "2  3  c"
      ]
     },
     "execution_count": 40,
     "metadata": {},
     "output_type": "execute_result"
    }
   ],
   "source": [
    "df_pand"
   ]
  },
  {
   "cell_type": "code",
   "execution_count": 41,
   "metadata": {},
   "outputs": [],
   "source": [
    "del(df_pand)"
   ]
  },
  {
   "cell_type": "markdown",
   "metadata": {},
   "source": [
    "### To display the top and bottom of an H2OFrame"
   ]
  },
  {
   "cell_type": "code",
   "execution_count": 42,
   "metadata": {},
   "outputs": [
    {
     "name": "stdout",
     "output_type": "stream",
     "text": [
      "Parse progress: |█████████████████████████████████████████████████████████| 100%\n"
     ]
    }
   ],
   "source": [
    "import numpy as np\n",
    "\n",
    "df = h2o.H2OFrame.from_python(np.random.randn(100,4), column_names=list('ABCD'))\n",
    "# df = h2o.H2OFrame.from_python(np.random.randn(100,4).tolist(), column_names=list('ABCD'))"
   ]
  },
  {
   "cell_type": "markdown",
   "metadata": {},
   "source": [
    "#### View top 10 rows of the H2OFrame"
   ]
  },
  {
   "cell_type": "code",
   "execution_count": 43,
   "metadata": {},
   "outputs": [
    {
     "data": {
      "text/html": [
       "<table>\n",
       "<thead>\n",
       "<tr><th style=\"text-align: right;\">         A</th><th style=\"text-align: right;\">        B</th><th style=\"text-align: right;\">        C</th><th style=\"text-align: right;\">        D</th></tr>\n",
       "</thead>\n",
       "<tbody>\n",
       "<tr><td style=\"text-align: right;\">-2.31411  </td><td style=\"text-align: right;\">-0.420906</td><td style=\"text-align: right;\">-0.784378</td><td style=\"text-align: right;\">-0.600316</td></tr>\n",
       "<tr><td style=\"text-align: right;\">-0.0303107</td><td style=\"text-align: right;\">-0.334415</td><td style=\"text-align: right;\"> 0.889986</td><td style=\"text-align: right;\">-0.902756</td></tr>\n",
       "<tr><td style=\"text-align: right;\"> 0.889815 </td><td style=\"text-align: right;\"> 0.499498</td><td style=\"text-align: right;\"> 1.13126 </td><td style=\"text-align: right;\"> 0.457683</td></tr>\n",
       "<tr><td style=\"text-align: right;\">-0.136728 </td><td style=\"text-align: right;\">-0.689726</td><td style=\"text-align: right;\">-1.02643 </td><td style=\"text-align: right;\"> 1.17075 </td></tr>\n",
       "<tr><td style=\"text-align: right;\">-0.152813 </td><td style=\"text-align: right;\">-0.649354</td><td style=\"text-align: right;\">-0.580722</td><td style=\"text-align: right;\"> 0.369689</td></tr>\n",
       "<tr><td style=\"text-align: right;\"> 0.0457421</td><td style=\"text-align: right;\"> 1.50415 </td><td style=\"text-align: right;\">-2.58187 </td><td style=\"text-align: right;\"> 0.592722</td></tr>\n",
       "<tr><td style=\"text-align: right;\">-0.161056 </td><td style=\"text-align: right;\"> 0.251256</td><td style=\"text-align: right;\"> 1.7856  </td><td style=\"text-align: right;\"> 2.27578 </td></tr>\n",
       "<tr><td style=\"text-align: right;\"> 0.357449 </td><td style=\"text-align: right;\"> 1.2468  </td><td style=\"text-align: right;\">-0.629577</td><td style=\"text-align: right;\"> 0.788201</td></tr>\n",
       "<tr><td style=\"text-align: right;\"> 0.232999 </td><td style=\"text-align: right;\">-0.343308</td><td style=\"text-align: right;\"> 0.824925</td><td style=\"text-align: right;\">-0.46809 </td></tr>\n",
       "<tr><td style=\"text-align: right;\">-0.406646 </td><td style=\"text-align: right;\"> 0.782852</td><td style=\"text-align: right;\"> 0.605593</td><td style=\"text-align: right;\"> 0.274735</td></tr>\n",
       "</tbody>\n",
       "</table>"
      ]
     },
     "metadata": {},
     "output_type": "display_data"
    },
    {
     "data": {
      "text/plain": []
     },
     "execution_count": 43,
     "metadata": {},
     "output_type": "execute_result"
    }
   ],
   "source": [
    "df.head()"
   ]
  },
  {
   "cell_type": "markdown",
   "metadata": {},
   "source": [
    "#### View bottom 5 rows of the H2OFrame"
   ]
  },
  {
   "cell_type": "code",
   "execution_count": 44,
   "metadata": {},
   "outputs": [
    {
     "data": {
      "text/html": [
       "<table>\n",
       "<thead>\n",
       "<tr><th style=\"text-align: right;\">        A</th><th style=\"text-align: right;\">        B</th><th style=\"text-align: right;\">        C</th><th style=\"text-align: right;\">          D</th></tr>\n",
       "</thead>\n",
       "<tbody>\n",
       "<tr><td style=\"text-align: right;\"> 1.16615 </td><td style=\"text-align: right;\"> 0.959123</td><td style=\"text-align: right;\"> 0.530487</td><td style=\"text-align: right;\"> 1.35768   </td></tr>\n",
       "<tr><td style=\"text-align: right;\">-0.554313</td><td style=\"text-align: right;\"> 0.390748</td><td style=\"text-align: right;\"> 0.291953</td><td style=\"text-align: right;\"> 0.00484215</td></tr>\n",
       "<tr><td style=\"text-align: right;\"> 0.595438</td><td style=\"text-align: right;\"> 0.935602</td><td style=\"text-align: right;\"> 0.883054</td><td style=\"text-align: right;\">-0.068086  </td></tr>\n",
       "<tr><td style=\"text-align: right;\"> 1.13    </td><td style=\"text-align: right;\">-0.858179</td><td style=\"text-align: right;\">-1.14883 </td><td style=\"text-align: right;\"> 2.34633   </td></tr>\n",
       "<tr><td style=\"text-align: right;\">-1.46359 </td><td style=\"text-align: right;\">-0.326437</td><td style=\"text-align: right;\"> 1.39299 </td><td style=\"text-align: right;\"> 0.864175  </td></tr>\n",
       "</tbody>\n",
       "</table>"
      ]
     },
     "metadata": {},
     "output_type": "display_data"
    },
    {
     "data": {
      "text/plain": []
     },
     "execution_count": 44,
     "metadata": {},
     "output_type": "execute_result"
    }
   ],
   "source": [
    "df.tail(5)"
   ]
  },
  {
   "cell_type": "markdown",
   "metadata": {},
   "source": [
    "#### To display the column names"
   ]
  },
  {
   "cell_type": "code",
   "execution_count": 45,
   "metadata": {},
   "outputs": [
    {
     "data": {
      "text/plain": [
       "['A', 'B', 'C', 'D']"
      ]
     },
     "execution_count": 45,
     "metadata": {},
     "output_type": "execute_result"
    }
   ],
   "source": [
    "df.columns"
   ]
  },
  {
   "cell_type": "markdown",
   "metadata": {},
   "source": [
    "#### To display summary statistics of your data"
   ]
  },
  {
   "cell_type": "code",
   "execution_count": 46,
   "metadata": {},
   "outputs": [
    {
     "name": "stdout",
     "output_type": "stream",
     "text": [
      "Rows:100\n",
      "Cols:4\n",
      "\n",
      "\n"
     ]
    },
    {
     "data": {
      "text/html": [
       "<table>\n",
       "<thead>\n",
       "<tr><th>       </th><th>A                   </th><th>B                   </th><th>C                  </th><th>D                  </th></tr>\n",
       "</thead>\n",
       "<tbody>\n",
       "<tr><td>type   </td><td>real                </td><td>real                </td><td>real               </td><td>real               </td></tr>\n",
       "<tr><td>mins   </td><td>-2.332030113478489  </td><td>-2.972182136700504  </td><td>-2.581868797017038 </td><td>-2.1546928746485254</td></tr>\n",
       "<tr><td>mean   </td><td>-0.12646894552774224</td><td>0.032823221364601536</td><td>0.03581393976074404</td><td>0.2632227327459989 </td></tr>\n",
       "<tr><td>maxs   </td><td>2.0320337169568012  </td><td>2.0752372020757757  </td><td>2.030151665863007  </td><td>2.894620152252981  </td></tr>\n",
       "<tr><td>sigma  </td><td>0.9858860573408157  </td><td>0.9662553205729965  </td><td>1.0069540652319846 </td><td>1.0370488800291684 </td></tr>\n",
       "<tr><td>zeros  </td><td>0                   </td><td>0                   </td><td>0                  </td><td>0                  </td></tr>\n",
       "<tr><td>missing</td><td>0                   </td><td>0                   </td><td>0                  </td><td>0                  </td></tr>\n",
       "<tr><td>0      </td><td>-2.314108666063639  </td><td>-0.42090562095715506</td><td>-0.7843780180590263</td><td>-0.6003162897756084</td></tr>\n",
       "<tr><td>1      </td><td>-0.03031072081031899</td><td>-0.33441527804609383</td><td>0.8899858455567308 </td><td>-0.9027563869806008</td></tr>\n",
       "<tr><td>2      </td><td>0.8898149663554036  </td><td>0.4994977926679671  </td><td>1.131262971021223  </td><td>0.45768320933385154</td></tr>\n",
       "<tr><td>3      </td><td>-0.13672756234065525</td><td>-0.6897257560920579 </td><td>-1.026433612924891 </td><td>1.17074910194523   </td></tr>\n",
       "<tr><td>4      </td><td>-0.1528127793972703 </td><td>-0.6493538387686753 </td><td>-0.5807220309318316</td><td>0.36968934074517273</td></tr>\n",
       "<tr><td>5      </td><td>0.045742063451174125</td><td>1.5041490052106967  </td><td>-2.581868797017038 </td><td>0.5927220414956149 </td></tr>\n",
       "<tr><td>6      </td><td>-0.16105622429950334</td><td>0.2512559379886862  </td><td>1.7856023935028105 </td><td>2.275782161240727  </td></tr>\n",
       "<tr><td>7      </td><td>0.3574492349487698  </td><td>1.2467958705982851  </td><td>-0.629576866046083 </td><td>0.7882008959565284 </td></tr>\n",
       "<tr><td>8      </td><td>0.2329989484126048  </td><td>-0.34330800244653026</td><td>0.8249247771619994 </td><td>-0.4680898270804136</td></tr>\n",
       "<tr><td>9      </td><td>-0.40664616830202327</td><td>0.7828515920969401  </td><td>0.6055933849449546 </td><td>0.27473487701467686</td></tr>\n",
       "</tbody>\n",
       "</table>"
      ]
     },
     "metadata": {},
     "output_type": "display_data"
    }
   ],
   "source": [
    "df.describe()"
   ]
  },
  {
   "cell_type": "markdown",
   "metadata": {},
   "source": [
    "## Selection"
   ]
  },
  {
   "cell_type": "markdown",
   "metadata": {},
   "source": [
    "### To select a single column by name, resulting in an H2OFrame"
   ]
  },
  {
   "cell_type": "code",
   "execution_count": 47,
   "metadata": {},
   "outputs": [
    {
     "data": {
      "text/html": [
       "<table>\n",
       "<thead>\n",
       "<tr><th style=\"text-align: right;\">         A</th></tr>\n",
       "</thead>\n",
       "<tbody>\n",
       "<tr><td style=\"text-align: right;\">-2.31411  </td></tr>\n",
       "<tr><td style=\"text-align: right;\">-0.0303107</td></tr>\n",
       "<tr><td style=\"text-align: right;\"> 0.889815 </td></tr>\n",
       "<tr><td style=\"text-align: right;\">-0.136728 </td></tr>\n",
       "<tr><td style=\"text-align: right;\">-0.152813 </td></tr>\n",
       "<tr><td style=\"text-align: right;\"> 0.0457421</td></tr>\n",
       "<tr><td style=\"text-align: right;\">-0.161056 </td></tr>\n",
       "<tr><td style=\"text-align: right;\"> 0.357449 </td></tr>\n",
       "<tr><td style=\"text-align: right;\"> 0.232999 </td></tr>\n",
       "<tr><td style=\"text-align: right;\">-0.406646 </td></tr>\n",
       "</tbody>\n",
       "</table>"
      ]
     },
     "metadata": {},
     "output_type": "display_data"
    },
    {
     "data": {
      "text/plain": []
     },
     "execution_count": 47,
     "metadata": {},
     "output_type": "execute_result"
    }
   ],
   "source": [
    "df['A']"
   ]
  },
  {
   "cell_type": "markdown",
   "metadata": {},
   "source": [
    "### To select a single column by index, resulting in an H2OFrame"
   ]
  },
  {
   "cell_type": "code",
   "execution_count": 48,
   "metadata": {},
   "outputs": [
    {
     "data": {
      "text/html": [
       "<table>\n",
       "<thead>\n",
       "<tr><th style=\"text-align: right;\">        B</th></tr>\n",
       "</thead>\n",
       "<tbody>\n",
       "<tr><td style=\"text-align: right;\">-0.420906</td></tr>\n",
       "<tr><td style=\"text-align: right;\">-0.334415</td></tr>\n",
       "<tr><td style=\"text-align: right;\"> 0.499498</td></tr>\n",
       "<tr><td style=\"text-align: right;\">-0.689726</td></tr>\n",
       "<tr><td style=\"text-align: right;\">-0.649354</td></tr>\n",
       "<tr><td style=\"text-align: right;\"> 1.50415 </td></tr>\n",
       "<tr><td style=\"text-align: right;\"> 0.251256</td></tr>\n",
       "<tr><td style=\"text-align: right;\"> 1.2468  </td></tr>\n",
       "<tr><td style=\"text-align: right;\">-0.343308</td></tr>\n",
       "<tr><td style=\"text-align: right;\"> 0.782852</td></tr>\n",
       "</tbody>\n",
       "</table>"
      ]
     },
     "metadata": {},
     "output_type": "display_data"
    },
    {
     "data": {
      "text/plain": []
     },
     "execution_count": 48,
     "metadata": {},
     "output_type": "execute_result"
    }
   ],
   "source": [
    "df[1]"
   ]
  },
  {
   "cell_type": "markdown",
   "metadata": {},
   "source": [
    "### To select multiple columns by name, resulting in an H2OFrame"
   ]
  },
  {
   "cell_type": "code",
   "execution_count": 49,
   "metadata": {},
   "outputs": [
    {
     "data": {
      "text/html": [
       "<table>\n",
       "<thead>\n",
       "<tr><th style=\"text-align: right;\">        B</th><th style=\"text-align: right;\">        C</th></tr>\n",
       "</thead>\n",
       "<tbody>\n",
       "<tr><td style=\"text-align: right;\">-0.420906</td><td style=\"text-align: right;\">-0.784378</td></tr>\n",
       "<tr><td style=\"text-align: right;\">-0.334415</td><td style=\"text-align: right;\"> 0.889986</td></tr>\n",
       "<tr><td style=\"text-align: right;\"> 0.499498</td><td style=\"text-align: right;\"> 1.13126 </td></tr>\n",
       "<tr><td style=\"text-align: right;\">-0.689726</td><td style=\"text-align: right;\">-1.02643 </td></tr>\n",
       "<tr><td style=\"text-align: right;\">-0.649354</td><td style=\"text-align: right;\">-0.580722</td></tr>\n",
       "<tr><td style=\"text-align: right;\"> 1.50415 </td><td style=\"text-align: right;\">-2.58187 </td></tr>\n",
       "<tr><td style=\"text-align: right;\"> 0.251256</td><td style=\"text-align: right;\"> 1.7856  </td></tr>\n",
       "<tr><td style=\"text-align: right;\"> 1.2468  </td><td style=\"text-align: right;\">-0.629577</td></tr>\n",
       "<tr><td style=\"text-align: right;\">-0.343308</td><td style=\"text-align: right;\"> 0.824925</td></tr>\n",
       "<tr><td style=\"text-align: right;\"> 0.782852</td><td style=\"text-align: right;\"> 0.605593</td></tr>\n",
       "</tbody>\n",
       "</table>"
      ]
     },
     "metadata": {},
     "output_type": "display_data"
    },
    {
     "data": {
      "text/plain": []
     },
     "execution_count": 49,
     "metadata": {},
     "output_type": "execute_result"
    }
   ],
   "source": [
    "df[['B', 'C']]"
   ]
  },
  {
   "cell_type": "markdown",
   "metadata": {},
   "source": [
    "### To select multiple columns by index, resulting in an H2OFrame:"
   ]
  },
  {
   "cell_type": "code",
   "execution_count": 50,
   "metadata": {},
   "outputs": [
    {
     "data": {
      "text/html": [
       "<table>\n",
       "<thead>\n",
       "<tr><th style=\"text-align: right;\">         A</th><th style=\"text-align: right;\">        B</th></tr>\n",
       "</thead>\n",
       "<tbody>\n",
       "<tr><td style=\"text-align: right;\">-2.31411  </td><td style=\"text-align: right;\">-0.420906</td></tr>\n",
       "<tr><td style=\"text-align: right;\">-0.0303107</td><td style=\"text-align: right;\">-0.334415</td></tr>\n",
       "<tr><td style=\"text-align: right;\"> 0.889815 </td><td style=\"text-align: right;\"> 0.499498</td></tr>\n",
       "<tr><td style=\"text-align: right;\">-0.136728 </td><td style=\"text-align: right;\">-0.689726</td></tr>\n",
       "<tr><td style=\"text-align: right;\">-0.152813 </td><td style=\"text-align: right;\">-0.649354</td></tr>\n",
       "<tr><td style=\"text-align: right;\"> 0.0457421</td><td style=\"text-align: right;\"> 1.50415 </td></tr>\n",
       "<tr><td style=\"text-align: right;\">-0.161056 </td><td style=\"text-align: right;\"> 0.251256</td></tr>\n",
       "<tr><td style=\"text-align: right;\"> 0.357449 </td><td style=\"text-align: right;\"> 1.2468  </td></tr>\n",
       "<tr><td style=\"text-align: right;\"> 0.232999 </td><td style=\"text-align: right;\">-0.343308</td></tr>\n",
       "<tr><td style=\"text-align: right;\">-0.406646 </td><td style=\"text-align: right;\"> 0.782852</td></tr>\n",
       "</tbody>\n",
       "</table>"
      ]
     },
     "metadata": {},
     "output_type": "display_data"
    },
    {
     "data": {
      "text/plain": []
     },
     "execution_count": 50,
     "metadata": {},
     "output_type": "execute_result"
    }
   ],
   "source": [
    "df[0:2]"
   ]
  },
  {
   "cell_type": "markdown",
   "metadata": {},
   "source": [
    "### To select multiple rows by slicing, resulting in an H2OFrame:\n",
    "\n",
    "__Note__: By default, H2OFrame selection is for columns, so to slice by rows and get all columns, be explicit about selecting all columns:"
   ]
  },
  {
   "cell_type": "code",
   "execution_count": 51,
   "metadata": {},
   "outputs": [
    {
     "data": {
      "text/html": [
       "<table>\n",
       "<thead>\n",
       "<tr><th style=\"text-align: right;\">         A</th><th style=\"text-align: right;\">        B</th><th style=\"text-align: right;\">        C</th><th style=\"text-align: right;\">       D</th></tr>\n",
       "</thead>\n",
       "<tbody>\n",
       "<tr><td style=\"text-align: right;\"> 0.889815 </td><td style=\"text-align: right;\"> 0.499498</td><td style=\"text-align: right;\"> 1.13126 </td><td style=\"text-align: right;\">0.457683</td></tr>\n",
       "<tr><td style=\"text-align: right;\">-0.136728 </td><td style=\"text-align: right;\">-0.689726</td><td style=\"text-align: right;\">-1.02643 </td><td style=\"text-align: right;\">1.17075 </td></tr>\n",
       "<tr><td style=\"text-align: right;\">-0.152813 </td><td style=\"text-align: right;\">-0.649354</td><td style=\"text-align: right;\">-0.580722</td><td style=\"text-align: right;\">0.369689</td></tr>\n",
       "<tr><td style=\"text-align: right;\"> 0.0457421</td><td style=\"text-align: right;\"> 1.50415 </td><td style=\"text-align: right;\">-2.58187 </td><td style=\"text-align: right;\">0.592722</td></tr>\n",
       "<tr><td style=\"text-align: right;\">-0.161056 </td><td style=\"text-align: right;\"> 0.251256</td><td style=\"text-align: right;\"> 1.7856  </td><td style=\"text-align: right;\">2.27578 </td></tr>\n",
       "</tbody>\n",
       "</table>"
      ]
     },
     "metadata": {},
     "output_type": "display_data"
    },
    {
     "data": {
      "text/plain": []
     },
     "execution_count": 51,
     "metadata": {},
     "output_type": "execute_result"
    }
   ],
   "source": [
    "df[2:7, :]"
   ]
  },
  {
   "cell_type": "markdown",
   "metadata": {},
   "source": [
    "### To select rows based on speci\f",
    "c criteria, use Boolean masking"
   ]
  },
  {
   "cell_type": "code",
   "execution_count": 52,
   "metadata": {},
   "outputs": [
    {
     "name": "stdout",
     "output_type": "stream",
     "text": [
      "Parse progress: |█████████████████████████████████████████████████████████| 100%\n"
     ]
    }
   ],
   "source": [
    "df = h2o.H2OFrame.from_python({'A': [1, 2, 3],\n",
    "                               'B': ['a', 'a', 'b'],\n",
    "                               'C': ['hello', 'all', 'world'],\n",
    "                               'D': ['12MAR2015:11:00:00', '13MAR2015:12:00:00', '14MAR2015:13:00:00']},\n",
    "                              column_types=['numeric', 'enum', 'string', 'time'])"
   ]
  },
  {
   "cell_type": "code",
   "execution_count": 53,
   "metadata": {},
   "outputs": [
    {
     "data": {
      "text/html": [
       "<table>\n",
       "<thead>\n",
       "<tr><th style=\"text-align: right;\">  A</th><th>B  </th><th>C    </th><th>D                  </th></tr>\n",
       "</thead>\n",
       "<tbody>\n",
       "<tr><td style=\"text-align: right;\">  1</td><td>a  </td><td>hello</td><td>2015-03-12 11:00:00</td></tr>\n",
       "<tr><td style=\"text-align: right;\">  2</td><td>a  </td><td>all  </td><td>2015-03-13 12:00:00</td></tr>\n",
       "</tbody>\n",
       "</table>"
      ]
     },
     "metadata": {},
     "output_type": "display_data"
    },
    {
     "data": {
      "text/plain": []
     },
     "execution_count": 53,
     "metadata": {},
     "output_type": "execute_result"
    }
   ],
   "source": [
    "df[ df[\"B\"] == \"a\", :]"
   ]
  },
  {
   "cell_type": "markdown",
   "metadata": {},
   "source": [
    "## Missing Data"
   ]
  },
  {
   "cell_type": "markdown",
   "metadata": {},
   "source": [
    "The H2O parser can handle many different representations of missing data types, including '' (blank), `NA', and None (Python). They are all displayed as __nan__ in Python."
   ]
  },
  {
   "cell_type": "markdown",
   "metadata": {},
   "source": [
    "### To create an H2OFrame from Python with missing elements"
   ]
  },
  {
   "cell_type": "code",
   "execution_count": 54,
   "metadata": {},
   "outputs": [
    {
     "name": "stdout",
     "output_type": "stream",
     "text": [
      "Parse progress: |█████████████████████████████████████████████████████████| 100%\n"
     ]
    }
   ],
   "source": [
    "df = h2o.H2OFrame.from_python(\n",
    "    {'A': [1, 2, 3, None, ''],\n",
    "     'B': ['a', 'a', 'b', \"NA\", 'NA'],\n",
    "     'C': ['hello', 'all', 'world', None, None],\n",
    "     'D': ['12MAR2015:11:00:00', None, '13MAR2015:12:00:00', None, '14MAR2015:13:00:00']},\n",
    "    column_types=['numeric', 'enum', 'string', 'time'])"
   ]
  },
  {
   "cell_type": "code",
   "execution_count": 55,
   "metadata": {},
   "outputs": [
    {
     "data": {
      "text/html": [
       "<table>\n",
       "<thead>\n",
       "<tr><th style=\"text-align: right;\">  A</th><th>B  </th><th>C    </th><th>D                  </th></tr>\n",
       "</thead>\n",
       "<tbody>\n",
       "<tr><td style=\"text-align: right;\">  1</td><td>a  </td><td>hello</td><td>2015-03-12 11:00:00</td></tr>\n",
       "<tr><td style=\"text-align: right;\">  2</td><td>a  </td><td>all  </td><td>                   </td></tr>\n",
       "<tr><td style=\"text-align: right;\">  3</td><td>b  </td><td>world</td><td>2015-03-13 12:00:00</td></tr>\n",
       "<tr><td style=\"text-align: right;\">nan</td><td>NA </td><td>     </td><td>                   </td></tr>\n",
       "<tr><td style=\"text-align: right;\">nan</td><td>NA </td><td>     </td><td>2015-03-14 13:00:00</td></tr>\n",
       "</tbody>\n",
       "</table>"
      ]
     },
     "metadata": {},
     "output_type": "display_data"
    },
    {
     "data": {
      "text/plain": []
     },
     "execution_count": 55,
     "metadata": {},
     "output_type": "execute_result"
    }
   ],
   "source": [
    "df"
   ]
  },
  {
   "cell_type": "markdown",
   "metadata": {},
   "source": [
    "Observation:\n",
    "\n",
    "    See how None in A, C and D columns are displayed. \n",
    "    NA is not treated as Missing    "
   ]
  },
  {
   "cell_type": "markdown",
   "metadata": {},
   "source": [
    "### To determine which rows are missing data for a given column (`1' indicates missing):"
   ]
  },
  {
   "cell_type": "code",
   "execution_count": 56,
   "metadata": {},
   "outputs": [
    {
     "data": {
      "text/html": [
       "<table>\n",
       "<thead>\n",
       "<tr><th style=\"text-align: right;\">  isNA(A)</th></tr>\n",
       "</thead>\n",
       "<tbody>\n",
       "<tr><td style=\"text-align: right;\">        0</td></tr>\n",
       "<tr><td style=\"text-align: right;\">        0</td></tr>\n",
       "<tr><td style=\"text-align: right;\">        0</td></tr>\n",
       "<tr><td style=\"text-align: right;\">        1</td></tr>\n",
       "<tr><td style=\"text-align: right;\">        1</td></tr>\n",
       "</tbody>\n",
       "</table>"
      ]
     },
     "metadata": {},
     "output_type": "display_data"
    },
    {
     "data": {
      "text/plain": []
     },
     "execution_count": 56,
     "metadata": {},
     "output_type": "execute_result"
    }
   ],
   "source": [
    "df[\"A\"].isna()"
   ]
  },
  {
   "cell_type": "markdown",
   "metadata": {},
   "source": [
    "### To determine the location of all missing data in an H2OFrame"
   ]
  },
  {
   "cell_type": "code",
   "execution_count": 57,
   "metadata": {},
   "outputs": [
    {
     "data": {
      "text/html": [
       "<table>\n",
       "<thead>\n",
       "<tr><th style=\"text-align: right;\">  isNA(A)</th><th style=\"text-align: right;\">  isNA(B)</th><th style=\"text-align: right;\">  isNA(C)</th><th style=\"text-align: right;\">  isNA(D)</th></tr>\n",
       "</thead>\n",
       "<tbody>\n",
       "<tr><td style=\"text-align: right;\">        0</td><td style=\"text-align: right;\">        0</td><td style=\"text-align: right;\">        0</td><td style=\"text-align: right;\">        0</td></tr>\n",
       "<tr><td style=\"text-align: right;\">        0</td><td style=\"text-align: right;\">        0</td><td style=\"text-align: right;\">        0</td><td style=\"text-align: right;\">        1</td></tr>\n",
       "<tr><td style=\"text-align: right;\">        0</td><td style=\"text-align: right;\">        0</td><td style=\"text-align: right;\">        0</td><td style=\"text-align: right;\">        0</td></tr>\n",
       "<tr><td style=\"text-align: right;\">        1</td><td style=\"text-align: right;\">        0</td><td style=\"text-align: right;\">        0</td><td style=\"text-align: right;\">        1</td></tr>\n",
       "<tr><td style=\"text-align: right;\">        1</td><td style=\"text-align: right;\">        0</td><td style=\"text-align: right;\">        0</td><td style=\"text-align: right;\">        0</td></tr>\n",
       "</tbody>\n",
       "</table>"
      ]
     },
     "metadata": {},
     "output_type": "display_data"
    },
    {
     "data": {
      "text/plain": []
     },
     "execution_count": 57,
     "metadata": {},
     "output_type": "execute_result"
    }
   ],
   "source": [
    "df.isna()"
   ]
  },
  {
   "cell_type": "markdown",
   "metadata": {},
   "source": [
    "### To change all missing values in a column to a diferent value:"
   ]
  },
  {
   "cell_type": "code",
   "execution_count": 58,
   "metadata": {},
   "outputs": [],
   "source": [
    "df[df[\"A\"].isna(), \"A\"] = 5"
   ]
  },
  {
   "cell_type": "code",
   "execution_count": 59,
   "metadata": {},
   "outputs": [
    {
     "data": {
      "text/html": [
       "<table>\n",
       "<thead>\n",
       "<tr><th style=\"text-align: right;\">  A</th><th>B  </th><th>C    </th><th>D                  </th></tr>\n",
       "</thead>\n",
       "<tbody>\n",
       "<tr><td style=\"text-align: right;\">  1</td><td>a  </td><td>hello</td><td>2015-03-12 11:00:00</td></tr>\n",
       "<tr><td style=\"text-align: right;\">  2</td><td>a  </td><td>all  </td><td>                   </td></tr>\n",
       "<tr><td style=\"text-align: right;\">  3</td><td>b  </td><td>world</td><td>2015-03-13 12:00:00</td></tr>\n",
       "<tr><td style=\"text-align: right;\">  5</td><td>NA </td><td>     </td><td>                   </td></tr>\n",
       "<tr><td style=\"text-align: right;\">  5</td><td>NA </td><td>     </td><td>2015-03-14 13:00:00</td></tr>\n",
       "</tbody>\n",
       "</table>"
      ]
     },
     "metadata": {},
     "output_type": "display_data"
    },
    {
     "data": {
      "text/plain": []
     },
     "execution_count": 59,
     "metadata": {},
     "output_type": "execute_result"
    }
   ],
   "source": [
    "df"
   ]
  },
  {
   "cell_type": "markdown",
   "metadata": {},
   "source": [
    "### Operations"
   ]
  },
  {
   "cell_type": "markdown",
   "metadata": {},
   "source": [
    "When performing a descriptive statistic on an entire H2OFrame, missing data is generally excluded and the operation is only performed on the columns of the appropriate data type and a native Python object is returned"
   ]
  },
  {
   "cell_type": "code",
   "execution_count": 60,
   "metadata": {},
   "outputs": [
    {
     "name": "stdout",
     "output_type": "stream",
     "text": [
      "Parse progress: |█████████████████████████████████████████████████████████| 100%\n"
     ]
    }
   ],
   "source": [
    "df = h2o.H2OFrame.from_python(\n",
    "    {'A': [1, 2, 3, None, '', 6],\n",
    "     'B': ['a', 'NA', 'c', 'NA', 'NA', 'f'],\n",
    "     'C': ['hello', 'all', 'world', None, None, 'insofe'],\n",
    "     'D': ['12MAR2015:11:00:00', None, '13MAR2015:12:00:00', None, '14MAR2015:13:00:00', None]},\n",
    "    column_types=['numeric', 'enum', 'string', 'time'])"
   ]
  },
  {
   "cell_type": "code",
   "execution_count": 61,
   "metadata": {},
   "outputs": [
    {
     "data": {
      "text/plain": [
       "[3.0, nan, nan, 1426248000000.0]"
      ]
     },
     "execution_count": 61,
     "metadata": {},
     "output_type": "execute_result"
    }
   ],
   "source": [
    "df.mean(na_rm=True)"
   ]
  },
  {
   "cell_type": "code",
   "execution_count": 62,
   "metadata": {},
   "outputs": [
    {
     "data": {
      "text/plain": [
       "[nan]"
      ]
     },
     "execution_count": 62,
     "metadata": {},
     "output_type": "execute_result"
    }
   ],
   "source": [
    "df[\"A\"].mean(na_rm=False)"
   ]
  },
  {
   "cell_type": "code",
   "execution_count": 63,
   "metadata": {},
   "outputs": [
    {
     "data": {
      "text/plain": [
       "[3.0]"
      ]
     },
     "execution_count": 63,
     "metadata": {},
     "output_type": "execute_result"
    }
   ],
   "source": [
    "df[\"A\"].mean(na_rm=True)"
   ]
  },
  {
   "cell_type": "markdown",
   "metadata": {},
   "source": [
    "In both examples, a native Python object is returned (list and float respectively in these examples)."
   ]
  },
  {
   "cell_type": "code",
   "execution_count": 64,
   "metadata": {},
   "outputs": [
    {
     "data": {
      "text/html": [
       "<table>\n",
       "<thead>\n",
       "<tr><th style=\"text-align: right;\">  isNA(A)</th><th style=\"text-align: right;\">  isNA(B)</th><th style=\"text-align: right;\">  isNA(C)</th><th style=\"text-align: right;\">  isNA(D)</th></tr>\n",
       "</thead>\n",
       "<tbody>\n",
       "<tr><td style=\"text-align: right;\">        0</td><td style=\"text-align: right;\">        0</td><td style=\"text-align: right;\">        0</td><td style=\"text-align: right;\">        0</td></tr>\n",
       "<tr><td style=\"text-align: right;\">        0</td><td style=\"text-align: right;\">        0</td><td style=\"text-align: right;\">        0</td><td style=\"text-align: right;\">        1</td></tr>\n",
       "<tr><td style=\"text-align: right;\">        0</td><td style=\"text-align: right;\">        0</td><td style=\"text-align: right;\">        0</td><td style=\"text-align: right;\">        0</td></tr>\n",
       "<tr><td style=\"text-align: right;\">        1</td><td style=\"text-align: right;\">        0</td><td style=\"text-align: right;\">        0</td><td style=\"text-align: right;\">        1</td></tr>\n",
       "<tr><td style=\"text-align: right;\">        1</td><td style=\"text-align: right;\">        0</td><td style=\"text-align: right;\">        0</td><td style=\"text-align: right;\">        0</td></tr>\n",
       "<tr><td style=\"text-align: right;\">        0</td><td style=\"text-align: right;\">        0</td><td style=\"text-align: right;\">        0</td><td style=\"text-align: right;\">        1</td></tr>\n",
       "</tbody>\n",
       "</table>"
      ]
     },
     "metadata": {},
     "output_type": "display_data"
    },
    {
     "data": {
      "text/plain": []
     },
     "execution_count": 64,
     "metadata": {},
     "output_type": "execute_result"
    }
   ],
   "source": [
    "df.isna()"
   ]
  },
  {
   "cell_type": "markdown",
   "metadata": {},
   "source": [
    "### Handling different types null values\n",
    "    In H2o null values are recognized as\n",
    "        1. np.nan \n",
    "        2. None in numeric or date columns.\n",
    "        \n",
    "    Note: NA values are considered as Strings"
   ]
  },
  {
   "cell_type": "markdown",
   "metadata": {},
   "source": [
    "In each column, changing the \"NA\" or \"\" or None values to np.nan"
   ]
  },
  {
   "cell_type": "code",
   "execution_count": 65,
   "metadata": {},
   "outputs": [],
   "source": [
    "for cols in df.columns:\n",
    "    df[df[cols] == \"NA\", cols] = np.nan\n",
    "    df[df[cols] == \"\", cols] = np.nan\n",
    "    df[df[cols] == None, cols] = np.nan"
   ]
  },
  {
   "cell_type": "code",
   "execution_count": 66,
   "metadata": {},
   "outputs": [
    {
     "data": {
      "text/html": [
       "<table>\n",
       "<thead>\n",
       "<tr><th style=\"text-align: right;\">  A</th><th>B  </th><th>C     </th><th>D                  </th></tr>\n",
       "</thead>\n",
       "<tbody>\n",
       "<tr><td style=\"text-align: right;\">  1</td><td>a  </td><td>hello </td><td>2015-03-12 11:00:00</td></tr>\n",
       "<tr><td style=\"text-align: right;\">  2</td><td>   </td><td>all   </td><td>                   </td></tr>\n",
       "<tr><td style=\"text-align: right;\">  3</td><td>c  </td><td>world </td><td>2015-03-13 12:00:00</td></tr>\n",
       "<tr><td style=\"text-align: right;\">nan</td><td>   </td><td>      </td><td>                   </td></tr>\n",
       "<tr><td style=\"text-align: right;\">nan</td><td>   </td><td>      </td><td>2015-03-14 13:00:00</td></tr>\n",
       "<tr><td style=\"text-align: right;\">  6</td><td>f  </td><td>insofe</td><td>                   </td></tr>\n",
       "</tbody>\n",
       "</table>"
      ]
     },
     "metadata": {},
     "output_type": "display_data"
    },
    {
     "data": {
      "text/plain": []
     },
     "execution_count": 66,
     "metadata": {},
     "output_type": "execute_result"
    }
   ],
   "source": [
    "df"
   ]
  },
  {
   "cell_type": "code",
   "execution_count": 67,
   "metadata": {},
   "outputs": [
    {
     "data": {
      "text/html": [
       "<table>\n",
       "<thead>\n",
       "<tr><th style=\"text-align: right;\">  isNA(A)</th><th style=\"text-align: right;\">  isNA(B)</th><th style=\"text-align: right;\">  isNA(C)</th><th style=\"text-align: right;\">  isNA(D)</th></tr>\n",
       "</thead>\n",
       "<tbody>\n",
       "<tr><td style=\"text-align: right;\">        0</td><td style=\"text-align: right;\">        0</td><td style=\"text-align: right;\">        0</td><td style=\"text-align: right;\">        0</td></tr>\n",
       "<tr><td style=\"text-align: right;\">        0</td><td style=\"text-align: right;\">        1</td><td style=\"text-align: right;\">        0</td><td style=\"text-align: right;\">        1</td></tr>\n",
       "<tr><td style=\"text-align: right;\">        0</td><td style=\"text-align: right;\">        0</td><td style=\"text-align: right;\">        0</td><td style=\"text-align: right;\">        0</td></tr>\n",
       "<tr><td style=\"text-align: right;\">        1</td><td style=\"text-align: right;\">        1</td><td style=\"text-align: right;\">        1</td><td style=\"text-align: right;\">        1</td></tr>\n",
       "<tr><td style=\"text-align: right;\">        1</td><td style=\"text-align: right;\">        1</td><td style=\"text-align: right;\">        1</td><td style=\"text-align: right;\">        0</td></tr>\n",
       "<tr><td style=\"text-align: right;\">        0</td><td style=\"text-align: right;\">        0</td><td style=\"text-align: right;\">        0</td><td style=\"text-align: right;\">        1</td></tr>\n",
       "</tbody>\n",
       "</table>"
      ]
     },
     "metadata": {},
     "output_type": "display_data"
    },
    {
     "data": {
      "text/plain": []
     },
     "execution_count": 67,
     "metadata": {},
     "output_type": "execute_result"
    }
   ],
   "source": [
    "df.isna()"
   ]
  },
  {
   "cell_type": "code",
   "execution_count": 68,
   "metadata": {},
   "outputs": [
    {
     "data": {
      "text/plain": [
       "[0.0, 2.0]"
      ]
     },
     "execution_count": 68,
     "metadata": {},
     "output_type": "execute_result"
    }
   ],
   "source": [
    "# Filter columns with proportion of NAs greater than ``frac``.\n",
    "df.filter_na_cols(0.5)"
   ]
  },
  {
   "cell_type": "code",
   "execution_count": 69,
   "metadata": {},
   "outputs": [
    {
     "data": {
      "text/plain": [
       "{'A': 'int', 'B': 'enum', 'C': 'string', 'D': 'time'}"
      ]
     },
     "execution_count": 69,
     "metadata": {},
     "output_type": "execute_result"
    }
   ],
   "source": [
    "df.types"
   ]
  },
  {
   "cell_type": "markdown",
   "metadata": {},
   "source": [
    "### Checking for number null values at column level"
   ]
  },
  {
   "cell_type": "code",
   "execution_count": 70,
   "metadata": {},
   "outputs": [
    {
     "data": {
      "text/html": [
       "<table>\n",
       "<thead>\n",
       "<tr><th style=\"text-align: right;\">  isNA(A)</th><th style=\"text-align: right;\">  isNA(B)</th><th style=\"text-align: right;\">  isNA(C)</th><th style=\"text-align: right;\">  isNA(D)</th></tr>\n",
       "</thead>\n",
       "<tbody>\n",
       "<tr><td style=\"text-align: right;\">        2</td><td style=\"text-align: right;\">        3</td><td style=\"text-align: right;\">        2</td><td style=\"text-align: right;\">        3</td></tr>\n",
       "</tbody>\n",
       "</table>"
      ]
     },
     "metadata": {},
     "output_type": "display_data"
    },
    {
     "data": {
      "text/plain": []
     },
     "execution_count": 70,
     "metadata": {},
     "output_type": "execute_result"
    }
   ],
   "source": [
    "df.isna().apply(lambda x: x.sum())"
   ]
  },
  {
   "cell_type": "markdown",
   "metadata": {},
   "source": [
    "### Handling missing values"
   ]
  },
  {
   "cell_type": "markdown",
   "metadata": {},
   "source": [
    "#### Imputing the data with central tendencies"
   ]
  },
  {
   "cell_type": "code",
   "execution_count": 71,
   "metadata": {},
   "outputs": [
    {
     "data": {
      "text/plain": [
       "[3.0, nan, nan, nan]"
      ]
     },
     "execution_count": 71,
     "metadata": {},
     "output_type": "execute_result"
    }
   ],
   "source": [
    "# Imputing the numeric columns with mean value\n",
    "df.impute(column = \"A\", method = \"mean\")"
   ]
  },
  {
   "cell_type": "code",
   "execution_count": 72,
   "metadata": {},
   "outputs": [
    {
     "data": {
      "text/plain": [
       "[nan, 1.0, nan, nan]"
      ]
     },
     "execution_count": 72,
     "metadata": {},
     "output_type": "execute_result"
    }
   ],
   "source": [
    "# Imputing the categorical columns with mode value\n",
    "df.impute(column = \"B\", method = \"mode\")"
   ]
  },
  {
   "cell_type": "code",
   "execution_count": 73,
   "metadata": {},
   "outputs": [
    {
     "data": {
      "text/html": [
       "<table>\n",
       "<thead>\n",
       "<tr><th style=\"text-align: right;\">  A</th><th>B  </th><th>C     </th><th>D                  </th></tr>\n",
       "</thead>\n",
       "<tbody>\n",
       "<tr><td style=\"text-align: right;\">  1</td><td>a  </td><td>hello </td><td>2015-03-12 11:00:00</td></tr>\n",
       "<tr><td style=\"text-align: right;\">  2</td><td>a  </td><td>all   </td><td>                   </td></tr>\n",
       "<tr><td style=\"text-align: right;\">  3</td><td>c  </td><td>world </td><td>2015-03-13 12:00:00</td></tr>\n",
       "<tr><td style=\"text-align: right;\">  3</td><td>a  </td><td>      </td><td>                   </td></tr>\n",
       "<tr><td style=\"text-align: right;\">  3</td><td>a  </td><td>      </td><td>2015-03-14 13:00:00</td></tr>\n",
       "<tr><td style=\"text-align: right;\">  6</td><td>f  </td><td>insofe</td><td>                   </td></tr>\n",
       "</tbody>\n",
       "</table>"
      ]
     },
     "metadata": {},
     "output_type": "display_data"
    },
    {
     "data": {
      "text/plain": []
     },
     "execution_count": 73,
     "metadata": {},
     "output_type": "execute_result"
    }
   ],
   "source": [
    "df"
   ]
  },
  {
   "cell_type": "markdown",
   "metadata": {},
   "source": [
    "## apply function"
   ]
  },
  {
   "cell_type": "markdown",
   "metadata": {},
   "source": [
    "When applying functions to each column of the data, an H2OFrame containing the means of each column is returned"
   ]
  },
  {
   "cell_type": "code",
   "execution_count": 74,
   "metadata": {},
   "outputs": [
    {
     "name": "stdout",
     "output_type": "stream",
     "text": [
      "Parse progress: |█████████████████████████████████████████████████████████| 100%\n"
     ]
    }
   ],
   "source": [
    "df = h2o.H2OFrame.from_python(np.random.randn(100,4), column_names=list('ABCD'))"
   ]
  },
  {
   "cell_type": "code",
   "execution_count": 75,
   "metadata": {},
   "outputs": [
    {
     "data": {
      "text/html": [
       "<table>\n",
       "<thead>\n",
       "<tr><th style=\"text-align: right;\">         A</th><th style=\"text-align: right;\">         B</th><th style=\"text-align: right;\">          C</th><th style=\"text-align: right;\">        D</th></tr>\n",
       "</thead>\n",
       "<tbody>\n",
       "<tr><td style=\"text-align: right;\">-0.156466 </td><td style=\"text-align: right;\">-0.0853923</td><td style=\"text-align: right;\"> 0.953113  </td><td style=\"text-align: right;\"> 0.965269</td></tr>\n",
       "<tr><td style=\"text-align: right;\"> 1.3104   </td><td style=\"text-align: right;\"> 0.0622217</td><td style=\"text-align: right;\"> 0.463746  </td><td style=\"text-align: right;\"> 1.42794 </td></tr>\n",
       "<tr><td style=\"text-align: right;\"> 0.450265 </td><td style=\"text-align: right;\"> 0.789991 </td><td style=\"text-align: right;\">-0.790725  </td><td style=\"text-align: right;\">-1.93096 </td></tr>\n",
       "<tr><td style=\"text-align: right;\">-0.280833 </td><td style=\"text-align: right;\">-0.662007 </td><td style=\"text-align: right;\"> 0.254932  </td><td style=\"text-align: right;\">-0.679072</td></tr>\n",
       "<tr><td style=\"text-align: right;\">-0.886577 </td><td style=\"text-align: right;\"> 0.393713 </td><td style=\"text-align: right;\"> 1.40827   </td><td style=\"text-align: right;\">-1.10921 </td></tr>\n",
       "<tr><td style=\"text-align: right;\"> 1.55568  </td><td style=\"text-align: right;\">-1.38365  </td><td style=\"text-align: right;\"> 0.322107  </td><td style=\"text-align: right;\">-0.63462 </td></tr>\n",
       "<tr><td style=\"text-align: right;\">-0.885733 </td><td style=\"text-align: right;\"> 1.79391  </td><td style=\"text-align: right;\"> 0.794088  </td><td style=\"text-align: right;\"> 0.695281</td></tr>\n",
       "<tr><td style=\"text-align: right;\"> 0.0638657</td><td style=\"text-align: right;\">-1.62151  </td><td style=\"text-align: right;\">-1.20215   </td><td style=\"text-align: right;\"> 0.399627</td></tr>\n",
       "<tr><td style=\"text-align: right;\">-1.09818  </td><td style=\"text-align: right;\"> 0.0182903</td><td style=\"text-align: right;\">-0.00234107</td><td style=\"text-align: right;\">-1.42411 </td></tr>\n",
       "<tr><td style=\"text-align: right;\">-1.52817  </td><td style=\"text-align: right;\">-0.549612 </td><td style=\"text-align: right;\"> 2.42729   </td><td style=\"text-align: right;\"> 0.642553</td></tr>\n",
       "</tbody>\n",
       "</table>"
      ]
     },
     "metadata": {},
     "output_type": "display_data"
    },
    {
     "data": {
      "text/plain": []
     },
     "execution_count": 75,
     "metadata": {},
     "output_type": "execute_result"
    }
   ],
   "source": [
    "df"
   ]
  },
  {
   "cell_type": "code",
   "execution_count": 76,
   "metadata": {},
   "outputs": [
    {
     "data": {
      "text/html": [
       "<table>\n",
       "<thead>\n",
       "<tr><th style=\"text-align: right;\">       A</th><th style=\"text-align: right;\">        B</th><th style=\"text-align: right;\">       C</th><th style=\"text-align: right;\">        D</th></tr>\n",
       "</thead>\n",
       "<tbody>\n",
       "<tr><td style=\"text-align: right;\">0.179453</td><td style=\"text-align: right;\">0.0642106</td><td style=\"text-align: right;\">0.148901</td><td style=\"text-align: right;\">-0.011721</td></tr>\n",
       "</tbody>\n",
       "</table>"
      ]
     },
     "metadata": {},
     "output_type": "display_data"
    },
    {
     "data": {
      "text/plain": []
     },
     "execution_count": 76,
     "metadata": {},
     "output_type": "execute_result"
    }
   ],
   "source": [
    "df.apply(lambda x: x.mean())"
   ]
  },
  {
   "cell_type": "markdown",
   "metadata": {},
   "source": [
    "When applying functions to each row of the data, an H2OFrame containing the sum of all columns is returned"
   ]
  },
  {
   "cell_type": "raw",
   "metadata": {},
   "source": [
    "df.apply(lambda row: row.sum(), axis=1)"
   ]
  },
  {
   "cell_type": "markdown",
   "metadata": {},
   "source": [
    "To determine the number of times a string is contained in each element:"
   ]
  },
  {
   "cell_type": "code",
   "execution_count": 77,
   "metadata": {},
   "outputs": [
    {
     "name": "stdout",
     "output_type": "stream",
     "text": [
      "Parse progress: |█████████████████████████████████████████████████████████| 100%\n"
     ]
    }
   ],
   "source": [
    "df = h2o.H2OFrame.from_python(['Hello', 'World', 'Welcome', 'To', 'H2O', 'World'])"
   ]
  },
  {
   "cell_type": "markdown",
   "metadata": {},
   "source": [
    "View the H2OFrame"
   ]
  },
  {
   "cell_type": "code",
   "execution_count": 78,
   "metadata": {},
   "outputs": [
    {
     "data": {
      "text/html": [
       "<table>\n",
       "<thead>\n",
       "<tr><th>C1     </th></tr>\n",
       "</thead>\n",
       "<tbody>\n",
       "<tr><td>Hello  </td></tr>\n",
       "<tr><td>World  </td></tr>\n",
       "<tr><td>Welcome</td></tr>\n",
       "<tr><td>To     </td></tr>\n",
       "<tr><td>H2O    </td></tr>\n",
       "<tr><td>World  </td></tr>\n",
       "</tbody>\n",
       "</table>"
      ]
     },
     "metadata": {},
     "output_type": "display_data"
    },
    {
     "data": {
      "text/plain": []
     },
     "execution_count": 78,
     "metadata": {},
     "output_type": "execute_result"
    }
   ],
   "source": [
    "df"
   ]
  },
  {
   "cell_type": "markdown",
   "metadata": {},
   "source": [
    "Find how many times \"l\" appears in each string"
   ]
  },
  {
   "cell_type": "code",
   "execution_count": 79,
   "metadata": {},
   "outputs": [
    {
     "data": {
      "text/html": [
       "<table>\n",
       "<thead>\n",
       "<tr><th style=\"text-align: right;\">  C1</th></tr>\n",
       "</thead>\n",
       "<tbody>\n",
       "<tr><td style=\"text-align: right;\">   2</td></tr>\n",
       "<tr><td style=\"text-align: right;\">   1</td></tr>\n",
       "<tr><td style=\"text-align: right;\">   1</td></tr>\n",
       "<tr><td style=\"text-align: right;\">   0</td></tr>\n",
       "<tr><td style=\"text-align: right;\">   0</td></tr>\n",
       "<tr><td style=\"text-align: right;\">   1</td></tr>\n",
       "</tbody>\n",
       "</table>"
      ]
     },
     "metadata": {},
     "output_type": "display_data"
    },
    {
     "data": {
      "text/plain": []
     },
     "execution_count": 79,
     "metadata": {},
     "output_type": "execute_result"
    }
   ],
   "source": [
    "df.countmatches('l')"
   ]
  },
  {
   "cell_type": "markdown",
   "metadata": {},
   "source": [
    "To replace the 1st occurrence of 'l' (lower case letter) with 'x' and return a new H2OFrame"
   ]
  },
  {
   "cell_type": "code",
   "execution_count": 80,
   "metadata": {},
   "outputs": [
    {
     "data": {
      "text/html": [
       "<table>\n",
       "<thead>\n",
       "<tr><th>C1     </th></tr>\n",
       "</thead>\n",
       "<tbody>\n",
       "<tr><td>Hexlo  </td></tr>\n",
       "<tr><td>Worxd  </td></tr>\n",
       "<tr><td>Wexcome</td></tr>\n",
       "<tr><td>To     </td></tr>\n",
       "<tr><td>H2O    </td></tr>\n",
       "<tr><td>Worxd  </td></tr>\n",
       "</tbody>\n",
       "</table>"
      ]
     },
     "metadata": {},
     "output_type": "display_data"
    },
    {
     "data": {
      "text/plain": []
     },
     "execution_count": 80,
     "metadata": {},
     "output_type": "execute_result"
    }
   ],
   "source": [
    "df.sub('l', 'x')"
   ]
  },
  {
   "cell_type": "markdown",
   "metadata": {},
   "source": [
    "For global substitution, use gsub. Both sub and gsub support regular expressions."
   ]
  },
  {
   "cell_type": "code",
   "execution_count": 81,
   "metadata": {},
   "outputs": [
    {
     "data": {
      "text/html": [
       "<table>\n",
       "<thead>\n",
       "<tr><th>C1     </th></tr>\n",
       "</thead>\n",
       "<tbody>\n",
       "<tr><td>Hexxo  </td></tr>\n",
       "<tr><td>Worxd  </td></tr>\n",
       "<tr><td>Wexcome</td></tr>\n",
       "<tr><td>To     </td></tr>\n",
       "<tr><td>H2O    </td></tr>\n",
       "<tr><td>Worxd  </td></tr>\n",
       "</tbody>\n",
       "</table>"
      ]
     },
     "metadata": {},
     "output_type": "display_data"
    },
    {
     "data": {
      "text/plain": []
     },
     "execution_count": 81,
     "metadata": {},
     "output_type": "execute_result"
    }
   ],
   "source": [
    "df.gsub('l', 'x')"
   ]
  },
  {
   "cell_type": "markdown",
   "metadata": {},
   "source": [
    "To split strings based on a regular expression:"
   ]
  },
  {
   "cell_type": "code",
   "execution_count": 82,
   "metadata": {},
   "outputs": [
    {
     "data": {
      "text/html": [
       "<table>\n",
       "<thead>\n",
       "<tr><th>C1  </th><th>C2  </th></tr>\n",
       "</thead>\n",
       "<tbody>\n",
       "<tr><td>He  </td><td>o   </td></tr>\n",
       "<tr><td>Wor </td><td>d   </td></tr>\n",
       "<tr><td>We  </td><td>come</td></tr>\n",
       "<tr><td>To  </td><td>    </td></tr>\n",
       "<tr><td>H2O </td><td>    </td></tr>\n",
       "<tr><td>Wor </td><td>d   </td></tr>\n",
       "</tbody>\n",
       "</table>"
      ]
     },
     "metadata": {},
     "output_type": "display_data"
    },
    {
     "data": {
      "text/plain": []
     },
     "execution_count": 82,
     "metadata": {},
     "output_type": "execute_result"
    }
   ],
   "source": [
    "df.strsplit('(l)+')"
   ]
  },
  {
   "cell_type": "markdown",
   "metadata": {},
   "source": [
    "## Merging"
   ]
  },
  {
   "cell_type": "code",
   "execution_count": 83,
   "metadata": {},
   "outputs": [
    {
     "name": "stdout",
     "output_type": "stream",
     "text": [
      "Parse progress: |█████████████████████████████████████████████████████████| 100%\n",
      "Parse progress: |█████████████████████████████████████████████████████████| 100%\n"
     ]
    }
   ],
   "source": [
    "# Create df1 frame of random numbers w/ 100 rows\n",
    "df1 = h2o.H2OFrame.from_python(np.random.randn(100,4).tolist(), column_names=list('ABCD'))\n",
    "\n",
    "# Create df2 second frame of random numbers w/ 100 rows\n",
    "df2 = h2o.H2OFrame.from_python(np.random.randn(100,4).tolist(), column_names=list('ABCD'))"
   ]
  },
  {
   "cell_type": "markdown",
   "metadata": {},
   "source": [
    "Combine the two frames, adding the rows from df2 to df1"
   ]
  },
  {
   "cell_type": "code",
   "execution_count": 84,
   "metadata": {},
   "outputs": [
    {
     "data": {
      "text/html": [
       "<table>\n",
       "<thead>\n",
       "<tr><th style=\"text-align: right;\">        A</th><th style=\"text-align: right;\">        B</th><th style=\"text-align: right;\">         C</th><th style=\"text-align: right;\">         D</th></tr>\n",
       "</thead>\n",
       "<tbody>\n",
       "<tr><td style=\"text-align: right;\">-0.274141</td><td style=\"text-align: right;\">-0.199749</td><td style=\"text-align: right;\">-1.27894  </td><td style=\"text-align: right;\"> 0.998951 </td></tr>\n",
       "<tr><td style=\"text-align: right;\"> 0.1322  </td><td style=\"text-align: right;\">-0.745765</td><td style=\"text-align: right;\">-1.04771  </td><td style=\"text-align: right;\"> 1.16298  </td></tr>\n",
       "<tr><td style=\"text-align: right;\">-1.74891 </td><td style=\"text-align: right;\"> 0.269514</td><td style=\"text-align: right;\"> 0.0776487</td><td style=\"text-align: right;\"> 0.353602 </td></tr>\n",
       "<tr><td style=\"text-align: right;\">-1.04062 </td><td style=\"text-align: right;\"> 0.256879</td><td style=\"text-align: right;\">-0.738023 </td><td style=\"text-align: right;\"> 0.634736 </td></tr>\n",
       "<tr><td style=\"text-align: right;\"> 0.723542</td><td style=\"text-align: right;\">-0.349087</td><td style=\"text-align: right;\">-0.89622  </td><td style=\"text-align: right;\">-0.3354   </td></tr>\n",
       "<tr><td style=\"text-align: right;\">-1.27467 </td><td style=\"text-align: right;\"> 1.21818 </td><td style=\"text-align: right;\"> 0.481351 </td><td style=\"text-align: right;\"> 1.09066  </td></tr>\n",
       "<tr><td style=\"text-align: right;\"> 0.145469</td><td style=\"text-align: right;\"> 0.733455</td><td style=\"text-align: right;\"> 0.117387 </td><td style=\"text-align: right;\">-0.659801 </td></tr>\n",
       "<tr><td style=\"text-align: right;\">-0.768316</td><td style=\"text-align: right;\"> 1.04313 </td><td style=\"text-align: right;\"> 0.397842 </td><td style=\"text-align: right;\">-0.382767 </td></tr>\n",
       "<tr><td style=\"text-align: right;\"> 0.790539</td><td style=\"text-align: right;\"> 0.745677</td><td style=\"text-align: right;\">-0.990822 </td><td style=\"text-align: right;\"> 0.309935 </td></tr>\n",
       "<tr><td style=\"text-align: right;\">-0.805144</td><td style=\"text-align: right;\"> 0.690823</td><td style=\"text-align: right;\">-0.81115  </td><td style=\"text-align: right;\">-0.0128796</td></tr>\n",
       "</tbody>\n",
       "</table>"
      ]
     },
     "metadata": {},
     "output_type": "display_data"
    },
    {
     "data": {
      "text/plain": []
     },
     "execution_count": 84,
     "metadata": {},
     "output_type": "execute_result"
    }
   ],
   "source": [
    "df1.rbind(df2)"
   ]
  },
  {
   "cell_type": "code",
   "execution_count": 85,
   "metadata": {},
   "outputs": [
    {
     "data": {
      "text/plain": [
       "(200, 4)"
      ]
     },
     "execution_count": 85,
     "metadata": {},
     "output_type": "execute_result"
    }
   ],
   "source": [
    "df1.rbind(df2).shape"
   ]
  },
  {
   "cell_type": "code",
   "execution_count": 86,
   "metadata": {},
   "outputs": [
    {
     "data": {
      "text/html": [
       "<table>\n",
       "<thead>\n",
       "<tr><th style=\"text-align: right;\">        A</th><th style=\"text-align: right;\">        B</th><th style=\"text-align: right;\">         C</th><th style=\"text-align: right;\">         D</th><th style=\"text-align: right;\">       A0</th><th style=\"text-align: right;\">         B0</th><th style=\"text-align: right;\">       C0</th><th style=\"text-align: right;\">          D0</th></tr>\n",
       "</thead>\n",
       "<tbody>\n",
       "<tr><td style=\"text-align: right;\">-0.274141</td><td style=\"text-align: right;\">-0.199749</td><td style=\"text-align: right;\">-1.27894  </td><td style=\"text-align: right;\"> 0.998951 </td><td style=\"text-align: right;\"> 0.101272</td><td style=\"text-align: right;\"> 0.184185  </td><td style=\"text-align: right;\"> 1.19974 </td><td style=\"text-align: right;\">-0.000266256</td></tr>\n",
       "<tr><td style=\"text-align: right;\"> 0.1322  </td><td style=\"text-align: right;\">-0.745765</td><td style=\"text-align: right;\">-1.04771  </td><td style=\"text-align: right;\"> 1.16298  </td><td style=\"text-align: right;\"> 0.783583</td><td style=\"text-align: right;\"> 0.316923  </td><td style=\"text-align: right;\"> 1.33438 </td><td style=\"text-align: right;\"> 0.660798   </td></tr>\n",
       "<tr><td style=\"text-align: right;\">-1.74891 </td><td style=\"text-align: right;\"> 0.269514</td><td style=\"text-align: right;\"> 0.0776487</td><td style=\"text-align: right;\"> 0.353602 </td><td style=\"text-align: right;\">-1.70914 </td><td style=\"text-align: right;\">-1.11734   </td><td style=\"text-align: right;\"> 0.513921</td><td style=\"text-align: right;\"> 0.641114   </td></tr>\n",
       "<tr><td style=\"text-align: right;\">-1.04062 </td><td style=\"text-align: right;\"> 0.256879</td><td style=\"text-align: right;\">-0.738023 </td><td style=\"text-align: right;\"> 0.634736 </td><td style=\"text-align: right;\">-1.03772 </td><td style=\"text-align: right;\"> 2.03698   </td><td style=\"text-align: right;\">-1.99728 </td><td style=\"text-align: right;\">-1.54668    </td></tr>\n",
       "<tr><td style=\"text-align: right;\"> 0.723542</td><td style=\"text-align: right;\">-0.349087</td><td style=\"text-align: right;\">-0.89622  </td><td style=\"text-align: right;\">-0.3354   </td><td style=\"text-align: right;\">-0.181565</td><td style=\"text-align: right;\">-1.28046   </td><td style=\"text-align: right;\">-1.14866 </td><td style=\"text-align: right;\">-0.645552   </td></tr>\n",
       "<tr><td style=\"text-align: right;\">-1.27467 </td><td style=\"text-align: right;\"> 1.21818 </td><td style=\"text-align: right;\"> 0.481351 </td><td style=\"text-align: right;\"> 1.09066  </td><td style=\"text-align: right;\">-0.064035</td><td style=\"text-align: right;\"> 1.1007    </td><td style=\"text-align: right;\"> 2.01732 </td><td style=\"text-align: right;\">-1.83818    </td></tr>\n",
       "<tr><td style=\"text-align: right;\"> 0.145469</td><td style=\"text-align: right;\"> 0.733455</td><td style=\"text-align: right;\"> 0.117387 </td><td style=\"text-align: right;\">-0.659801 </td><td style=\"text-align: right;\">-0.269788</td><td style=\"text-align: right;\">-0.00312191</td><td style=\"text-align: right;\"> 0.539876</td><td style=\"text-align: right;\"> 0.794752   </td></tr>\n",
       "<tr><td style=\"text-align: right;\">-0.768316</td><td style=\"text-align: right;\"> 1.04313 </td><td style=\"text-align: right;\"> 0.397842 </td><td style=\"text-align: right;\">-0.382767 </td><td style=\"text-align: right;\">-0.229794</td><td style=\"text-align: right;\">-0.519613  </td><td style=\"text-align: right;\">-1.04601 </td><td style=\"text-align: right;\"> 1.7119     </td></tr>\n",
       "<tr><td style=\"text-align: right;\"> 0.790539</td><td style=\"text-align: right;\"> 0.745677</td><td style=\"text-align: right;\">-0.990822 </td><td style=\"text-align: right;\"> 0.309935 </td><td style=\"text-align: right;\"> 1.3831  </td><td style=\"text-align: right;\"> 1.99276   </td><td style=\"text-align: right;\">-0.972583</td><td style=\"text-align: right;\"> 0.385283   </td></tr>\n",
       "<tr><td style=\"text-align: right;\">-0.805144</td><td style=\"text-align: right;\"> 0.690823</td><td style=\"text-align: right;\">-0.81115  </td><td style=\"text-align: right;\">-0.0128796</td><td style=\"text-align: right;\"> 0.26339 </td><td style=\"text-align: right;\">-1.37165   </td><td style=\"text-align: right;\">-0.301477</td><td style=\"text-align: right;\">-0.412487   </td></tr>\n",
       "</tbody>\n",
       "</table>"
      ]
     },
     "metadata": {},
     "output_type": "display_data"
    },
    {
     "data": {
      "text/plain": []
     },
     "execution_count": 86,
     "metadata": {},
     "output_type": "execute_result"
    }
   ],
   "source": [
    "df1.cbind(df2)"
   ]
  },
  {
   "cell_type": "code",
   "execution_count": 87,
   "metadata": {},
   "outputs": [
    {
     "data": {
      "text/plain": [
       "(100, 8)"
      ]
     },
     "execution_count": 87,
     "metadata": {},
     "output_type": "execute_result"
    }
   ],
   "source": [
    "df1.cbind(df2).shape"
   ]
  },
  {
   "cell_type": "code",
   "execution_count": 88,
   "metadata": {},
   "outputs": [
    {
     "name": "stdout",
     "output_type": "stream",
     "text": [
      "Parse progress: |█████████████████████████████████████████████████████████| 100%\n"
     ]
    },
    {
     "data": {
      "text/html": [
       "<table>\n",
       "<thead>\n",
       "<tr><th>A      </th><th style=\"text-align: right;\">  n</th></tr>\n",
       "</thead>\n",
       "<tbody>\n",
       "<tr><td>Hello  </td><td style=\"text-align: right;\">  0</td></tr>\n",
       "<tr><td>World  </td><td style=\"text-align: right;\">  1</td></tr>\n",
       "<tr><td>Welcome</td><td style=\"text-align: right;\">  2</td></tr>\n",
       "<tr><td>To     </td><td style=\"text-align: right;\">  3</td></tr>\n",
       "<tr><td>H2O    </td><td style=\"text-align: right;\">  4</td></tr>\n",
       "<tr><td>World  </td><td style=\"text-align: right;\">  5</td></tr>\n",
       "</tbody>\n",
       "</table>"
      ]
     },
     "metadata": {},
     "output_type": "display_data"
    },
    {
     "name": "stdout",
     "output_type": "stream",
     "text": [
      "\n"
     ]
    }
   ],
   "source": [
    "df1 = h2o.H2OFrame.from_python( {'A': ['Hello', 'World', 'Welcome', 'To', 'H2O', 'World'], \n",
    "                                 'n': [0, 1, 2, 3, 4, 5]} )\n",
    "print(df1)"
   ]
  },
  {
   "cell_type": "code",
   "execution_count": 89,
   "metadata": {},
   "outputs": [
    {
     "name": "stdout",
     "output_type": "stream",
     "text": [
      "Parse progress: |█████████████████████████████████████████████████████████| 100%\n"
     ]
    },
    {
     "data": {
      "text/html": [
       "<table>\n",
       "<thead>\n",
       "<tr><th style=\"text-align: right;\">  n</th></tr>\n",
       "</thead>\n",
       "<tbody>\n",
       "<tr><td style=\"text-align: right;\">  3</td></tr>\n",
       "<tr><td style=\"text-align: right;\">  0</td></tr>\n",
       "<tr><td style=\"text-align: right;\">  3</td></tr>\n",
       "<tr><td style=\"text-align: right;\">  4</td></tr>\n",
       "<tr><td style=\"text-align: right;\">  4</td></tr>\n",
       "<tr><td style=\"text-align: right;\">  3</td></tr>\n",
       "<tr><td style=\"text-align: right;\">  3</td></tr>\n",
       "<tr><td style=\"text-align: right;\">  5</td></tr>\n",
       "<tr><td style=\"text-align: right;\">  3</td></tr>\n",
       "<tr><td style=\"text-align: right;\">  1</td></tr>\n",
       "</tbody>\n",
       "</table>"
      ]
     },
     "metadata": {},
     "output_type": "display_data"
    },
    {
     "name": "stdout",
     "output_type": "stream",
     "text": [
      "\n"
     ]
    }
   ],
   "source": [
    "# Create a single-column, 100-row frame\n",
    "# Include random integers from 0-5\n",
    "df2 = h2o.H2OFrame.from_python(np.random.randint(0, 6, (100,1)), column_names= list('n'))\n",
    "print(df2)"
   ]
  },
  {
   "cell_type": "code",
   "execution_count": 90,
   "metadata": {},
   "outputs": [
    {
     "data": {
      "text/html": [
       "<table>\n",
       "<thead>\n",
       "<tr><th style=\"text-align: right;\">  n</th><th>A    </th></tr>\n",
       "</thead>\n",
       "<tbody>\n",
       "<tr><td style=\"text-align: right;\">  0</td><td>Hello</td></tr>\n",
       "<tr><td style=\"text-align: right;\">  0</td><td>Hello</td></tr>\n",
       "<tr><td style=\"text-align: right;\">  0</td><td>Hello</td></tr>\n",
       "<tr><td style=\"text-align: right;\">  0</td><td>Hello</td></tr>\n",
       "<tr><td style=\"text-align: right;\">  0</td><td>Hello</td></tr>\n",
       "<tr><td style=\"text-align: right;\">  0</td><td>Hello</td></tr>\n",
       "<tr><td style=\"text-align: right;\">  0</td><td>Hello</td></tr>\n",
       "<tr><td style=\"text-align: right;\">  0</td><td>Hello</td></tr>\n",
       "<tr><td style=\"text-align: right;\">  0</td><td>Hello</td></tr>\n",
       "<tr><td style=\"text-align: right;\">  0</td><td>Hello</td></tr>\n",
       "</tbody>\n",
       "</table>"
      ]
     },
     "metadata": {},
     "output_type": "display_data"
    },
    {
     "name": "stdout",
     "output_type": "stream",
     "text": [
      "\n",
      "(100, 2)\n"
     ]
    }
   ],
   "source": [
    "# Combine column \"n\" from both datasets\n",
    "print(df2.merge(df1))\n",
    "print(df2.merge(df1).shape)"
   ]
  },
  {
   "cell_type": "markdown",
   "metadata": {},
   "source": [
    "## Grouping\n",
    "\n",
    "\"Grouping\" refers to the following process:\n",
    "\n",
    "* splitting the data into groups based on some criteria\n",
    "* applying a function to each group independently\n",
    "* combining the results into an H2OFrame"
   ]
  },
  {
   "cell_type": "code",
   "execution_count": 91,
   "metadata": {},
   "outputs": [
    {
     "name": "stdout",
     "output_type": "stream",
     "text": [
      "Parse progress: |█████████████████████████████████████████████████████████| 100%\n"
     ]
    }
   ],
   "source": [
    "df = h2o.H2OFrame({'A' : ['foo', 'bar', 'foo', 'bar', 'foo', 'bar', 'foo', 'foo'],\n",
    "                   'B' : ['one', 'one', 'two', 'three', 'two', 'two', 'one', 'three'],\n",
    "                   'C' : np.random.randn(8).tolist(),\n",
    "                   'D' : np.random.randn(8).tolist()})"
   ]
  },
  {
   "cell_type": "code",
   "execution_count": 92,
   "metadata": {},
   "outputs": [
    {
     "data": {
      "text/html": [
       "<table>\n",
       "<thead>\n",
       "<tr><th>A  </th><th>B    </th><th style=\"text-align: right;\">        C</th><th style=\"text-align: right;\">         D</th></tr>\n",
       "</thead>\n",
       "<tbody>\n",
       "<tr><td>foo</td><td>one  </td><td style=\"text-align: right;\">-0.306573</td><td style=\"text-align: right;\">-0.0850366</td></tr>\n",
       "<tr><td>bar</td><td>one  </td><td style=\"text-align: right;\">-2.17191 </td><td style=\"text-align: right;\">-0.675158 </td></tr>\n",
       "<tr><td>foo</td><td>two  </td><td style=\"text-align: right;\">-1.30353 </td><td style=\"text-align: right;\"> 0.150156 </td></tr>\n",
       "<tr><td>bar</td><td>three</td><td style=\"text-align: right;\">-0.573381</td><td style=\"text-align: right;\"> 0.74003  </td></tr>\n",
       "<tr><td>foo</td><td>two  </td><td style=\"text-align: right;\">-0.537055</td><td style=\"text-align: right;\"> 0.050292 </td></tr>\n",
       "<tr><td>bar</td><td>two  </td><td style=\"text-align: right;\"> 0.29252 </td><td style=\"text-align: right;\"> 0.151292 </td></tr>\n",
       "<tr><td>foo</td><td>one  </td><td style=\"text-align: right;\">-1.64412 </td><td style=\"text-align: right;\">-0.499572 </td></tr>\n",
       "<tr><td>foo</td><td>three</td><td style=\"text-align: right;\"> 0.314555</td><td style=\"text-align: right;\"> 0.825306 </td></tr>\n",
       "</tbody>\n",
       "</table>"
      ]
     },
     "metadata": {},
     "output_type": "display_data"
    },
    {
     "data": {
      "text/plain": []
     },
     "execution_count": 92,
     "metadata": {},
     "output_type": "execute_result"
    }
   ],
   "source": [
    "df"
   ]
  },
  {
   "cell_type": "markdown",
   "metadata": {},
   "source": [
    "To group and then apply a function to the results"
   ]
  },
  {
   "cell_type": "code",
   "execution_count": 93,
   "metadata": {},
   "outputs": [
    {
     "data": {
      "text/html": [
       "<table>\n",
       "<thead>\n",
       "<tr><th>A  </th><th style=\"text-align: right;\">  sum_B</th><th style=\"text-align: right;\">   sum_C</th><th style=\"text-align: right;\">   sum_D</th></tr>\n",
       "</thead>\n",
       "<tbody>\n",
       "<tr><td>bar</td><td style=\"text-align: right;\">      3</td><td style=\"text-align: right;\">-2.45277</td><td style=\"text-align: right;\">0.216163</td></tr>\n",
       "<tr><td>foo</td><td style=\"text-align: right;\">      5</td><td style=\"text-align: right;\">-3.47673</td><td style=\"text-align: right;\">0.441146</td></tr>\n",
       "</tbody>\n",
       "</table>"
      ]
     },
     "metadata": {},
     "output_type": "display_data"
    },
    {
     "data": {
      "text/plain": []
     },
     "execution_count": 93,
     "metadata": {},
     "output_type": "execute_result"
    }
   ],
   "source": [
    "df.group_by('A').sum().frame"
   ]
  },
  {
   "cell_type": "markdown",
   "metadata": {},
   "source": [
    "To group by multiple columns and then apply a function:"
   ]
  },
  {
   "cell_type": "code",
   "execution_count": 94,
   "metadata": {},
   "outputs": [
    {
     "data": {
      "text/html": [
       "<table>\n",
       "<thead>\n",
       "<tr><th>A  </th><th>B    </th><th style=\"text-align: right;\">    sum_C</th><th style=\"text-align: right;\">    sum_D</th></tr>\n",
       "</thead>\n",
       "<tbody>\n",
       "<tr><td>bar</td><td>one  </td><td style=\"text-align: right;\">-2.17191 </td><td style=\"text-align: right;\">-0.675158</td></tr>\n",
       "<tr><td>bar</td><td>three</td><td style=\"text-align: right;\">-0.573381</td><td style=\"text-align: right;\"> 0.74003 </td></tr>\n",
       "<tr><td>bar</td><td>two  </td><td style=\"text-align: right;\"> 0.29252 </td><td style=\"text-align: right;\"> 0.151292</td></tr>\n",
       "<tr><td>foo</td><td>one  </td><td style=\"text-align: right;\">-1.95069 </td><td style=\"text-align: right;\">-0.584609</td></tr>\n",
       "<tr><td>foo</td><td>three</td><td style=\"text-align: right;\"> 0.314555</td><td style=\"text-align: right;\"> 0.825306</td></tr>\n",
       "<tr><td>foo</td><td>two  </td><td style=\"text-align: right;\">-1.84059 </td><td style=\"text-align: right;\"> 0.200448</td></tr>\n",
       "</tbody>\n",
       "</table>"
      ]
     },
     "metadata": {},
     "output_type": "display_data"
    },
    {
     "data": {
      "text/plain": []
     },
     "execution_count": 94,
     "metadata": {},
     "output_type": "execute_result"
    }
   ],
   "source": [
    "df.group_by(['A','B']).sum().frame"
   ]
  },
  {
   "cell_type": "markdown",
   "metadata": {},
   "source": [
    "## Using Date and Time Data"
   ]
  },
  {
   "cell_type": "code",
   "execution_count": 95,
   "metadata": {},
   "outputs": [
    {
     "name": "stdout",
     "output_type": "stream",
     "text": [
      "Parse progress: |█████████████████████████████████████████████████████████| 100%\n"
     ]
    },
    {
     "data": {
      "text/html": [
       "<table>\n",
       "<thead>\n",
       "<tr><th>D                  </th></tr>\n",
       "</thead>\n",
       "<tbody>\n",
       "<tr><td>2015-10-18 11:00:00</td></tr>\n",
       "<tr><td>2015-10-19 12:00:00</td></tr>\n",
       "<tr><td>2015-10-20 13:00:00</td></tr>\n",
       "</tbody>\n",
       "</table>"
      ]
     },
     "metadata": {},
     "output_type": "display_data"
    },
    {
     "data": {
      "text/plain": []
     },
     "execution_count": 95,
     "metadata": {},
     "output_type": "execute_result"
    }
   ],
   "source": [
    "df = h2o.H2OFrame.from_python({'D': ['18OCT2015:11:00:00', '19OCT2015:12:00:00', '20OCT2015:13:00:00']}, \n",
    "                              column_types=['time'])\n",
    "\n",
    "df"
   ]
  },
  {
   "cell_type": "code",
   "execution_count": 96,
   "metadata": {},
   "outputs": [
    {
     "data": {
      "text/plain": [
       "{'D': 'time'}"
      ]
     },
     "execution_count": 96,
     "metadata": {},
     "output_type": "execute_result"
    }
   ],
   "source": [
    "df.types"
   ]
  },
  {
   "cell_type": "markdown",
   "metadata": {},
   "source": [
    "To display the day of the month:"
   ]
  },
  {
   "cell_type": "code",
   "execution_count": 97,
   "metadata": {},
   "outputs": [
    {
     "data": {
      "text/html": [
       "<table>\n",
       "<thead>\n",
       "<tr><th style=\"text-align: right;\">  D</th></tr>\n",
       "</thead>\n",
       "<tbody>\n",
       "<tr><td style=\"text-align: right;\"> 18</td></tr>\n",
       "<tr><td style=\"text-align: right;\"> 19</td></tr>\n",
       "<tr><td style=\"text-align: right;\"> 20</td></tr>\n",
       "</tbody>\n",
       "</table>"
      ]
     },
     "metadata": {},
     "output_type": "display_data"
    },
    {
     "data": {
      "text/plain": []
     },
     "execution_count": 97,
     "metadata": {},
     "output_type": "execute_result"
    }
   ],
   "source": [
    "df['D'].day()"
   ]
  },
  {
   "cell_type": "markdown",
   "metadata": {},
   "source": [
    "To display the day of the week"
   ]
  },
  {
   "cell_type": "code",
   "execution_count": 98,
   "metadata": {},
   "outputs": [
    {
     "data": {
      "text/html": [
       "<table>\n",
       "<thead>\n",
       "<tr><th>D  </th></tr>\n",
       "</thead>\n",
       "<tbody>\n",
       "<tr><td>Sun</td></tr>\n",
       "<tr><td>Mon</td></tr>\n",
       "<tr><td>Tue</td></tr>\n",
       "</tbody>\n",
       "</table>"
      ]
     },
     "metadata": {},
     "output_type": "display_data"
    },
    {
     "data": {
      "text/plain": []
     },
     "execution_count": 98,
     "metadata": {},
     "output_type": "execute_result"
    }
   ],
   "source": [
    "df['D'].dayOfWeek()"
   ]
  },
  {
   "cell_type": "markdown",
   "metadata": {},
   "source": [
    "## Categoricals\n",
    "\n",
    "    H2O handles categorical (also known as enumerated or factor) values in an H2OFrame. This is signi\f",
    "cant because categorical columns have specific treatments in each of the machine learning algorithms "
   ]
  },
  {
   "cell_type": "code",
   "execution_count": 99,
   "metadata": {},
   "outputs": [
    {
     "name": "stdout",
     "output_type": "stream",
     "text": [
      "Parse progress: |█████████████████████████████████████████████████████████| 100%\n"
     ]
    }
   ],
   "source": [
    "df = h2o.H2OFrame({'A' : ['foo', 'bar', 'foo', 'bar', 'foo', 'bar', 'foo', 'foo'],\n",
    "                   'B' : ['one', 'one', 'two', 'three', 'two', 'two', 'one', 'three'],\n",
    "                   'C' : np.random.randn(8).tolist(),\n",
    "                   'D' : np.random.randn(8).tolist()})"
   ]
  },
  {
   "cell_type": "code",
   "execution_count": 100,
   "metadata": {},
   "outputs": [
    {
     "data": {
      "text/plain": [
       "{'A': 'enum', 'B': 'enum', 'C': 'real', 'D': 'real'}"
      ]
     },
     "execution_count": 100,
     "metadata": {},
     "output_type": "execute_result"
    }
   ],
   "source": [
    "df.types"
   ]
  },
  {
   "cell_type": "markdown",
   "metadata": {},
   "source": [
    "To determine if any column is a categorical/enumerated/factor type:"
   ]
  },
  {
   "cell_type": "code",
   "execution_count": 101,
   "metadata": {},
   "outputs": [
    {
     "data": {
      "text/plain": [
       "True"
      ]
     },
     "execution_count": 101,
     "metadata": {},
     "output_type": "execute_result"
    }
   ],
   "source": [
    "df.anyfactor()"
   ]
  },
  {
   "cell_type": "markdown",
   "metadata": {},
   "source": [
    "To view the categorical levels in a single column:"
   ]
  },
  {
   "cell_type": "code",
   "execution_count": 102,
   "metadata": {},
   "outputs": [
    {
     "data": {
      "text/plain": [
       "[['bar', 'foo']]"
      ]
     },
     "execution_count": 102,
     "metadata": {},
     "output_type": "execute_result"
    }
   ],
   "source": [
    "df[\"A\"].levels()"
   ]
  },
  {
   "cell_type": "code",
   "execution_count": 103,
   "metadata": {},
   "outputs": [],
   "source": [
    "h2o.remove_all()"
   ]
  },
  {
   "cell_type": "markdown",
   "metadata": {},
   "source": [
    "## Loading and Saving Data"
   ]
  },
  {
   "cell_type": "markdown",
   "metadata": {},
   "source": [
    "In addition to loading data from Python objects, H2O can load data directly from:\n",
    "\n",
    "* disk\n",
    "* network file systems (NFS, S3)\n",
    "* distributed file systems (HDFS)\n",
    "* HTTP addresses"
   ]
  },
  {
   "cell_type": "markdown",
   "metadata": {},
   "source": [
    "H2O currently supports the following file types:\n",
    "    \n",
    "* CSV (delimited) files\n",
    "* ORC\n",
    "* SVMLite\n",
    "* Parquet\n",
    "* ARFF\n",
    "* XLS\n",
    "* XLSX\n",
    "* AVRO"
   ]
  },
  {
   "cell_type": "markdown",
   "metadata": {},
   "source": [
    "### To load data from the same machine running H2O:"
   ]
  },
  {
   "cell_type": "raw",
   "metadata": {},
   "source": [
    "df = h2o.upload_file(\"/pathToFile/fileName\")"
   ]
  },
  {
   "cell_type": "markdown",
   "metadata": {},
   "source": [
    "### To load data from the machine(s) running H2O to the machine running Python:"
   ]
  },
  {
   "cell_type": "raw",
   "metadata": {},
   "source": [
    "df = h2o.import_file(\"/pathToFile/fileName\")"
   ]
  },
  {
   "cell_type": "markdown",
   "metadata": {},
   "source": [
    "### To save an H2OFrame on the machine running H2O:"
   ]
  },
  {
   "cell_type": "raw",
   "metadata": {},
   "source": [
    "h2o.export_file(df,\"/pathToFile/fileName\")"
   ]
  },
  {
   "cell_type": "markdown",
   "metadata": {},
   "source": [
    "### To save an H2OFrame on the machine running Python:"
   ]
  },
  {
   "cell_type": "raw",
   "metadata": {},
   "source": [
    "h2o.download_csv(df,\"/pathToFile/fileName\")"
   ]
  },
  {
   "cell_type": "markdown",
   "metadata": {},
   "source": [
    "#### upload_file"
   ]
  },
  {
   "cell_type": "code",
   "execution_count": 104,
   "metadata": {},
   "outputs": [],
   "source": [
    "localFile = \"data/iris.csv\""
   ]
  },
  {
   "cell_type": "markdown",
   "metadata": {},
   "source": [
    "#### Cannot load the data from extrenal path. Filesneeds to be present in local machine"
   ]
  },
  {
   "cell_type": "code",
   "execution_count": 105,
   "metadata": {},
   "outputs": [
    {
     "name": "stdout",
     "output_type": "stream",
     "text": [
      "Parse progress: |█████████████████████████████████████████████████████████| 100%\n"
     ]
    }
   ],
   "source": [
    "# Reading files from local path or machine\n",
    "df1 = h2o.upload_file(localFile, destination_frame=\"uploadfile.hex\")"
   ]
  },
  {
   "cell_type": "code",
   "execution_count": 106,
   "metadata": {},
   "outputs": [
    {
     "name": "stdout",
     "output_type": "stream",
     "text": [
      "<class 'h2o.frame.H2OFrame'>\n",
      "['C1', 'C2', 'C3', 'C4', 'C5']\n",
      "(150, 5)\n"
     ]
    }
   ],
   "source": [
    "print(type(df1))\n",
    "print(df1.columns)\n",
    "print(df1.shape)"
   ]
  },
  {
   "cell_type": "code",
   "execution_count": 107,
   "metadata": {},
   "outputs": [
    {
     "name": "stdout",
     "output_type": "stream",
     "text": [
      "Parse progress: |█████████████████████████████████████████████████████████| 100%\n"
     ]
    }
   ],
   "source": [
    "# Reading files from remote or external location\n",
    "df2 = h2o.upload_file(localFile, destination_frame=\"uploadfile.hex\",\n",
    "                      col_names=['Sepal.Length', 'Sepal.Width', 'Petal.Length', 'Petal.Width', 'Species'])"
   ]
  },
  {
   "cell_type": "code",
   "execution_count": 108,
   "metadata": {},
   "outputs": [
    {
     "data": {
      "text/html": [
       "<div>\n",
       "<style scoped>\n",
       "    .dataframe tbody tr th:only-of-type {\n",
       "        vertical-align: middle;\n",
       "    }\n",
       "\n",
       "    .dataframe tbody tr th {\n",
       "        vertical-align: top;\n",
       "    }\n",
       "\n",
       "    .dataframe thead th {\n",
       "        text-align: right;\n",
       "    }\n",
       "</style>\n",
       "<table border=\"1\" class=\"dataframe\">\n",
       "  <thead>\n",
       "    <tr style=\"text-align: right;\">\n",
       "      <th></th>\n",
       "      <th>key</th>\n",
       "    </tr>\n",
       "  </thead>\n",
       "  <tbody>\n",
       "    <tr>\n",
       "      <th>0</th>\n",
       "      <td>uploadfile.hex</td>\n",
       "    </tr>\n",
       "  </tbody>\n",
       "</table>\n",
       "</div>"
      ],
      "text/plain": [
       "              key\n",
       "0  uploadfile.hex"
      ]
     },
     "execution_count": 108,
     "metadata": {},
     "output_type": "execute_result"
    }
   ],
   "source": [
    "h2o.ls()"
   ]
  },
  {
   "cell_type": "code",
   "execution_count": 109,
   "metadata": {},
   "outputs": [
    {
     "data": {
      "text/plain": [
       "'/home/jeevan/Desktop/H2o_Python/irisdownloadfile.csv'"
      ]
     },
     "execution_count": 109,
     "metadata": {},
     "output_type": "execute_result"
    }
   ],
   "source": [
    "h2o.download_csv(df2, \"irisdownloadfile.csv\")"
   ]
  },
  {
   "cell_type": "code",
   "execution_count": 110,
   "metadata": {},
   "outputs": [
    {
     "data": {
      "text/html": [
       "<div>\n",
       "<style scoped>\n",
       "    .dataframe tbody tr th:only-of-type {\n",
       "        vertical-align: middle;\n",
       "    }\n",
       "\n",
       "    .dataframe tbody tr th {\n",
       "        vertical-align: top;\n",
       "    }\n",
       "\n",
       "    .dataframe thead th {\n",
       "        text-align: right;\n",
       "    }\n",
       "</style>\n",
       "<table border=\"1\" class=\"dataframe\">\n",
       "  <thead>\n",
       "    <tr style=\"text-align: right;\">\n",
       "      <th></th>\n",
       "      <th>key</th>\n",
       "    </tr>\n",
       "  </thead>\n",
       "  <tbody>\n",
       "    <tr>\n",
       "      <th>0</th>\n",
       "      <td>uploadfile.hex</td>\n",
       "    </tr>\n",
       "  </tbody>\n",
       "</table>\n",
       "</div>"
      ],
      "text/plain": [
       "              key\n",
       "0  uploadfile.hex"
      ]
     },
     "execution_count": 110,
     "metadata": {},
     "output_type": "execute_result"
    }
   ],
   "source": [
    "h2o.ls()"
   ]
  },
  {
   "cell_type": "code",
   "execution_count": 111,
   "metadata": {},
   "outputs": [],
   "source": [
    "h2o.remove_all()"
   ]
  },
  {
   "cell_type": "markdown",
   "metadata": {},
   "source": [
    "## Shutdwon the h2o cluster"
   ]
  },
  {
   "cell_type": "code",
   "execution_count": 112,
   "metadata": {},
   "outputs": [
    {
     "name": "stdout",
     "output_type": "stream",
     "text": [
      "H2O session _sid_a718 closed.\n"
     ]
    }
   ],
   "source": [
    "h2o.cluster().shutdown()"
   ]
  }
 ],
 "metadata": {
  "kernelspec": {
   "display_name": "Python 3",
   "language": "python",
   "name": "python3"
  },
  "language_info": {
   "codemirror_mode": {
    "name": "ipython",
    "version": 3
   },
   "file_extension": ".py",
   "mimetype": "text/x-python",
   "name": "python",
   "nbconvert_exporter": "python",
   "pygments_lexer": "ipython3",
   "version": "3.8.5"
  },
  "toc": {
   "base_numbering": 1,
   "nav_menu": {},
   "number_sections": true,
   "sideBar": true,
   "skip_h1_title": false,
   "title_cell": "Table of Contents",
   "title_sidebar": "Contents",
   "toc_cell": true,
   "toc_position": {},
   "toc_section_display": true,
   "toc_window_display": false
  }
 },
 "nbformat": 4,
 "nbformat_minor": 2
}
