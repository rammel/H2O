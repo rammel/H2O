{
 "cells": [
  {
   "cell_type": "markdown",
   "metadata": {
    "toc": true
   },
   "source": [
    "<h1>Table of Contents<span class=\"tocSkip\"></span></h1>\n",
    "<div class=\"toc\"><ul class=\"toc-item\"><li><span><a href=\"#Import-H2O-library\" data-toc-modified-id=\"Import-H2O-library-1\"><span class=\"toc-item-num\">1&nbsp;&nbsp;</span>Import H2O library</a></span></li><li><span><a href=\"#Start-H2O-on-your-local\" data-toc-modified-id=\"Start-H2O-on-your-local-2\"><span class=\"toc-item-num\">2&nbsp;&nbsp;</span>Start H2O on your local</a></span><ul class=\"toc-item\"><li><span><a href=\"#Pointing-to-a-Different-H2O-Cluster\" data-toc-modified-id=\"Pointing-to-a-Different-H2O-Cluster-2.1\"><span class=\"toc-item-num\">2.1&nbsp;&nbsp;</span>Pointing to a Different H2O Cluster</a></span></li></ul></li><li><span><a href=\"#Load-the-data\" data-toc-modified-id=\"Load-the-data-3\"><span class=\"toc-item-num\">3&nbsp;&nbsp;</span>Load the data</a></span></li><li><span><a href=\"#Check-the-top-5-rows\" data-toc-modified-id=\"Check-the-top-5-rows-4\"><span class=\"toc-item-num\">4&nbsp;&nbsp;</span>Check the top 5 rows</a></span></li><li><span><a href=\"#Split-the-data-into-train-and-test-data\" data-toc-modified-id=\"Split-the-data-into-train-and-test-data-5\"><span class=\"toc-item-num\">5&nbsp;&nbsp;</span>Split the data into train and test data</a></span></li><li><span><a href=\"#Principal-Component-Analysis\" data-toc-modified-id=\"Principal-Component-Analysis-6\"><span class=\"toc-item-num\">6&nbsp;&nbsp;</span>Principal Component Analysis</a></span><ul class=\"toc-item\"><li><span><a href=\"#Import-the-PCA\" data-toc-modified-id=\"Import-the-PCA-6.1\"><span class=\"toc-item-num\">6.1&nbsp;&nbsp;</span>Import the PCA</a></span></li><li><span><a href=\"#Defining-the-PCA-model\" data-toc-modified-id=\"Defining-the-PCA-model-6.2\"><span class=\"toc-item-num\">6.2&nbsp;&nbsp;</span>Defining the PCA model</a></span></li><li><span><a href=\"#Training-the-PCA-model\" data-toc-modified-id=\"Training-the-PCA-model-6.3\"><span class=\"toc-item-num\">6.3&nbsp;&nbsp;</span>Training the PCA model</a></span></li><li><span><a href=\"#Model-summary\" data-toc-modified-id=\"Model-summary-6.4\"><span class=\"toc-item-num\">6.4&nbsp;&nbsp;</span>Model summary</a></span></li><li><span><a href=\"#Getting-the-principal-components-by-predicting-using-PCA-model-on-train-data\" data-toc-modified-id=\"Getting-the-principal-components-by-predicting-using-PCA-model-on-train-data-6.5\"><span class=\"toc-item-num\">6.5&nbsp;&nbsp;</span>Getting the principal components by predicting using PCA model on train data</a></span></li><li><span><a href=\"#Getting-the-principal-components-by-predicting-using-PCA-model-on-test-data\" data-toc-modified-id=\"Getting-the-principal-components-by-predicting-using-PCA-model-on-test-data-6.6\"><span class=\"toc-item-num\">6.6&nbsp;&nbsp;</span>Getting the principal components by predicting using PCA model on test data</a></span></li></ul></li><li><span><a href=\"#KMeans-Clustering\" data-toc-modified-id=\"KMeans-Clustering-7\"><span class=\"toc-item-num\">7&nbsp;&nbsp;</span>KMeans Clustering</a></span><ul class=\"toc-item\"><li><span><a href=\"#Importing-the-KMeans-Clustering-package\" data-toc-modified-id=\"Importing-the-KMeans-Clustering-package-7.1\"><span class=\"toc-item-num\">7.1&nbsp;&nbsp;</span>Importing the KMeans Clustering package</a></span></li><li><span><a href=\"#Defining-the-KMeans-model-with-3-clusters\" data-toc-modified-id=\"Defining-the-KMeans-model-with-3-clusters-7.2\"><span class=\"toc-item-num\">7.2&nbsp;&nbsp;</span>Defining the KMeans model with 3 clusters</a></span></li><li><span><a href=\"#Buildng-the-KMeans-model\" data-toc-modified-id=\"Buildng-the-KMeans-model-7.3\"><span class=\"toc-item-num\">7.3&nbsp;&nbsp;</span>Buildng the KMeans model</a></span></li><li><span><a href=\"#Summary-of-the-KMeans-model\" data-toc-modified-id=\"Summary-of-the-KMeans-model-7.4\"><span class=\"toc-item-num\">7.4&nbsp;&nbsp;</span>Summary of the KMeans model</a></span></li><li><span><a href=\"#Getting-the-total-withinness-error-of-all-the-clusters\" data-toc-modified-id=\"Getting-the-total-withinness-error-of-all-the-clusters-7.5\"><span class=\"toc-item-num\">7.5&nbsp;&nbsp;</span>Getting the total withinness error of all the clusters</a></span></li><li><span><a href=\"#Printing-the-cluster-centroids\" data-toc-modified-id=\"Printing-the-cluster-centroids-7.6\"><span class=\"toc-item-num\">7.6&nbsp;&nbsp;</span>Printing the cluster centroids</a></span></li><li><span><a href=\"#Printing-the-total-betwenness-error-for-all-the-clusters\" data-toc-modified-id=\"Printing-the-total-betwenness-error-for-all-the-clusters-7.7\"><span class=\"toc-item-num\">7.7&nbsp;&nbsp;</span>Printing the total betwenness error for all the clusters</a></span></li><li><span><a href=\"#Predicting-the-cluster-numbers-of-all-the-train-data\" data-toc-modified-id=\"Predicting-the-cluster-numbers-of-all-the-train-data-7.8\"><span class=\"toc-item-num\">7.8&nbsp;&nbsp;</span>Predicting the cluster numbers of all the train data</a></span></li><li><span><a href=\"#Displaying-the-train-data-cluster-numbers\" data-toc-modified-id=\"Displaying-the-train-data-cluster-numbers-7.9\"><span class=\"toc-item-num\">7.9&nbsp;&nbsp;</span>Displaying the train data cluster numbers</a></span></li><li><span><a href=\"#Predicting-the-cluster-numbers-on-the-test-data\" data-toc-modified-id=\"Predicting-the-cluster-numbers-on-the-test-data-7.10\"><span class=\"toc-item-num\">7.10&nbsp;&nbsp;</span>Predicting the cluster numbers on the test data</a></span></li><li><span><a href=\"#Displaying-the-test-data-cluster-numbers\" data-toc-modified-id=\"Displaying-the-test-data-cluster-numbers-7.11\"><span class=\"toc-item-num\">7.11&nbsp;&nbsp;</span>Displaying the test data cluster numbers</a></span></li></ul></li><li><span><a href=\"#Shutdown-H2O-cluster\" data-toc-modified-id=\"Shutdown-H2O-cluster-8\"><span class=\"toc-item-num\">8&nbsp;&nbsp;</span>Shutdown H2O cluster</a></span></li></ul></div>"
   ]
  },
  {
   "cell_type": "markdown",
   "metadata": {},
   "source": [
    "H2O includes many common machine learning algorithms, such as \n",
    "\n",
    "    generalized linear modeling (linear regression, logistic regression, etc.), \n",
    "    Naive Bayes, \n",
    "    principal components analysis,\n",
    "    k-means clustering, and \n",
    "    word2vec. \n",
    "\n",
    "H2O implements best in-class algorithms at scale, such as \n",
    "\n",
    "    distributed random forest, \n",
    "    gradient boosting, and \n",
    "    deep learning. \n",
    "\n",
    "H2O also includes a Stacked Ensembles method, which finds the optimal combination of a collection of prediction algorithms using a process known as \"stacking.\" \n",
    "\n",
    "With H2O, customers can build thousands of models and compare the results to get the best predictions."
   ]
  },
  {
   "cell_type": "markdown",
   "metadata": {},
   "source": [
    "# Import H2O library"
   ]
  },
  {
   "cell_type": "code",
   "execution_count": 1,
   "metadata": {},
   "outputs": [],
   "source": [
    "import h2o"
   ]
  },
  {
   "cell_type": "markdown",
   "metadata": {},
   "source": [
    "# Start H2O on your local \n",
    "\n",
    "    Create a one-node H2O cluster on your local machine."
   ]
  },
  {
   "cell_type": "code",
   "execution_count": 2,
   "metadata": {},
   "outputs": [
    {
     "name": "stdout",
     "output_type": "stream",
     "text": [
      "Checking whether there is an H2O instance running at http://localhost:54321 ..... not found.\n",
      "Attempting to start a local H2O server...\n",
      "  Java Version: openjdk version \"14.0.1\" 2020-04-14; OpenJDK Runtime Environment (build 14.0.1+7-Ubuntu-1ubuntu1); OpenJDK 64-Bit Server VM (build 14.0.1+7-Ubuntu-1ubuntu1, mixed mode, sharing)\n",
      "  Starting server from /home/jeevan/anaconda3/envs/h2o/lib/python3.8/site-packages/h2o/backend/bin/h2o.jar\n",
      "  Ice root: /tmp/tmpslwgosz_\n",
      "  JVM stdout: /tmp/tmpslwgosz_/h2o_jeevan_started_from_python.out\n",
      "  JVM stderr: /tmp/tmpslwgosz_/h2o_jeevan_started_from_python.err\n",
      "  Server is running at http://127.0.0.1:54321\n",
      "Connecting to H2O server at http://127.0.0.1:54321 ... successful.\n"
     ]
    },
    {
     "data": {
      "text/html": [
       "<div style=\"overflow:auto\"><table style=\"width:50%\"><tr><td>H2O_cluster_uptime:</td>\n",
       "<td>01 secs</td></tr>\n",
       "<tr><td>H2O_cluster_timezone:</td>\n",
       "<td>Asia/Kolkata</td></tr>\n",
       "<tr><td>H2O_data_parsing_timezone:</td>\n",
       "<td>UTC</td></tr>\n",
       "<tr><td>H2O_cluster_version:</td>\n",
       "<td>3.30.1.2</td></tr>\n",
       "<tr><td>H2O_cluster_version_age:</td>\n",
       "<td>26 days </td></tr>\n",
       "<tr><td>H2O_cluster_name:</td>\n",
       "<td>H2O_from_python_jeevan_9uabpz</td></tr>\n",
       "<tr><td>H2O_cluster_total_nodes:</td>\n",
       "<td>1</td></tr>\n",
       "<tr><td>H2O_cluster_free_memory:</td>\n",
       "<td>3.887 Gb</td></tr>\n",
       "<tr><td>H2O_cluster_total_cores:</td>\n",
       "<td>4</td></tr>\n",
       "<tr><td>H2O_cluster_allowed_cores:</td>\n",
       "<td>4</td></tr>\n",
       "<tr><td>H2O_cluster_status:</td>\n",
       "<td>accepting new members, healthy</td></tr>\n",
       "<tr><td>H2O_connection_url:</td>\n",
       "<td>http://127.0.0.1:54321</td></tr>\n",
       "<tr><td>H2O_connection_proxy:</td>\n",
       "<td>{\"http\": null, \"https\": null}</td></tr>\n",
       "<tr><td>H2O_internal_security:</td>\n",
       "<td>False</td></tr>\n",
       "<tr><td>H2O_API_Extensions:</td>\n",
       "<td>Amazon S3, XGBoost, Algos, AutoML, Core V3, TargetEncoder, Core V4</td></tr>\n",
       "<tr><td>Python_version:</td>\n",
       "<td>3.8.5 final</td></tr></table></div>"
      ],
      "text/plain": [
       "--------------------------  ------------------------------------------------------------------\n",
       "H2O_cluster_uptime:         01 secs\n",
       "H2O_cluster_timezone:       Asia/Kolkata\n",
       "H2O_data_parsing_timezone:  UTC\n",
       "H2O_cluster_version:        3.30.1.2\n",
       "H2O_cluster_version_age:    26 days\n",
       "H2O_cluster_name:           H2O_from_python_jeevan_9uabpz\n",
       "H2O_cluster_total_nodes:    1\n",
       "H2O_cluster_free_memory:    3.887 Gb\n",
       "H2O_cluster_total_cores:    4\n",
       "H2O_cluster_allowed_cores:  4\n",
       "H2O_cluster_status:         accepting new members, healthy\n",
       "H2O_connection_url:         http://127.0.0.1:54321\n",
       "H2O_connection_proxy:       {\"http\": null, \"https\": null}\n",
       "H2O_internal_security:      False\n",
       "H2O_API_Extensions:         Amazon S3, XGBoost, Algos, AutoML, Core V3, TargetEncoder, Core V4\n",
       "Python_version:             3.8.5 final\n",
       "--------------------------  ------------------------------------------------------------------"
      ]
     },
     "metadata": {},
     "output_type": "display_data"
    }
   ],
   "source": [
    "h2o.init()"
   ]
  },
  {
   "cell_type": "markdown",
   "metadata": {},
   "source": [
    "## Pointing to a Different H2O Cluster\n",
    "\n",
    "    To connect to an established H2O cluster (in a multi-node Hadoop environment, for example) specify the IP address and port number for the established cluster using the ip and port parameters in the h2o.init() command."
   ]
  },
  {
   "cell_type": "raw",
   "metadata": {},
   "source": [
    "h2o.init(ip = \"123.45.67.89\", port = 54321)"
   ]
  },
  {
   "cell_type": "markdown",
   "metadata": {},
   "source": [
    "# Load the data"
   ]
  },
  {
   "cell_type": "code",
   "execution_count": 3,
   "metadata": {},
   "outputs": [
    {
     "name": "stdout",
     "output_type": "stream",
     "text": [
      "Parse progress: |█████████████████████████████████████████████████████████| 100%\n"
     ]
    }
   ],
   "source": [
    "train = h2o.import_file(\"https://h2o-public-test-data.s3.amazonaws.com/smalldata/iris/iris_wheader.csv\")"
   ]
  },
  {
   "cell_type": "markdown",
   "metadata": {},
   "source": [
    "# Check the top 5 rows"
   ]
  },
  {
   "cell_type": "code",
   "execution_count": 4,
   "metadata": {},
   "outputs": [
    {
     "data": {
      "text/html": [
       "<table>\n",
       "<thead>\n",
       "<tr><th style=\"text-align: right;\">  sepal_len</th><th style=\"text-align: right;\">  sepal_wid</th><th style=\"text-align: right;\">  petal_len</th><th style=\"text-align: right;\">  petal_wid</th><th>class      </th></tr>\n",
       "</thead>\n",
       "<tbody>\n",
       "<tr><td style=\"text-align: right;\">        5.1</td><td style=\"text-align: right;\">        3.5</td><td style=\"text-align: right;\">        1.4</td><td style=\"text-align: right;\">        0.2</td><td>Iris-setosa</td></tr>\n",
       "<tr><td style=\"text-align: right;\">        4.9</td><td style=\"text-align: right;\">        3  </td><td style=\"text-align: right;\">        1.4</td><td style=\"text-align: right;\">        0.2</td><td>Iris-setosa</td></tr>\n",
       "<tr><td style=\"text-align: right;\">        4.7</td><td style=\"text-align: right;\">        3.2</td><td style=\"text-align: right;\">        1.3</td><td style=\"text-align: right;\">        0.2</td><td>Iris-setosa</td></tr>\n",
       "<tr><td style=\"text-align: right;\">        4.6</td><td style=\"text-align: right;\">        3.1</td><td style=\"text-align: right;\">        1.5</td><td style=\"text-align: right;\">        0.2</td><td>Iris-setosa</td></tr>\n",
       "<tr><td style=\"text-align: right;\">        5  </td><td style=\"text-align: right;\">        3.6</td><td style=\"text-align: right;\">        1.4</td><td style=\"text-align: right;\">        0.2</td><td>Iris-setosa</td></tr>\n",
       "</tbody>\n",
       "</table>"
      ]
     },
     "metadata": {},
     "output_type": "display_data"
    },
    {
     "data": {
      "text/plain": []
     },
     "execution_count": 4,
     "metadata": {},
     "output_type": "execute_result"
    }
   ],
   "source": [
    "train.head(5)"
   ]
  },
  {
   "cell_type": "markdown",
   "metadata": {},
   "source": [
    "# Split the data into train and test data"
   ]
  },
  {
   "cell_type": "code",
   "execution_count": 5,
   "metadata": {},
   "outputs": [],
   "source": [
    "splits = train.split_frame(ratios=[0.8], seed=1234)"
   ]
  },
  {
   "cell_type": "code",
   "execution_count": 6,
   "metadata": {},
   "outputs": [],
   "source": [
    "trainData_hex = splits[0]\n",
    "testData_hex = splits[1]"
   ]
  },
  {
   "cell_type": "raw",
   "metadata": {},
   "source": [
    "# Scaling the data\n",
    "\n",
    "from h2o.transforms.preprocessing import H2OScaler\n",
    "scalingData = H2OScaler(center=True, scale=True)\n",
    "scalingData.fit(X = splits[0],y=[\"class\"])\n",
    "standardizeData = scalingData.transform(trainData_hex)\n",
    "standardizeData.head()"
   ]
  },
  {
   "cell_type": "markdown",
   "metadata": {},
   "source": [
    "# Principal Component Analysis"
   ]
  },
  {
   "cell_type": "markdown",
   "metadata": {},
   "source": [
    "## Import the PCA "
   ]
  },
  {
   "cell_type": "code",
   "execution_count": 7,
   "metadata": {},
   "outputs": [],
   "source": [
    "from h2o.estimators.pca import H2OPrincipalComponentAnalysisEstimator"
   ]
  },
  {
   "cell_type": "raw",
   "metadata": {},
   "source": [
    "PCA Parameter:\n",
    "k : Rank of matrix approximation ( No. of principal components ot select).Type: int (default: 1).\n",
    "transform : Transformation of training data One of: \"none\", \"standardize\", \"normalize\", \"demean\", \"descale\" (default: \"none\").\n",
    "impute_missing: Whether to impute missing entries with the column mean. Type: bool (default: False)."
   ]
  },
  {
   "cell_type": "markdown",
   "metadata": {},
   "source": [
    "## Defining the PCA model"
   ]
  },
  {
   "cell_type": "code",
   "execution_count": 8,
   "metadata": {},
   "outputs": [],
   "source": [
    "pca_decomp = H2OPrincipalComponentAnalysisEstimator(k = -1,\n",
    "                                                    transform=\"standardize\", \n",
    "                                                    pca_method=\"Power\", \n",
    "                                                    impute_missing=True)"
   ]
  },
  {
   "cell_type": "markdown",
   "metadata": {},
   "source": [
    "## Training the PCA model"
   ]
  },
  {
   "cell_type": "code",
   "execution_count": 9,
   "metadata": {},
   "outputs": [
    {
     "name": "stderr",
     "output_type": "stream",
     "text": [
      "/home/jeevan/anaconda3/envs/h2o/lib/python3.8/site-packages/h2o/estimators/estimator_base.py:200: RuntimeWarning: _k is set to be 4\n",
      "  warnings.warn(mesg[\"message\"], RuntimeWarning)\n"
     ]
    },
    {
     "name": "stdout",
     "output_type": "stream",
     "text": [
      "pca Model Build progress: |███████████████████████████████████████████████| 100%\n"
     ]
    }
   ],
   "source": [
    "pca_decomp.train(x=[\"sepal_len\",\"sepal_wid\",\"petal_len\",\"petal_wid\"],\n",
    "                 training_frame = trainData_hex)"
   ]
  },
  {
   "cell_type": "markdown",
   "metadata": {},
   "source": [
    "## Model summary"
   ]
  },
  {
   "cell_type": "code",
   "execution_count": 10,
   "metadata": {
    "scrolled": true
   },
   "outputs": [
    {
     "name": "stdout",
     "output_type": "stream",
     "text": [
      "Model Details\n",
      "=============\n",
      "H2OPrincipalComponentAnalysisEstimator :  Principal Components Analysis\n",
      "Model Key:  PCA_model_python_1601471930054_1\n",
      "\n",
      "\n",
      "Importance of components: \n"
     ]
    },
    {
     "data": {
      "text/html": [
       "<div>\n",
       "<style scoped>\n",
       "    .dataframe tbody tr th:only-of-type {\n",
       "        vertical-align: middle;\n",
       "    }\n",
       "\n",
       "    .dataframe tbody tr th {\n",
       "        vertical-align: top;\n",
       "    }\n",
       "\n",
       "    .dataframe thead th {\n",
       "        text-align: right;\n",
       "    }\n",
       "</style>\n",
       "<table border=\"1\" class=\"dataframe\">\n",
       "  <thead>\n",
       "    <tr style=\"text-align: right;\">\n",
       "      <th></th>\n",
       "      <th></th>\n",
       "      <th>pc1</th>\n",
       "      <th>pc2</th>\n",
       "      <th>pc3</th>\n",
       "      <th>pc4</th>\n",
       "    </tr>\n",
       "  </thead>\n",
       "  <tbody>\n",
       "    <tr>\n",
       "      <th>0</th>\n",
       "      <td>Standard deviation</td>\n",
       "      <td>1.703229</td>\n",
       "      <td>0.954534</td>\n",
       "      <td>0.407910</td>\n",
       "      <td>0.146581</td>\n",
       "    </tr>\n",
       "    <tr>\n",
       "      <th>1</th>\n",
       "      <td>Proportion of Variance</td>\n",
       "      <td>0.725247</td>\n",
       "      <td>0.227784</td>\n",
       "      <td>0.041598</td>\n",
       "      <td>0.005372</td>\n",
       "    </tr>\n",
       "    <tr>\n",
       "      <th>2</th>\n",
       "      <td>Cumulative Proportion</td>\n",
       "      <td>0.725247</td>\n",
       "      <td>0.953031</td>\n",
       "      <td>0.994628</td>\n",
       "      <td>1.000000</td>\n",
       "    </tr>\n",
       "  </tbody>\n",
       "</table>\n",
       "</div>"
      ],
      "text/plain": [
       "                                pc1       pc2       pc3       pc4\n",
       "0      Standard deviation  1.703229  0.954534  0.407910  0.146581\n",
       "1  Proportion of Variance  0.725247  0.227784  0.041598  0.005372\n",
       "2   Cumulative Proportion  0.725247  0.953031  0.994628  1.000000"
      ]
     },
     "metadata": {},
     "output_type": "display_data"
    },
    {
     "name": "stdout",
     "output_type": "stream",
     "text": [
      "\n",
      "\n",
      "ModelMetricsPCA: pca\n",
      "** Reported on train data. **\n",
      "\n",
      "MSE: NaN\n",
      "RMSE: NaN\n",
      "\n",
      "Scoring History from Power SVD: \n"
     ]
    },
    {
     "data": {
      "text/html": [
       "<div>\n",
       "<style scoped>\n",
       "    .dataframe tbody tr th:only-of-type {\n",
       "        vertical-align: middle;\n",
       "    }\n",
       "\n",
       "    .dataframe tbody tr th {\n",
       "        vertical-align: top;\n",
       "    }\n",
       "\n",
       "    .dataframe thead th {\n",
       "        text-align: right;\n",
       "    }\n",
       "</style>\n",
       "<table border=\"1\" class=\"dataframe\">\n",
       "  <thead>\n",
       "    <tr style=\"text-align: right;\">\n",
       "      <th></th>\n",
       "      <th></th>\n",
       "      <th>timestamp</th>\n",
       "      <th>duration</th>\n",
       "      <th>iterations</th>\n",
       "      <th>err</th>\n",
       "      <th>principal_component_</th>\n",
       "    </tr>\n",
       "  </thead>\n",
       "  <tbody>\n",
       "    <tr>\n",
       "      <th>0</th>\n",
       "      <td></td>\n",
       "      <td>2020-09-30 18:48:59</td>\n",
       "      <td>0.117 sec</td>\n",
       "      <td>0.0</td>\n",
       "      <td>8.867971e-01</td>\n",
       "      <td>1.0</td>\n",
       "    </tr>\n",
       "    <tr>\n",
       "      <th>1</th>\n",
       "      <td></td>\n",
       "      <td>2020-09-30 18:48:59</td>\n",
       "      <td>0.117 sec</td>\n",
       "      <td>1.0</td>\n",
       "      <td>2.160698e-01</td>\n",
       "      <td>1.0</td>\n",
       "    </tr>\n",
       "    <tr>\n",
       "      <th>2</th>\n",
       "      <td></td>\n",
       "      <td>2020-09-30 18:48:59</td>\n",
       "      <td>0.117 sec</td>\n",
       "      <td>2.0</td>\n",
       "      <td>6.783221e-02</td>\n",
       "      <td>1.0</td>\n",
       "    </tr>\n",
       "    <tr>\n",
       "      <th>3</th>\n",
       "      <td></td>\n",
       "      <td>2020-09-30 18:48:59</td>\n",
       "      <td>0.117 sec</td>\n",
       "      <td>3.0</td>\n",
       "      <td>2.131927e-02</td>\n",
       "      <td>1.0</td>\n",
       "    </tr>\n",
       "    <tr>\n",
       "      <th>4</th>\n",
       "      <td></td>\n",
       "      <td>2020-09-30 18:48:59</td>\n",
       "      <td>0.117 sec</td>\n",
       "      <td>4.0</td>\n",
       "      <td>6.696521e-03</td>\n",
       "      <td>1.0</td>\n",
       "    </tr>\n",
       "    <tr>\n",
       "      <th>5</th>\n",
       "      <td></td>\n",
       "      <td>2020-09-30 18:48:59</td>\n",
       "      <td>0.117 sec</td>\n",
       "      <td>5.0</td>\n",
       "      <td>2.103246e-03</td>\n",
       "      <td>1.0</td>\n",
       "    </tr>\n",
       "    <tr>\n",
       "      <th>6</th>\n",
       "      <td></td>\n",
       "      <td>2020-09-30 18:48:59</td>\n",
       "      <td>0.117 sec</td>\n",
       "      <td>6.0</td>\n",
       "      <td>6.605826e-04</td>\n",
       "      <td>1.0</td>\n",
       "    </tr>\n",
       "    <tr>\n",
       "      <th>7</th>\n",
       "      <td></td>\n",
       "      <td>2020-09-30 18:48:59</td>\n",
       "      <td>0.117 sec</td>\n",
       "      <td>7.0</td>\n",
       "      <td>2.074740e-04</td>\n",
       "      <td>1.0</td>\n",
       "    </tr>\n",
       "    <tr>\n",
       "      <th>8</th>\n",
       "      <td></td>\n",
       "      <td>2020-09-30 18:48:59</td>\n",
       "      <td>0.117 sec</td>\n",
       "      <td>8.0</td>\n",
       "      <td>6.516289e-05</td>\n",
       "      <td>1.0</td>\n",
       "    </tr>\n",
       "    <tr>\n",
       "      <th>9</th>\n",
       "      <td></td>\n",
       "      <td>2020-09-30 18:48:59</td>\n",
       "      <td>0.117 sec</td>\n",
       "      <td>9.0</td>\n",
       "      <td>2.046619e-05</td>\n",
       "      <td>1.0</td>\n",
       "    </tr>\n",
       "    <tr>\n",
       "      <th>10</th>\n",
       "      <td></td>\n",
       "      <td>2020-09-30 18:48:59</td>\n",
       "      <td>0.117 sec</td>\n",
       "      <td>10.0</td>\n",
       "      <td>6.427913e-06</td>\n",
       "      <td>1.0</td>\n",
       "    </tr>\n",
       "    <tr>\n",
       "      <th>11</th>\n",
       "      <td></td>\n",
       "      <td>2020-09-30 18:48:59</td>\n",
       "      <td>0.117 sec</td>\n",
       "      <td>11.0</td>\n",
       "      <td>2.018214e-06</td>\n",
       "      <td>1.0</td>\n",
       "    </tr>\n",
       "    <tr>\n",
       "      <th>12</th>\n",
       "      <td></td>\n",
       "      <td>2020-09-30 18:48:59</td>\n",
       "      <td>0.117 sec</td>\n",
       "      <td>12.0</td>\n",
       "      <td>6.336061e-07</td>\n",
       "      <td>1.0</td>\n",
       "    </tr>\n",
       "    <tr>\n",
       "      <th>13</th>\n",
       "      <td></td>\n",
       "      <td>2020-09-30 18:48:59</td>\n",
       "      <td>0.117 sec</td>\n",
       "      <td>13.0</td>\n",
       "      <td>1.976862e-07</td>\n",
       "      <td>1.0</td>\n",
       "    </tr>\n",
       "    <tr>\n",
       "      <th>14</th>\n",
       "      <td></td>\n",
       "      <td>2020-09-30 18:48:59</td>\n",
       "      <td>0.117 sec</td>\n",
       "      <td>14.0</td>\n",
       "      <td>7.300048e-08</td>\n",
       "      <td>1.0</td>\n",
       "    </tr>\n",
       "    <tr>\n",
       "      <th>15</th>\n",
       "      <td></td>\n",
       "      <td>2020-09-30 18:48:59</td>\n",
       "      <td>0.117 sec</td>\n",
       "      <td>15.0</td>\n",
       "      <td>4.214685e-08</td>\n",
       "      <td>1.0</td>\n",
       "    </tr>\n",
       "    <tr>\n",
       "      <th>16</th>\n",
       "      <td></td>\n",
       "      <td>2020-09-30 18:48:59</td>\n",
       "      <td>0.117 sec</td>\n",
       "      <td>16.0</td>\n",
       "      <td>NaN</td>\n",
       "      <td>1.0</td>\n",
       "    </tr>\n",
       "    <tr>\n",
       "      <th>17</th>\n",
       "      <td></td>\n",
       "      <td>2020-09-30 18:48:59</td>\n",
       "      <td>0.137 sec</td>\n",
       "      <td>17.0</td>\n",
       "      <td>3.789180e-01</td>\n",
       "      <td>2.0</td>\n",
       "    </tr>\n",
       "    <tr>\n",
       "      <th>18</th>\n",
       "      <td></td>\n",
       "      <td>2020-09-30 18:48:59</td>\n",
       "      <td>0.137 sec</td>\n",
       "      <td>18.0</td>\n",
       "      <td>1.050915e-01</td>\n",
       "      <td>2.0</td>\n",
       "    </tr>\n",
       "    <tr>\n",
       "      <th>19</th>\n",
       "      <td></td>\n",
       "      <td>2020-09-30 18:48:59</td>\n",
       "      <td>0.137 sec</td>\n",
       "      <td>19.0</td>\n",
       "      <td>1.954011e-02</td>\n",
       "      <td>2.0</td>\n",
       "    </tr>\n",
       "  </tbody>\n",
       "</table>\n",
       "</div>"
      ],
      "text/plain": [
       "                timestamp    duration  iterations           err  \\\n",
       "0     2020-09-30 18:48:59   0.117 sec         0.0  8.867971e-01   \n",
       "1     2020-09-30 18:48:59   0.117 sec         1.0  2.160698e-01   \n",
       "2     2020-09-30 18:48:59   0.117 sec         2.0  6.783221e-02   \n",
       "3     2020-09-30 18:48:59   0.117 sec         3.0  2.131927e-02   \n",
       "4     2020-09-30 18:48:59   0.117 sec         4.0  6.696521e-03   \n",
       "5     2020-09-30 18:48:59   0.117 sec         5.0  2.103246e-03   \n",
       "6     2020-09-30 18:48:59   0.117 sec         6.0  6.605826e-04   \n",
       "7     2020-09-30 18:48:59   0.117 sec         7.0  2.074740e-04   \n",
       "8     2020-09-30 18:48:59   0.117 sec         8.0  6.516289e-05   \n",
       "9     2020-09-30 18:48:59   0.117 sec         9.0  2.046619e-05   \n",
       "10    2020-09-30 18:48:59   0.117 sec        10.0  6.427913e-06   \n",
       "11    2020-09-30 18:48:59   0.117 sec        11.0  2.018214e-06   \n",
       "12    2020-09-30 18:48:59   0.117 sec        12.0  6.336061e-07   \n",
       "13    2020-09-30 18:48:59   0.117 sec        13.0  1.976862e-07   \n",
       "14    2020-09-30 18:48:59   0.117 sec        14.0  7.300048e-08   \n",
       "15    2020-09-30 18:48:59   0.117 sec        15.0  4.214685e-08   \n",
       "16    2020-09-30 18:48:59   0.117 sec        16.0           NaN   \n",
       "17    2020-09-30 18:48:59   0.137 sec        17.0  3.789180e-01   \n",
       "18    2020-09-30 18:48:59   0.137 sec        18.0  1.050915e-01   \n",
       "19    2020-09-30 18:48:59   0.137 sec        19.0  1.954011e-02   \n",
       "\n",
       "    principal_component_  \n",
       "0                    1.0  \n",
       "1                    1.0  \n",
       "2                    1.0  \n",
       "3                    1.0  \n",
       "4                    1.0  \n",
       "5                    1.0  \n",
       "6                    1.0  \n",
       "7                    1.0  \n",
       "8                    1.0  \n",
       "9                    1.0  \n",
       "10                   1.0  \n",
       "11                   1.0  \n",
       "12                   1.0  \n",
       "13                   1.0  \n",
       "14                   1.0  \n",
       "15                   1.0  \n",
       "16                   1.0  \n",
       "17                   2.0  \n",
       "18                   2.0  \n",
       "19                   2.0  "
      ]
     },
     "metadata": {},
     "output_type": "display_data"
    },
    {
     "name": "stdout",
     "output_type": "stream",
     "text": [
      "\n",
      "See the whole table with table.as_data_frame()\n"
     ]
    },
    {
     "data": {
      "text/plain": []
     },
     "execution_count": 10,
     "metadata": {},
     "output_type": "execute_result"
    }
   ],
   "source": [
    "pca_decomp"
   ]
  },
  {
   "cell_type": "markdown",
   "metadata": {},
   "source": [
    "## Getting the principal components by predicting using PCA model on train data"
   ]
  },
  {
   "cell_type": "code",
   "execution_count": 11,
   "metadata": {},
   "outputs": [
    {
     "name": "stdout",
     "output_type": "stream",
     "text": [
      "pca prediction progress: |████████████████████████████████████████████████| 100%\n"
     ]
    }
   ],
   "source": [
    "pred_trainPCA = pca_decomp.predict(trainData_hex)"
   ]
  },
  {
   "cell_type": "code",
   "execution_count": 12,
   "metadata": {},
   "outputs": [
    {
     "data": {
      "text/html": [
       "<table>\n",
       "<thead>\n",
       "<tr><th style=\"text-align: right;\">     PC1</th><th style=\"text-align: right;\">      PC2</th><th style=\"text-align: right;\">       PC3</th><th style=\"text-align: right;\">        PC4</th></tr>\n",
       "</thead>\n",
       "<tbody>\n",
       "<tr><td style=\"text-align: right;\">-2.46411</td><td style=\"text-align: right;\"> 0.594951</td><td style=\"text-align: right;\"> 0.148722 </td><td style=\"text-align: right;\"> 0.0230372 </td></tr>\n",
       "<tr><td style=\"text-align: right;\">-2.27978</td><td style=\"text-align: right;\">-0.630588</td><td style=\"text-align: right;\"> 0.210305 </td><td style=\"text-align: right;\"> 0.102435  </td></tr>\n",
       "<tr><td style=\"text-align: right;\">-2.56491</td><td style=\"text-align: right;\">-0.253349</td><td style=\"text-align: right;\">-0.0540234</td><td style=\"text-align: right;\"> 0.0258129 </td></tr>\n",
       "<tr><td style=\"text-align: right;\">-2.59   </td><td style=\"text-align: right;\"> 0.784394</td><td style=\"text-align: right;\"> 0.0126116</td><td style=\"text-align: right;\">-0.0382291 </td></tr>\n",
       "<tr><td style=\"text-align: right;\">-2.27469</td><td style=\"text-align: right;\"> 1.6587  </td><td style=\"text-align: right;\"> 0.0329039</td><td style=\"text-align: right;\"> 0.00401067</td></tr>\n",
       "<tr><td style=\"text-align: right;\">-2.64585</td><td style=\"text-align: right;\"> 0.178301</td><td style=\"text-align: right;\">-0.329047 </td><td style=\"text-align: right;\">-0.0417929 </td></tr>\n",
       "<tr><td style=\"text-align: right;\">-2.43204</td><td style=\"text-align: right;\"> 0.327632</td><td style=\"text-align: right;\"> 0.100091 </td><td style=\"text-align: right;\">-0.0264445 </td></tr>\n",
       "<tr><td style=\"text-align: right;\">-2.53543</td><td style=\"text-align: right;\">-1.0586  </td><td style=\"text-align: right;\">-0.18413  </td><td style=\"text-align: right;\">-0.0308123 </td></tr>\n",
       "<tr><td style=\"text-align: right;\">-2.36459</td><td style=\"text-align: right;\"> 1.17429 </td><td style=\"text-align: right;\"> 0.31073  </td><td style=\"text-align: right;\"> 0.0166898 </td></tr>\n",
       "<tr><td style=\"text-align: right;\">-2.52587</td><td style=\"text-align: right;\"> 0.249755</td><td style=\"text-align: right;\">-0.0846495</td><td style=\"text-align: right;\">-0.137192  </td></tr>\n",
       "</tbody>\n",
       "</table>"
      ]
     },
     "metadata": {},
     "output_type": "display_data"
    },
    {
     "data": {
      "text/plain": []
     },
     "execution_count": 12,
     "metadata": {},
     "output_type": "execute_result"
    }
   ],
   "source": [
    "pred_trainPCA.head()"
   ]
  },
  {
   "cell_type": "markdown",
   "metadata": {},
   "source": [
    "## Getting the principal components by predicting using PCA model on test data"
   ]
  },
  {
   "cell_type": "code",
   "execution_count": 13,
   "metadata": {},
   "outputs": [
    {
     "name": "stdout",
     "output_type": "stream",
     "text": [
      "pca prediction progress: |████████████████████████████████████████████████| 100%\n"
     ]
    }
   ],
   "source": [
    "pred_testPCA = pca_decomp.predict(testData_hex)"
   ]
  },
  {
   "cell_type": "code",
   "execution_count": 14,
   "metadata": {
    "scrolled": true
   },
   "outputs": [
    {
     "data": {
      "text/html": [
       "<table>\n",
       "<thead>\n",
       "<tr><th style=\"text-align: right;\">     PC1</th><th style=\"text-align: right;\">      PC2</th><th style=\"text-align: right;\">       PC3</th><th style=\"text-align: right;\">       PC4</th></tr>\n",
       "</thead>\n",
       "<tbody>\n",
       "<tr><td style=\"text-align: right;\">-2.4995 </td><td style=\"text-align: right;\">-0.519023</td><td style=\"text-align: right;\">-0.110547 </td><td style=\"text-align: right;\">-0.0695787</td></tr>\n",
       "<tr><td style=\"text-align: right;\">-2.38263</td><td style=\"text-align: right;\">-0.411099</td><td style=\"text-align: right;\"> 0.23806  </td><td style=\"text-align: right;\">-0.0407393</td></tr>\n",
       "<tr><td style=\"text-align: right;\">-2.39719</td><td style=\"text-align: right;\"> 2.01601 </td><td style=\"text-align: right;\"> 0.545045 </td><td style=\"text-align: right;\"> 0.197554 </td></tr>\n",
       "<tr><td style=\"text-align: right;\">-2.39021</td><td style=\"text-align: right;\"> 0.606311</td><td style=\"text-align: right;\"> 0.0653881</td><td style=\"text-align: right;\"> 0.0914548</td></tr>\n",
       "<tr><td style=\"text-align: right;\">-2.09552</td><td style=\"text-align: right;\"> 1.53742 </td><td style=\"text-align: right;\"> 0.429197 </td><td style=\"text-align: right;\"> 0.0616973</td></tr>\n",
       "<tr><td style=\"text-align: right;\">-2.54376</td><td style=\"text-align: right;\"> 1.29557 </td><td style=\"text-align: right;\">-0.0855632</td><td style=\"text-align: right;\">-0.0409969</td></tr>\n",
       "<tr><td style=\"text-align: right;\">-2.11098</td><td style=\"text-align: right;\"> 0.489968</td><td style=\"text-align: right;\"> 0.438003 </td><td style=\"text-align: right;\"> 0.0114117</td></tr>\n",
       "<tr><td style=\"text-align: right;\">-2.40756</td><td style=\"text-align: right;\"> 1.07772 </td><td style=\"text-align: right;\">-0.121211 </td><td style=\"text-align: right;\"> 0.056268 </td></tr>\n",
       "<tr><td style=\"text-align: right;\">-2.2509 </td><td style=\"text-align: right;\"> 0.351996</td><td style=\"text-align: right;\">-0.0744691</td><td style=\"text-align: right;\"> 0.0644809</td></tr>\n",
       "<tr><td style=\"text-align: right;\">-2.46486</td><td style=\"text-align: right;\">-0.248413</td><td style=\"text-align: right;\">-0.0777013</td><td style=\"text-align: right;\">-0.111917 </td></tr>\n",
       "</tbody>\n",
       "</table>"
      ]
     },
     "metadata": {},
     "output_type": "display_data"
    },
    {
     "data": {
      "text/plain": []
     },
     "execution_count": 14,
     "metadata": {},
     "output_type": "execute_result"
    }
   ],
   "source": [
    "pred_testPCA.head()"
   ]
  },
  {
   "cell_type": "markdown",
   "metadata": {},
   "source": [
    "# KMeans Clustering"
   ]
  },
  {
   "cell_type": "markdown",
   "metadata": {},
   "source": [
    "## Importing the KMeans Clustering package"
   ]
  },
  {
   "cell_type": "code",
   "execution_count": 15,
   "metadata": {},
   "outputs": [],
   "source": [
    " from h2o.estimators.kmeans import H2OKMeansEstimator"
   ]
  },
  {
   "cell_type": "markdown",
   "metadata": {},
   "source": [
    "## Defining the KMeans model with 3 clusters"
   ]
  },
  {
   "cell_type": "code",
   "execution_count": 16,
   "metadata": {},
   "outputs": [],
   "source": [
    "cluster_estimator = H2OKMeansEstimator(k=3)"
   ]
  },
  {
   "cell_type": "markdown",
   "metadata": {},
   "source": [
    "## Buildng the KMeans model"
   ]
  },
  {
   "cell_type": "code",
   "execution_count": 17,
   "metadata": {},
   "outputs": [
    {
     "name": "stdout",
     "output_type": "stream",
     "text": [
      "kmeans Model Build progress: |████████████████████████████████████████████| 100%\n"
     ]
    }
   ],
   "source": [
    "cluster_estimator.train(x = pred_trainPCA.columns, training_frame = pred_trainPCA)"
   ]
  },
  {
   "cell_type": "markdown",
   "metadata": {},
   "source": [
    "## Summary of the KMeans model"
   ]
  },
  {
   "cell_type": "code",
   "execution_count": 18,
   "metadata": {
    "scrolled": true
   },
   "outputs": [
    {
     "name": "stdout",
     "output_type": "stream",
     "text": [
      "Model Details\n",
      "=============\n",
      "H2OKMeansEstimator :  K-means\n",
      "Model Key:  KMeans_model_python_1601471930054_3\n",
      "\n",
      "\n",
      "Model Summary: \n"
     ]
    },
    {
     "data": {
      "text/html": [
       "<div>\n",
       "<style scoped>\n",
       "    .dataframe tbody tr th:only-of-type {\n",
       "        vertical-align: middle;\n",
       "    }\n",
       "\n",
       "    .dataframe tbody tr th {\n",
       "        vertical-align: top;\n",
       "    }\n",
       "\n",
       "    .dataframe thead th {\n",
       "        text-align: right;\n",
       "    }\n",
       "</style>\n",
       "<table border=\"1\" class=\"dataframe\">\n",
       "  <thead>\n",
       "    <tr style=\"text-align: right;\">\n",
       "      <th></th>\n",
       "      <th></th>\n",
       "      <th>number_of_rows</th>\n",
       "      <th>number_of_clusters</th>\n",
       "      <th>number_of_categorical_columns</th>\n",
       "      <th>number_of_iterations</th>\n",
       "      <th>within_cluster_sum_of_squares</th>\n",
       "      <th>total_sum_of_squares</th>\n",
       "      <th>between_cluster_sum_of_squares</th>\n",
       "    </tr>\n",
       "  </thead>\n",
       "  <tbody>\n",
       "    <tr>\n",
       "      <th>0</th>\n",
       "      <td></td>\n",
       "      <td>123.0</td>\n",
       "      <td>3.0</td>\n",
       "      <td>0.0</td>\n",
       "      <td>9.0</td>\n",
       "      <td>336.445942</td>\n",
       "      <td>488.0</td>\n",
       "      <td>151.554058</td>\n",
       "    </tr>\n",
       "  </tbody>\n",
       "</table>\n",
       "</div>"
      ],
      "text/plain": [
       "     number_of_rows  number_of_clusters  number_of_categorical_columns  \\\n",
       "0             123.0                 3.0                            0.0   \n",
       "\n",
       "   number_of_iterations  within_cluster_sum_of_squares  total_sum_of_squares  \\\n",
       "0                   9.0                     336.445942                 488.0   \n",
       "\n",
       "   between_cluster_sum_of_squares  \n",
       "0                      151.554058  "
      ]
     },
     "metadata": {},
     "output_type": "display_data"
    },
    {
     "name": "stdout",
     "output_type": "stream",
     "text": [
      "\n",
      "\n",
      "ModelMetricsClustering: kmeans\n",
      "** Reported on train data. **\n",
      "\n",
      "MSE: NaN\n",
      "RMSE: NaN\n",
      "Total Within Cluster Sum of Square Error: 336.445944020244\n",
      "Total Sum of Square Error to Grand Mean: 488.0000040672851\n",
      "Between Cluster Sum of Square Error: 151.5540600470411\n",
      "\n",
      "Centroid Statistics: \n"
     ]
    },
    {
     "data": {
      "text/html": [
       "<div>\n",
       "<style scoped>\n",
       "    .dataframe tbody tr th:only-of-type {\n",
       "        vertical-align: middle;\n",
       "    }\n",
       "\n",
       "    .dataframe tbody tr th {\n",
       "        vertical-align: top;\n",
       "    }\n",
       "\n",
       "    .dataframe thead th {\n",
       "        text-align: right;\n",
       "    }\n",
       "</style>\n",
       "<table border=\"1\" class=\"dataframe\">\n",
       "  <thead>\n",
       "    <tr style=\"text-align: right;\">\n",
       "      <th></th>\n",
       "      <th></th>\n",
       "      <th>centroid</th>\n",
       "      <th>size</th>\n",
       "      <th>within_cluster_sum_of_squares</th>\n",
       "    </tr>\n",
       "  </thead>\n",
       "  <tbody>\n",
       "    <tr>\n",
       "      <th>0</th>\n",
       "      <td></td>\n",
       "      <td>1.0</td>\n",
       "      <td>48.0</td>\n",
       "      <td>157.547027</td>\n",
       "    </tr>\n",
       "    <tr>\n",
       "      <th>1</th>\n",
       "      <td></td>\n",
       "      <td>2.0</td>\n",
       "      <td>30.0</td>\n",
       "      <td>63.711434</td>\n",
       "    </tr>\n",
       "    <tr>\n",
       "      <th>2</th>\n",
       "      <td></td>\n",
       "      <td>3.0</td>\n",
       "      <td>45.0</td>\n",
       "      <td>115.187483</td>\n",
       "    </tr>\n",
       "  </tbody>\n",
       "</table>\n",
       "</div>"
      ],
      "text/plain": [
       "     centroid  size  within_cluster_sum_of_squares\n",
       "0         1.0  48.0                     157.547027\n",
       "1         2.0  30.0                      63.711434\n",
       "2         3.0  45.0                     115.187483"
      ]
     },
     "metadata": {},
     "output_type": "display_data"
    },
    {
     "name": "stdout",
     "output_type": "stream",
     "text": [
      "\n",
      "Scoring History: \n"
     ]
    },
    {
     "data": {
      "text/html": [
       "<div>\n",
       "<style scoped>\n",
       "    .dataframe tbody tr th:only-of-type {\n",
       "        vertical-align: middle;\n",
       "    }\n",
       "\n",
       "    .dataframe tbody tr th {\n",
       "        vertical-align: top;\n",
       "    }\n",
       "\n",
       "    .dataframe thead th {\n",
       "        text-align: right;\n",
       "    }\n",
       "</style>\n",
       "<table border=\"1\" class=\"dataframe\">\n",
       "  <thead>\n",
       "    <tr style=\"text-align: right;\">\n",
       "      <th></th>\n",
       "      <th></th>\n",
       "      <th>timestamp</th>\n",
       "      <th>duration</th>\n",
       "      <th>iterations</th>\n",
       "      <th>number_of_reassigned_observations</th>\n",
       "      <th>within_cluster_sum_of_squares</th>\n",
       "    </tr>\n",
       "  </thead>\n",
       "  <tbody>\n",
       "    <tr>\n",
       "      <th>0</th>\n",
       "      <td></td>\n",
       "      <td>2020-09-30 18:48:59</td>\n",
       "      <td>0.040 sec</td>\n",
       "      <td>0.0</td>\n",
       "      <td>NaN</td>\n",
       "      <td>NaN</td>\n",
       "    </tr>\n",
       "    <tr>\n",
       "      <th>1</th>\n",
       "      <td></td>\n",
       "      <td>2020-09-30 18:48:59</td>\n",
       "      <td>0.092 sec</td>\n",
       "      <td>1.0</td>\n",
       "      <td>123.0</td>\n",
       "      <td>471.150406</td>\n",
       "    </tr>\n",
       "    <tr>\n",
       "      <th>2</th>\n",
       "      <td></td>\n",
       "      <td>2020-09-30 18:48:59</td>\n",
       "      <td>0.097 sec</td>\n",
       "      <td>2.0</td>\n",
       "      <td>9.0</td>\n",
       "      <td>355.380110</td>\n",
       "    </tr>\n",
       "    <tr>\n",
       "      <th>3</th>\n",
       "      <td></td>\n",
       "      <td>2020-09-30 18:48:59</td>\n",
       "      <td>0.099 sec</td>\n",
       "      <td>3.0</td>\n",
       "      <td>11.0</td>\n",
       "      <td>347.576942</td>\n",
       "    </tr>\n",
       "    <tr>\n",
       "      <th>4</th>\n",
       "      <td></td>\n",
       "      <td>2020-09-30 18:48:59</td>\n",
       "      <td>0.101 sec</td>\n",
       "      <td>4.0</td>\n",
       "      <td>4.0</td>\n",
       "      <td>340.579745</td>\n",
       "    </tr>\n",
       "    <tr>\n",
       "      <th>5</th>\n",
       "      <td></td>\n",
       "      <td>2020-09-30 18:48:59</td>\n",
       "      <td>0.102 sec</td>\n",
       "      <td>5.0</td>\n",
       "      <td>3.0</td>\n",
       "      <td>339.005655</td>\n",
       "    </tr>\n",
       "    <tr>\n",
       "      <th>6</th>\n",
       "      <td></td>\n",
       "      <td>2020-09-30 18:48:59</td>\n",
       "      <td>0.104 sec</td>\n",
       "      <td>6.0</td>\n",
       "      <td>3.0</td>\n",
       "      <td>338.425502</td>\n",
       "    </tr>\n",
       "    <tr>\n",
       "      <th>7</th>\n",
       "      <td></td>\n",
       "      <td>2020-09-30 18:48:59</td>\n",
       "      <td>0.106 sec</td>\n",
       "      <td>7.0</td>\n",
       "      <td>4.0</td>\n",
       "      <td>337.910888</td>\n",
       "    </tr>\n",
       "    <tr>\n",
       "      <th>8</th>\n",
       "      <td></td>\n",
       "      <td>2020-09-30 18:48:59</td>\n",
       "      <td>0.107 sec</td>\n",
       "      <td>8.0</td>\n",
       "      <td>1.0</td>\n",
       "      <td>336.510114</td>\n",
       "    </tr>\n",
       "    <tr>\n",
       "      <th>9</th>\n",
       "      <td></td>\n",
       "      <td>2020-09-30 18:48:59</td>\n",
       "      <td>0.109 sec</td>\n",
       "      <td>9.0</td>\n",
       "      <td>0.0</td>\n",
       "      <td>336.445942</td>\n",
       "    </tr>\n",
       "  </tbody>\n",
       "</table>\n",
       "</div>"
      ],
      "text/plain": [
       "               timestamp    duration  iterations  \\\n",
       "0    2020-09-30 18:48:59   0.040 sec         0.0   \n",
       "1    2020-09-30 18:48:59   0.092 sec         1.0   \n",
       "2    2020-09-30 18:48:59   0.097 sec         2.0   \n",
       "3    2020-09-30 18:48:59   0.099 sec         3.0   \n",
       "4    2020-09-30 18:48:59   0.101 sec         4.0   \n",
       "5    2020-09-30 18:48:59   0.102 sec         5.0   \n",
       "6    2020-09-30 18:48:59   0.104 sec         6.0   \n",
       "7    2020-09-30 18:48:59   0.106 sec         7.0   \n",
       "8    2020-09-30 18:48:59   0.107 sec         8.0   \n",
       "9    2020-09-30 18:48:59   0.109 sec         9.0   \n",
       "\n",
       "   number_of_reassigned_observations  within_cluster_sum_of_squares  \n",
       "0                                NaN                            NaN  \n",
       "1                              123.0                     471.150406  \n",
       "2                                9.0                     355.380110  \n",
       "3                               11.0                     347.576942  \n",
       "4                                4.0                     340.579745  \n",
       "5                                3.0                     339.005655  \n",
       "6                                3.0                     338.425502  \n",
       "7                                4.0                     337.910888  \n",
       "8                                1.0                     336.510114  \n",
       "9                                0.0                     336.445942  "
      ]
     },
     "metadata": {},
     "output_type": "display_data"
    },
    {
     "data": {
      "text/plain": []
     },
     "execution_count": 18,
     "metadata": {},
     "output_type": "execute_result"
    }
   ],
   "source": [
    "cluster_estimator"
   ]
  },
  {
   "cell_type": "markdown",
   "metadata": {},
   "source": [
    "## Getting the total withinness error of all the clusters"
   ]
  },
  {
   "cell_type": "code",
   "execution_count": 19,
   "metadata": {},
   "outputs": [
    {
     "data": {
      "text/plain": [
       "336.445944020244"
      ]
     },
     "execution_count": 19,
     "metadata": {},
     "output_type": "execute_result"
    }
   ],
   "source": [
    "cluster_estimator.tot_withinss()"
   ]
  },
  {
   "cell_type": "markdown",
   "metadata": {},
   "source": [
    "## Printing the cluster centroids"
   ]
  },
  {
   "cell_type": "code",
   "execution_count": 20,
   "metadata": {
    "scrolled": true
   },
   "outputs": [
    {
     "data": {
      "text/plain": [
       "[[-0.5547495861451811,\n",
       "  0.3255505857189313,\n",
       "  0.3377839217097585,\n",
       "  0.02333124168236662],\n",
       " [1.4723744699387784,\n",
       "  0.3292806609084617,\n",
       "  -0.3326726103021484,\n",
       "  0.11050386450400292],\n",
       " [-0.3898500880709983,\n",
       "  -0.56677439870583,\n",
       "  -0.13852110962231495,\n",
       "  -0.09855590079719434]]"
      ]
     },
     "execution_count": 20,
     "metadata": {},
     "output_type": "execute_result"
    }
   ],
   "source": [
    "cluster_estimator.centers()"
   ]
  },
  {
   "cell_type": "markdown",
   "metadata": {},
   "source": [
    "## Printing the total betwenness error for all the clusters"
   ]
  },
  {
   "cell_type": "code",
   "execution_count": 21,
   "metadata": {},
   "outputs": [
    {
     "data": {
      "text/plain": [
       "151.5540600470411"
      ]
     },
     "execution_count": 21,
     "metadata": {},
     "output_type": "execute_result"
    }
   ],
   "source": [
    "cluster_estimator.betweenss()"
   ]
  },
  {
   "cell_type": "markdown",
   "metadata": {},
   "source": [
    "## Predicting the cluster numbers of all the train data"
   ]
  },
  {
   "cell_type": "code",
   "execution_count": 22,
   "metadata": {},
   "outputs": [
    {
     "name": "stdout",
     "output_type": "stream",
     "text": [
      "kmeans prediction progress: |█████████████████████████████████████████████| 100%\n"
     ]
    }
   ],
   "source": [
    "trainClusNum = cluster_estimator.predict(pred_trainPCA)"
   ]
  },
  {
   "cell_type": "markdown",
   "metadata": {},
   "source": [
    "## Displaying the train data cluster numbers"
   ]
  },
  {
   "cell_type": "code",
   "execution_count": 23,
   "metadata": {},
   "outputs": [
    {
     "data": {
      "text/html": [
       "<table>\n",
       "<thead>\n",
       "<tr><th style=\"text-align: right;\">  predict</th></tr>\n",
       "</thead>\n",
       "<tbody>\n",
       "<tr><td style=\"text-align: right;\">        0</td></tr>\n",
       "<tr><td style=\"text-align: right;\">        0</td></tr>\n",
       "<tr><td style=\"text-align: right;\">        2</td></tr>\n",
       "<tr><td style=\"text-align: right;\">        0</td></tr>\n",
       "<tr><td style=\"text-align: right;\">        0</td></tr>\n",
       "<tr><td style=\"text-align: right;\">        2</td></tr>\n",
       "<tr><td style=\"text-align: right;\">        0</td></tr>\n",
       "<tr><td style=\"text-align: right;\">        2</td></tr>\n",
       "<tr><td style=\"text-align: right;\">        0</td></tr>\n",
       "<tr><td style=\"text-align: right;\">        2</td></tr>\n",
       "</tbody>\n",
       "</table>"
      ]
     },
     "metadata": {},
     "output_type": "display_data"
    },
    {
     "data": {
      "text/plain": []
     },
     "execution_count": 23,
     "metadata": {},
     "output_type": "execute_result"
    }
   ],
   "source": [
    "trainClusNum"
   ]
  },
  {
   "cell_type": "markdown",
   "metadata": {},
   "source": [
    "## Predicting the cluster numbers on the test data"
   ]
  },
  {
   "cell_type": "code",
   "execution_count": 24,
   "metadata": {},
   "outputs": [
    {
     "name": "stdout",
     "output_type": "stream",
     "text": [
      "kmeans prediction progress: |█████████████████████████████████████████████| 100%\n"
     ]
    }
   ],
   "source": [
    "testClusNum = cluster_estimator.predict(pred_testPCA)"
   ]
  },
  {
   "cell_type": "markdown",
   "metadata": {},
   "source": [
    "## Displaying the test data cluster numbers"
   ]
  },
  {
   "cell_type": "code",
   "execution_count": 25,
   "metadata": {},
   "outputs": [
    {
     "data": {
      "text/html": [
       "<table>\n",
       "<thead>\n",
       "<tr><th style=\"text-align: right;\">  predict</th><th style=\"text-align: right;\">  Count</th></tr>\n",
       "</thead>\n",
       "<tbody>\n",
       "<tr><td style=\"text-align: right;\">        0</td><td style=\"text-align: right;\">     13</td></tr>\n",
       "<tr><td style=\"text-align: right;\">        1</td><td style=\"text-align: right;\">      2</td></tr>\n",
       "<tr><td style=\"text-align: right;\">        2</td><td style=\"text-align: right;\">     12</td></tr>\n",
       "</tbody>\n",
       "</table>"
      ]
     },
     "metadata": {},
     "output_type": "display_data"
    },
    {
     "data": {
      "text/plain": []
     },
     "execution_count": 25,
     "metadata": {},
     "output_type": "execute_result"
    }
   ],
   "source": [
    "testClusNum.table()"
   ]
  },
  {
   "cell_type": "markdown",
   "metadata": {},
   "source": [
    "# Shutdown H2O cluster"
   ]
  },
  {
   "cell_type": "code",
   "execution_count": 26,
   "metadata": {},
   "outputs": [
    {
     "name": "stdout",
     "output_type": "stream",
     "text": [
      "H2O session _sid_a4a8 closed.\n"
     ]
    }
   ],
   "source": [
    "h2o.cluster().shutdown()"
   ]
  }
 ],
 "metadata": {
  "kernelspec": {
   "display_name": "Python 3",
   "language": "python",
   "name": "python3"
  },
  "language_info": {
   "codemirror_mode": {
    "name": "ipython",
    "version": 3
   },
   "file_extension": ".py",
   "mimetype": "text/x-python",
   "name": "python",
   "nbconvert_exporter": "python",
   "pygments_lexer": "ipython3",
   "version": "3.8.5"
  },
  "toc": {
   "base_numbering": 1,
   "nav_menu": {},
   "number_sections": true,
   "sideBar": true,
   "skip_h1_title": false,
   "title_cell": "Table of Contents",
   "title_sidebar": "Contents",
   "toc_cell": true,
   "toc_position": {},
   "toc_section_display": true,
   "toc_window_display": false
  }
 },
 "nbformat": 4,
 "nbformat_minor": 2
}
